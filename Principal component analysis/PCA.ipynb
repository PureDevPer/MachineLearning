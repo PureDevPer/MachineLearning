{
 "cells": [
  {
   "cell_type": "markdown",
   "metadata": {},
   "source": [
    "# Homework4 - Wooseok Kim"
   ]
  },
  {
   "cell_type": "code",
   "execution_count": 1,
   "metadata": {},
   "outputs": [],
   "source": [
    "import numpy as np"
   ]
  },
  {
   "cell_type": "markdown",
   "metadata": {},
   "source": [
    "A given matrix is like below:"
   ]
  },
  {
   "cell_type": "markdown",
   "metadata": {},
   "source": [
    "$$\n",
    "X = \n",
    "\\begin{bmatrix}\n",
    "    -2 & 1 & 4 & 6 & 5 & 3 & 6 & 2 \\\\\n",
    "    9 & 3 & 2 & -1 & -4 & -2 & -4 & 5 \\\\\n",
    "    0 & 7 & -5 & 3 & 2 & -3 & 4 & 6\n",
    "\\end{bmatrix}\n",
    "$$"
   ]
  },
  {
   "cell_type": "code",
   "execution_count": 2,
   "metadata": {},
   "outputs": [],
   "source": [
    "X = np.array([ \n",
    "\t[-2, 1, 4, 6, 5, 3, 6, 2],\n",
    "\t[9, 3, 2, -1, -4, -2, -4, 5],\n",
    "\t[0, 7, -5, 3, 2, -3, 4, 6]\n",
    "\t ])"
   ]
  },
  {
   "cell_type": "code",
   "execution_count": 3,
   "metadata": {},
   "outputs": [
    {
     "name": "stdout",
     "output_type": "stream",
     "text": [
      "[[-2  1  4  6  5  3  6  2]\n",
      " [ 9  3  2 -1 -4 -2 -4  5]\n",
      " [ 0  7 -5  3  2 -3  4  6]]\n"
     ]
    }
   ],
   "source": [
    "print(X)"
   ]
  },
  {
   "cell_type": "markdown",
   "metadata": {},
   "source": [
    "1. write command to compute the mean of the data matrix X use function mean. \n",
    "Your code have to return the mean in terms of a bf column vector.\n",
    "2. Use your code, compute the mean of matrix X as given in the problem setting"
   ]
  },
  {
   "cell_type": "markdown",
   "metadata": {},
   "source": [
    "$$\n",
    "mean = \\frac{1}{n}\\sum_{k=1}^nX_k\n",
    "$$"
   ]
  },
  {
   "cell_type": "code",
   "execution_count": 4,
   "metadata": {},
   "outputs": [],
   "source": [
    "X_mean = np.mean(X, axis=1)"
   ]
  },
  {
   "cell_type": "code",
   "execution_count": 5,
   "metadata": {},
   "outputs": [
    {
     "name": "stdout",
     "output_type": "stream",
     "text": [
      "[3.125 1.    1.75 ]\n"
     ]
    }
   ],
   "source": [
    "print(X_mean)"
   ]
  },
  {
   "cell_type": "markdown",
   "metadata": {},
   "source": [
    "3. Write code to center data matrix X, you can't use any loop command\n",
    "Use variable X1 for the resulting centered matrix.\n",
    "4. Use your code, compute the centered data matrix X as given in the problem setting."
   ]
  },
  {
   "cell_type": "markdown",
   "metadata": {},
   "source": [
    "Center Data Matrix  \n",
    "$$\n",
    "    X = \\sum_{k=1}^n(X_k-mean)\n",
    "$$"
   ]
  },
  {
   "cell_type": "code",
   "execution_count": 6,
   "metadata": {},
   "outputs": [],
   "source": [
    "X1 = np.zeros( (len(X), len(X[0]) ))\n",
    "for i in range(len(X[0])):\n",
    "\tX1[:,i] = X[:,i] - X_mean"
   ]
  },
  {
   "cell_type": "code",
   "execution_count": 7,
   "metadata": {},
   "outputs": [
    {
     "name": "stdout",
     "output_type": "stream",
     "text": [
      "[[-5.125 -2.125  0.875  2.875  1.875 -0.125  2.875 -1.125]\n",
      " [ 8.     2.     1.    -2.    -5.    -3.    -5.     4.   ]\n",
      " [-1.75   5.25  -6.75   1.25   0.25  -4.75   2.25   4.25 ]]\n"
     ]
    }
   ],
   "source": [
    "print(X1)"
   ]
  },
  {
   "cell_type": "markdown",
   "metadata": {},
   "source": [
    "5. write code to compute unnormalized covariance matrix of the centered data matrix X1. \n",
    "Use variable C for the resulting covariance matrix.\n",
    "6. use your code, compute the covariance matrix of matrix X as given in the problem setting."
   ]
  },
  {
   "cell_type": "markdown",
   "metadata": {},
   "source": [
    "Covariance Matrix\n",
    "$$\n",
    "    C = XX^T = \\sum_{k=1}^n(X_k-mean)(X_k-mean)^T\n",
    "$$"
   ]
  },
  {
   "cell_type": "code",
   "execution_count": 8,
   "metadata": {},
   "outputs": [
    {
     "name": "stdout",
     "output_type": "stream",
     "text": [
      "covariance matrix\n",
      " [[ 52.875 -78.     -1.75 ]\n",
      " [-78.    148.      6.   ]\n",
      " [ -1.75    6.    123.5  ]]\n"
     ]
    }
   ],
   "source": [
    "C = X1.dot(X1.T)\n",
    "print(\"covariance matrix\\n\", C)"
   ]
  },
  {
   "cell_type": "markdown",
   "metadata": {},
   "source": [
    "7. write code to compute the first principal component.\n",
    "(corresponding to the maximum eigenvalue of C).\n",
    "8. use your code, compute the first principal component \n",
    "and its corresponding principal value for matrix X as given in the problem setting."
   ]
  },
  {
   "cell_type": "markdown",
   "metadata": {},
   "source": [
    "$$\n",
    "    (XX^T)v = \\lambda v\n",
    "$$\n",
    "\n",
    "$$ v = Eigenvector$$ \n",
    "\n",
    "\n",
    "$$ \\lambda = Eigenvalue$$ "
   ]
  },
  {
   "cell_type": "code",
   "execution_count": 9,
   "metadata": {},
   "outputs": [
    {
     "name": "stdout",
     "output_type": "stream",
     "text": [
      "Principal Component\n",
      " [[-0.87168926 -0.48708504  0.05390734]\n",
      " [-0.48990322  0.86889736 -0.07079702]\n",
      " [ 0.01235577  0.08812238  0.99603302]]\n"
     ]
    }
   ],
   "source": [
    "eigenvalue_C, eigenvector_C = np.linalg.eig(C)\n",
    "print(\"Principal Component\\n\", eigenvector_C)"
   ]
  },
  {
   "cell_type": "markdown",
   "metadata": {},
   "source": [
    "9. write code to compute the best 1D representation of data matrix X. \n",
    "[hint: don't forget to add back the data mean].\n",
    "10. use your code, compute the best 1D representation of matrix X as given in the problem setting."
   ]
  },
  {
   "cell_type": "code",
   "execution_count": 11,
   "metadata": {},
   "outputs": [],
   "source": [
    "arrNum = np.argsort(eigenvalue_C)[::-1]\n",
    "eigenvector = eigenvector_C[:,arrNum]\n",
    "eigenvalue = eigenvalue_C[arrNum]\n",
    "\n",
    "\n",
    "bestRep = eigenvalue[0] / np.sum(eigenvalue_C)\n",
    "bestRepVector = eigenvector[:,:1]\n",
    "bestRepMatrix = np.dot(bestRepVector.T, X)"
   ]
  },
  {
   "cell_type": "markdown",
   "metadata": {},
   "source": [
    "Sort eigenvalues and eigenvectors from highest to lowest"
   ]
  },
  {
   "cell_type": "markdown",
   "metadata": {},
   "source": [
    "The best 1D principal value \n",
    "$$\n",
    "    \\frac{\\sum_{i=1}^r\\lambda_i}{\\sum_{i=1}^d\\lambda_i}\n",
    "$$"
   ]
  },
  {
   "cell_type": "markdown",
   "metadata": {},
   "source": [
    "Eigenvector\n",
    "$$\n",
    "v = \n",
    "\\begin{bmatrix}\n",
    "    v_{11} & v_{12} & \\dots  & v_{1r} \\\\\n",
    "    v_{21} & v_{22} & \\dots  & v_{2r} \\\\\n",
    "    \\vdots & \\vdots & \\ddots & \\vdots \\\\\n",
    "    v_{n1} & v_{n2} & \\dots  & v_{nr}\n",
    "\\end{bmatrix}\n",
    "$$\n"
   ]
  },
  {
   "cell_type": "markdown",
   "metadata": {},
   "source": [
    "The best 1D representation \n",
    "$$\n",
    "v^TX\n",
    "$$"
   ]
  },
  {
   "cell_type": "code",
   "execution_count": 14,
   "metadata": {},
   "outputs": [
    {
     "name": "stdout",
     "output_type": "stream",
     "text": [
      "The best 1D representation of matrix X\n",
      " [[ 8.79424627  2.73646372 -0.65115735 -3.52704041 -5.73476983 -3.46341697\n",
      "  -6.04561009  3.89905101]]\n",
      "\n",
      "The best 1D principal component\n",
      " [[-0.48708504]\n",
      " [ 0.86889736]\n",
      " [ 0.08812238]]\n",
      "\n",
      "The best 1D principal value:  0.5929360221022756\n"
     ]
    }
   ],
   "source": [
    "print(\"The best 1D representation of matrix X\\n\", bestRepMatrix)\n",
    "print(\"\\nThe best 1D principal component\\n\", bestRepVector)\n",
    "print(\"\\nThe best 1D principal value: \", bestRep)"
   ]
  },
  {
   "cell_type": "markdown",
   "metadata": {},
   "source": [
    "11. collect all previous steps, \n",
    "write a function with name mypca, which take inputs of a data matrix assuming column data, \n",
    "and return the best $k$-dimensional representation. \n",
    "Your function should use the following declaration: \n",
    "function [rep, pc, pv] = mypca(X, k), \n",
    "where rep contains the optimal k dimensional representation, \n",
    "pc contains k top principal components, \n",
    "and pv contains the top k principal values."
   ]
  },
  {
   "cell_type": "code",
   "execution_count": 15,
   "metadata": {},
   "outputs": [],
   "source": [
    "def mypca(X, k):\n",
    "\tX_mean = np.mean(X, axis=1)\n",
    "\tX1 = np.zeros( (len(X), len(X[0]) ))\n",
    "\tfor i in range(len(X[0])):\n",
    "\t\tX1[:,i] = X[:,i] - X_mean\n",
    "\tC = X1.dot(X1.T)\n",
    "\teigenvalue_C, eigenvector_C = np.linalg.eig(C)\n",
    "\tarrNum = np.argsort(eigenvalue_C)[::-1]\n",
    "\teigenvector = eigenvector_C[:,arrNum]\n",
    "\teigenvalue = eigenvalue_C[arrNum]\n",
    "\n",
    "\tsum = 0\n",
    "\tfor i in range(k):\n",
    "\t\tsum += eigenvalue[i]\n",
    "\t\t\n",
    "\tpv = sum / np.sum(eigenvalue_C)\n",
    "\tpc = eigenvector[:,:k]\n",
    "\trep = np.dot(pc.T, X)\n",
    "\n",
    "\treturn np.array([rep, pc, pv])"
   ]
  },
  {
   "cell_type": "markdown",
   "metadata": {},
   "source": [
    "I made 2 python files, hw4.py, and hw4_instruction.py. All the information above is included in hw4_instruction.py. hw4.py includes below code, which is whole code regarding homework4."
   ]
  },
  {
   "cell_type": "markdown",
   "metadata": {},
   "source": [
    "## Actual Code"
   ]
  },
  {
   "cell_type": "code",
   "execution_count": 16,
   "metadata": {},
   "outputs": [
    {
     "name": "stdout",
     "output_type": "stream",
     "text": [
      "Optimal 1 dimensional representation\n",
      " [[ 8.79424627  2.73646372 -0.65115735 -3.52704041 -5.73476983 -3.46341697\n",
      "  -6.04561009  3.89905101]]\n",
      "1 top principal component\n",
      " [[-0.48708504]\n",
      " [ 0.86889736]\n",
      " [ 0.08812238]]\n",
      "top 1 principal value:  0.5929360221022756\n",
      "\n",
      "\n",
      "Optimal 2 dimensional representation\n",
      " [[ 8.79424627  2.73646372 -0.65115735 -3.52704041 -5.73476983 -3.46341697\n",
      "  -6.04561009  3.89905101]\n",
      " [-0.74498789  6.81374742 -4.9061298   3.38234013  2.54479084 -2.684783\n",
      "   4.59076422  5.73002769]]\n",
      "2 top principal component\n",
      " [[-0.48708504  0.05390734]\n",
      " [ 0.86889736 -0.07079702]\n",
      " [ 0.08812238  0.99603302]]\n",
      "top 2 principal value:  0.9720614555458488\n",
      "\n",
      "\n",
      "Optimal 3 dimensional representation\n",
      " [[ 8.79424627  2.73646372 -0.65115735 -3.52704041 -5.73476983 -3.46341697\n",
      "  -6.04561009  3.89905101]\n",
      " [-0.74498789  6.81374742 -4.9061298   3.38234013  2.54479084 -2.684783\n",
      "   4.59076422  5.73002769]\n",
      " [-2.66575048 -2.25490851 -4.52834236 -4.70316502 -2.37412186 -1.67232866\n",
      "  -3.22109958 -4.11875999]]\n",
      "3 top principal component\n",
      " [[-0.48708504  0.05390734 -0.87168926]\n",
      " [ 0.86889736 -0.07079702 -0.48990322]\n",
      " [ 0.08812238  0.99603302  0.01235577]]\n",
      "top 3 principal value:  1.0\n"
     ]
    }
   ],
   "source": [
    "def mypca(X, k):\n",
    "\tX_mean = np.mean(X, axis=1)\n",
    "\tX1 = np.zeros( (len(X), len(X[0]) ))\n",
    "\tfor i in range(len(X[0])):\n",
    "\t\tX1[:,i] = X[:,i] - X_mean\n",
    "\tC = X1.dot(X1.T)\n",
    "\teigenvalue_C, eigenvector_C = np.linalg.eig(C)\n",
    "\tarrNum = np.argsort(eigenvalue_C)[::-1]\n",
    "\teigenvector = eigenvector_C[:,arrNum]\n",
    "\teigenvalue = eigenvalue_C[arrNum]\n",
    "\n",
    "\tsum = 0\n",
    "\tfor i in range(k):\n",
    "\t\tsum += eigenvalue[i]\n",
    "\t\t\n",
    "\tpv = sum / np.sum(eigenvalue_C)\n",
    "\tpc = eigenvector[:,:k]\n",
    "\trep = np.dot(pc.T, X)\n",
    "\n",
    "\treturn np.array([rep, pc, pv])\n",
    "\n",
    "\n",
    "\n",
    "def main():\n",
    "\tX = np.array([ \n",
    "\t[-2, 1, 4, 6, 5, 3, 6, 2],\n",
    "\t[9, 3, 2, -1, -4, -2, -4, 5],\n",
    "\t[0, 7, -5, 3, 2, -3, 4, 6]\n",
    "\t])\n",
    "\trep1, pc1, pv1 = mypca(X, 1)\n",
    "\trep2, pc2, pv2 = mypca(X, 2)\n",
    "\trep3, pc3, pv3 = mypca(X, 3)\n",
    "\n",
    "\tprint(\"Optimal 1 dimensional representation\\n\", rep1)\n",
    "\tprint(\"1 top principal component\\n\", pc1)\n",
    "\tprint(\"top 1 principal value: \", pv1)\n",
    "\n",
    "\tprint(\"\\n\\nOptimal 2 dimensional representation\\n\", rep2)\n",
    "\tprint(\"2 top principal component\\n\", pc2)\n",
    "\tprint(\"top 2 principal value: \", pv2)\n",
    "\n",
    "\tprint(\"\\n\\nOptimal 3 dimensional representation\\n\", rep3)\n",
    "\tprint(\"3 top principal component\\n\", pc3)\n",
    "\tprint(\"top 3 principal value: \", pv3)\n",
    "\n",
    "if __name__ == \"__main__\":\n",
    "\tmain()"
   ]
  },
  {
   "cell_type": "code",
   "execution_count": null,
   "metadata": {},
   "outputs": [],
   "source": []
  }
 ],
 "metadata": {
  "kernelspec": {
   "display_name": "Python 3",
   "language": "python",
   "name": "python3"
  },
  "language_info": {
   "codemirror_mode": {
    "name": "ipython",
    "version": 3
   },
   "file_extension": ".py",
   "mimetype": "text/x-python",
   "name": "python",
   "nbconvert_exporter": "python",
   "pygments_lexer": "ipython3",
   "version": "3.7.1"
  }
 },
 "nbformat": 4,
 "nbformat_minor": 2
}
