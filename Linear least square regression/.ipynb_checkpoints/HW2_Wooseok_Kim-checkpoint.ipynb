{
 "cells": [
  {
   "cell_type": "markdown",
   "metadata": {},
   "source": [
    "# Homework2: Wooseok Kim"
   ]
  },
  {
   "cell_type": "code",
   "execution_count": 3,
   "metadata": {},
   "outputs": [],
   "source": [
    "import matplotlib.pyplot as plt\n",
    "import numpy as np\n",
    "from numpy.linalg import inv"
   ]
  },
  {
   "cell_type": "markdown",
   "metadata": {},
   "source": [
    "I will use matplotlib, numpy and numpy.linalg for this homework."
   ]
  },
  {
   "cell_type": "code",
   "execution_count": 2,
   "metadata": {},
   "outputs": [],
   "source": [
    "data = np.loadtxt('hw2.dat', delimiter=' ')"
   ]
  },
  {
   "cell_type": "markdown",
   "metadata": {},
   "source": [
    "Let's load data file using loadtxt"
   ]
  },
  {
   "cell_type": "code",
   "execution_count": 4,
   "metadata": {},
   "outputs": [],
   "source": [
    "x, y = data[:,0], data[:,1]\n",
    "data_len = np.size(x)"
   ]
  },
  {
   "cell_type": "markdown",
   "metadata": {},
   "source": [
    "A first column of the data is x.\n",
    "A second column of the data is y.\n",
    "data_len is the size of the first column, which is 300."
   ]
  },
  {
   "cell_type": "code",
   "execution_count": 5,
   "metadata": {},
   "outputs": [],
   "source": [
    "x_np, y_np = np.array([x]), np.array([y])\n",
    "ones_arr = np.ones(data_len)\n",
    "ones_arr_np = np.array([ones_arr])"
   ]
  },
  {
   "cell_type": "markdown",
   "metadata": {},
   "source": [
    "All the data have 1 in an array"
   ]
  },
  {
   "cell_type": "markdown",
   "metadata": {},
   "source": [
    "I used basis functions and normal equation in lecture note."
   ]
  },
  {
   "cell_type": "markdown",
   "metadata": {},
   "source": [
    "$$\n",
    "y = \n",
    "\\begin{bmatrix}\n",
    "    y_{1} \\\\\n",
    "    y_{2} \\\\\n",
    "    \\vdots \\\\\n",
    "    y_{n}\n",
    "\\end{bmatrix}\n",
    "$$"
   ]
  },
  {
   "cell_type": "markdown",
   "metadata": {},
   "source": [
    "$$\n",
    "p = \n",
    "\\begin{bmatrix}\n",
    "    a_{1} \\\\\n",
    "    a_{2} \\\\\n",
    "    \\vdots \\\\\n",
    "    a_{n}\n",
    "\\end{bmatrix}\n",
    "$$"
   ]
  },
  {
   "cell_type": "markdown",
   "metadata": {},
   "source": [
    "$$\n",
    "F = \n",
    "\\begin{bmatrix}\n",
    "    g_{1}(x_{1}) & g_{2}(x_{1}) & g_{3}(x_{1}) & \\dots  & g_{d}(x_{1}) \\\\\n",
    "    g_{1}(x_{2}) & g_{2}(x_{2}) & x_{23} & \\dots  & g_{d}(x_{2}) \\\\\n",
    "    \\vdots & \\vdots & \\vdots & \\ddots & \\vdots \\\\\n",
    "    g_{1}(x_{n}) & g_{2}(x_{n}) & x_{d3} & \\dots  & g_{d}(x_{n})\n",
    "\\end{bmatrix}\n",
    "=\n",
    "\\begin{bmatrix}\n",
    "    1 & x_{1} & x_{1}^{2} & \\dots  & x_{1}^{k} \\\\\n",
    "    1 & x_{2} & x_{2}^{2} & \\dots  & x_{2}^{k} \\\\\n",
    "    \\vdots & \\vdots & \\vdots & \\ddots & \\vdots \\\\\n",
    "    1 & x_{n} & x_{n}^{2} & \\dots  & x_{n}^{k}\n",
    "\\end{bmatrix}\n",
    "$$"
   ]
  },
  {
   "cell_type": "markdown",
   "metadata": {},
   "source": [
    "$$X^TXp=X^Ty$$"
   ]
  },
  {
   "cell_type": "markdown",
   "metadata": {},
   "source": [
    "$$p=(X^TX)^{-1}X^Ty$$"
   ]
  },
  {
   "cell_type": "markdown",
   "metadata": {},
   "source": [
    "## Degree - 1"
   ]
  },
  {
   "cell_type": "code",
   "execution_count": 8,
   "metadata": {},
   "outputs": [],
   "source": [
    "A = np.concatenate((ones_arr_np.T, x_np.T), axis=1) # Degree-1"
   ]
  },
  {
   "cell_type": "markdown",
   "metadata": {},
   "source": [
    "$$\n",
    "\\begin{bmatrix}\n",
    "    1 & x_{1} \\\\\n",
    "    1 & x_{2} \\\\\\\n",
    "    \\vdots & \\vdots \\\\\n",
    "    1 & x_{n} \n",
    "\\end{bmatrix}\n",
    "$$"
   ]
  },
  {
   "cell_type": "code",
   "execution_count": 9,
   "metadata": {},
   "outputs": [],
   "source": [
    "C = np.dot(np.dot(np.linalg.inv(np.dot(A.T, A)), A.T), y)"
   ]
  },
  {
   "cell_type": "markdown",
   "metadata": {},
   "source": [
    "$$p=(X^TX)^{-1}X^Ty$$"
   ]
  },
  {
   "cell_type": "code",
   "execution_count": 20,
   "metadata": {},
   "outputs": [],
   "source": [
    "x_draw = np.linspace(-10, 10, 10000)\n",
    "y_draw, sum_x = 0, 0"
   ]
  },
  {
   "cell_type": "code",
   "execution_count": 11,
   "metadata": {},
   "outputs": [],
   "source": [
    "for i in range(2):\n",
    "\ty_draw += C[i]*(x_draw**i)\n",
    "\tsum_x += C[i]*(x**i)"
   ]
  },
  {
   "cell_type": "markdown",
   "metadata": {},
   "source": [
    "$$ y\\_draw  = C[0] + C[1]*(x\\_draw^1)$$\n",
    "$$ sum\\_x = C[0] + C[1]*(x^1)$$\n"
   ]
  },
  {
   "cell_type": "code",
   "execution_count": 12,
   "metadata": {},
   "outputs": [],
   "source": [
    "sum_square = np.sum((y-sum_x)**2)"
   ]
  },
  {
   "cell_type": "markdown",
   "metadata": {},
   "source": [
    "$$sum\\_square=\\sum_{i=0}^n(y_i-sum\\_x_i)^2$$"
   ]
  },
  {
   "cell_type": "code",
   "execution_count": 15,
   "metadata": {},
   "outputs": [
    {
     "name": "stdout",
     "output_type": "stream",
     "text": [
      "\n",
      "Coefficient(order-1):  [ 21.463462   -62.50802079]\n",
      "Residual:  24428690.735389516 \n",
      "Optimal fit error:  81428.96911796505\n"
     ]
    }
   ],
   "source": [
    "print(\"\\nCoefficient(order-1): \", C)\n",
    "print(\"Residual: \", sum_square, \"\\nOptimal fit error: \", sum_square/np.size(x))"
   ]
  },
  {
   "cell_type": "code",
   "execution_count": 16,
   "metadata": {},
   "outputs": [
    {
     "data": {
      "image/png": "[encoded data removed]",
      "text/plain": [
       "<Figure size 432x288 with 1 Axes>"
      ]
     },
     "metadata": {
      "needs_background": "light"
     },
     "output_type": "display_data"
    }
   ],
   "source": [
    "plt.title(\"Order: 1\")\n",
    "plt.plot(x, y, '.', label='Raw Data')\n",
    "plt.plot(x_draw, y_draw, '-', label='Regression')\n",
    "plt.legend(loc='best')\n",
    "plt.show()\n"
   ]
  },
  {
   "cell_type": "markdown",
   "metadata": {},
   "source": [
    "## Degree - 3"
   ]
  },
  {
   "cell_type": "code",
   "execution_count": 18,
   "metadata": {},
   "outputs": [],
   "source": [
    "A = np.concatenate((ones_arr_np.T, x_np.T, (x_np**2).T, (x_np**3).T), axis=1)"
   ]
  },
  {
   "cell_type": "markdown",
   "metadata": {},
   "source": [
    "$$\n",
    "\\begin{bmatrix}\n",
    "    1 & x_{1} & x_{1}^{2} &  x_{1}^{3} \\\\\n",
    "    1 & x_{2} & x_{2}^{2} &  x_{2}^{3} \\\\\n",
    "    \\vdots & \\vdots  & \\vdots & \\vdots \\\\\n",
    "    1 & x_{n} & x_{n}^{2} &  x_{n}^{3}\n",
    "\\end{bmatrix}\n",
    "$$"
   ]
  },
  {
   "cell_type": "code",
   "execution_count": 19,
   "metadata": {},
   "outputs": [],
   "source": [
    "C = np.dot(np.dot(np.linalg.inv(np.dot(A.T, A)), A.T), y)"
   ]
  },
  {
   "cell_type": "markdown",
   "metadata": {},
   "source": [
    "$$p=(X^TX)^{-1}X^Ty$$"
   ]
  },
  {
   "cell_type": "code",
   "execution_count": 21,
   "metadata": {},
   "outputs": [],
   "source": [
    "x_draw = np.linspace(-10, 10, 10000)\n",
    "y_draw, sum_x = 0, 0"
   ]
  },
  {
   "cell_type": "code",
   "execution_count": 22,
   "metadata": {},
   "outputs": [],
   "source": [
    "y_draw, sum_x = 0, 0\n",
    "for i in range(4):\n",
    "\ty_draw += C[i]*(x_draw**i)\n",
    "\tsum_x += C[i]*(x**i)"
   ]
  },
  {
   "cell_type": "markdown",
   "metadata": {},
   "source": [
    "$$ y\\_draw  = C[0] + C[1]*(x\\_draw^1) + C[2]*(x\\_draw^2) + C[3]*(x\\_draw^3)$$\n",
    "$$ sum\\_x = C[0] + C[1]*(x^1) + C[2]*(x^2) + C[3]*(x^3)$$"
   ]
  },
  {
   "cell_type": "code",
   "execution_count": 24,
   "metadata": {},
   "outputs": [],
   "source": [
    "sum_square = np.sum((y-sum_x)**2)"
   ]
  },
  {
   "cell_type": "markdown",
   "metadata": {},
   "source": [
    "$$sum\\_square=\\sum_{i=0}^n(y_i-sum\\_x_i)^2$$"
   ]
  },
  {
   "cell_type": "code",
   "execution_count": 25,
   "metadata": {},
   "outputs": [
    {
     "name": "stdout",
     "output_type": "stream",
     "text": [
      "\n",
      "Coefficient(order-3):  [-12.52936915 -12.62612795   1.01300895  -0.8258531 ]\n",
      "Residual:  19380682.10461033 \n",
      "Optimal fit error:  64602.273682034436\n"
     ]
    }
   ],
   "source": [
    "print(\"\\nCoefficient(order-3): \", C)\n",
    "print(\"Residual: \", sum_square, \"\\nOptimal fit error: \", sum_square/np.size(x))"
   ]
  },
  {
   "cell_type": "code",
   "execution_count": 26,
   "metadata": {},
   "outputs": [
    {
     "data": {
      "image/png": "[encoded data removed]",
      "text/plain": [
       "<Figure size 432x288 with 1 Axes>"
      ]
     },
     "metadata": {
      "needs_background": "light"
     },
     "output_type": "display_data"
    }
   ],
   "source": [
    "plt.title(\"Order: 3\")\n",
    "plt.plot(x, y, '.', label='Raw Data')\n",
    "plt.plot(x_draw, y_draw, '-', label='Regression')\n",
    "plt.legend(loc='best')\n",
    "plt.show()"
   ]
  },
  {
   "cell_type": "markdown",
   "metadata": {},
   "source": [
    "## Degree - 5"
   ]
  },
  {
   "cell_type": "markdown",
   "metadata": {},
   "source": [
    "#### Degree-5 and Degree-7 are the same as above."
   ]
  },
  {
   "cell_type": "code",
   "execution_count": 29,
   "metadata": {},
   "outputs": [
    {
     "name": "stdout",
     "output_type": "stream",
     "text": [
      "\n",
      "Coefficient(order-5):  [-5.08531140e+01 -1.57128463e+01  4.82011657e+00 -6.82751700e-01\n",
      " -4.41227651e-02 -1.27944031e-03]\n",
      "Residual:  26150834.583551634 \n",
      "Optimal fit error:  87169.44861183879\n"
     ]
    }
   ],
   "source": [
    "A = np.concatenate((ones_arr_np.T, x_np.T, (x_np**2).T, (x_np**3).T, (x_np**4).T, (x_np**5).T), axis=1)\n",
    "C = np.dot(np.dot(np.linalg.inv(np.dot(A.T, A)), A.T), y)\n",
    "x_draw = np.linspace(-10, 10, 10000)\n",
    "y_draw, sum_x = 0, 0\n",
    "for i in range(4):\n",
    "\ty_draw += C[i]*(x_draw**i)\n",
    "\tsum_x += C[i]*(x**i)\n",
    "\n",
    "sum_square = np.sum((y-sum_x)**2)\n",
    "print(\"\\nCoefficient(order-5): \", C)\n",
    "print(\"Residual: \", sum_square, \"\\nOptimal fit error: \", sum_square/np.size(x))"
   ]
  },
  {
   "cell_type": "code",
   "execution_count": 30,
   "metadata": {},
   "outputs": [
    {
     "data": {
      "image/png": "[encoded data removed]",
      "text/plain": [
       "<Figure size 432x288 with 1 Axes>"
      ]
     },
     "metadata": {
      "needs_background": "light"
     },
     "output_type": "display_data"
    }
   ],
   "source": [
    "plt.title(\"Order: 5\")\n",
    "plt.plot(x, y, '.', label='Raw Data')\n",
    "plt.plot(x_draw, y_draw, '-', label='Regression')\n",
    "plt.legend(loc='best')\n",
    "plt.show()"
   ]
  },
  {
   "cell_type": "markdown",
   "metadata": {},
   "source": [
    "## Degree - 7"
   ]
  },
  {
   "cell_type": "code",
   "execution_count": 31,
   "metadata": {},
   "outputs": [
    {
     "name": "stdout",
     "output_type": "stream",
     "text": [
      "\n",
      "Coefficient(order-7):  [-4.61622370e+01 -2.91366769e+01  3.84144730e+00  5.17578931e-01\n",
      " -1.49543134e-02 -2.75155264e-02 -2.12502741e-04  1.61358610e-04]\n",
      "Residual:  18944163.087041147 \n",
      "Optimal fit error:  63147.210290137155\n"
     ]
    }
   ],
   "source": [
    "A = np.concatenate((ones_arr_np.T, x_np.T, (x_np**2).T, (x_np**3).T, (x_np**4).T, (x_np**5).T, (x_np**6).T, (x_np**7).T), axis=1)\n",
    "C = np.dot(np.dot(np.linalg.inv(np.dot(A.T, A)), A.T), y)\n",
    "x_draw = np.linspace(-10, 10, 10000)\n",
    "y_draw, sum_x = 0, 0\n",
    "for i in range(8):\n",
    "\ty_draw += C[i]*(x_draw**i)\n",
    "\tsum_x += C[i]*(x**i)\n",
    "sum_square = np.sum((y-sum_x)**2)\n",
    "print(\"\\nCoefficient(order-7): \", C)\n",
    "print(\"Residual: \", sum_square, \"\\nOptimal fit error: \", sum_square/np.size(x))"
   ]
  },
  {
   "cell_type": "code",
   "execution_count": 33,
   "metadata": {},
   "outputs": [
    {
     "data": {
      "image/png": "[encoded data removed]",
      "text/plain": [
       "<Figure size 432x288 with 1 Axes>"
      ]
     },
     "metadata": {
      "needs_background": "light"
     },
     "output_type": "display_data"
    }
   ],
   "source": [
    "plt.title(\"Order: 7\")\n",
    "plt.plot(x, y, '.', label='Raw Data')\n",
    "plt.plot(x_draw, y_draw, '-', label='Regression')\n",
    "plt.legend(loc='best')\n",
    "plt.show()"
   ]
  },
  {
   "cell_type": "code",
   "execution_count": null,
   "metadata": {},
   "outputs": [],
   "source": []
  }
 ],
 "metadata": {
  "kernelspec": {
   "display_name": "Python 3",
   "language": "python",
   "name": "python3"
  },
  "language_info": {
   "codemirror_mode": {
    "name": "ipython",
    "version": 3
   },
   "file_extension": ".py",
   "mimetype": "text/x-python",
   "name": "python",
   "nbconvert_exporter": "python",
   "pygments_lexer": "ipython3",
   "version": "3.7.1"
  }
 },
 "nbformat": 4,
 "nbformat_minor": 2
}
