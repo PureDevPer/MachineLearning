{
 "cells": [
  {
   "cell_type": "markdown",
   "metadata": {},
   "source": [
    "# Data"
   ]
  },
  {
   "cell_type": "markdown",
   "metadata": {},
   "source": [
    "https://www.kaggle.com/crawford/emnist"
   ]
  },
  {
   "cell_type": "markdown",
   "metadata": {},
   "source": [
    "## Load data"
   ]
  },
  {
   "cell_type": "code",
   "execution_count": 3,
   "metadata": {},
   "outputs": [
    {
     "data": {
      "text/plain": [
       "<Figure size 640x480 with 1 Axes>"
      ]
     },
     "metadata": {},
     "output_type": "display_data"
    },
    {
     "data": {
      "text/plain": [
       "<Figure size 640x480 with 1 Axes>"
      ]
     },
     "metadata": {},
     "output_type": "display_data"
    }
   ],
   "source": [
    "import numpy as np\n",
    "import pandas as pd\n",
    "import matplotlib.pyplot as plt\n",
    "import random\n",
    "import tensorflow as tf\n",
    "\n",
    "\n",
    "train = pd.read_csv('emnist/emnist-balanced-train.csv', header=None)\n",
    "#train = pd.read_csv('emnist-digits-train.csv', header=None)\n",
    "\n",
    "test = pd.read_csv('emnist/emnist-balanced-test.csv', header=None)\n",
    "#test = pd.read_csv('emnist-digits-test.csv', header=None)\n",
    "\n",
    "#train.head()\n",
    "\n",
    "# Number of Train\n",
    "numTrain = len(train)\n",
    "# Number of Test\n",
    "numTest = len(test)\n",
    "# Number of Classes\n",
    "numClasses = len(train[0].unique())\n",
    "\n",
    "train_data = train.iloc[:, 1:]\n",
    "train_labels = train.iloc[:, 0]\n",
    "test_data = test.iloc[:, 1:]\n",
    "test_labels = test.iloc[:, 0]\n",
    "\n",
    "# one-hot encoding\n",
    "train_labels = pd.get_dummies(train_labels)\n",
    "test_labels = pd.get_dummies(test_labels)\n",
    "#train_labels.head()\n",
    "\n",
    "train_data = train_data.values\n",
    "train_labels = train_labels.values\n",
    "test_data = test_data.values\n",
    "test_labels = test_labels.values\n",
    "#del train, test\n",
    "\n",
    "\n",
    "rand = random.randint(0, numTrain - 1)\n",
    "\n",
    "\n",
    "plt.imshow(\n",
    "\ttrain_data[rand].reshape([28, 28]), \n",
    "\tcmap='Greys'\n",
    "\t)\n",
    "plt.show()\n",
    "\n",
    "\n",
    "def rotate(image):\n",
    "    image = image.reshape([28, 28])\n",
    "    image = np.fliplr(image)\n",
    "    image = np.rot90(image)\n",
    "    return image.reshape([28 * 28])\n",
    "train_data = np.apply_along_axis(rotate, 1, train_data)/255\n",
    "test_data = np.apply_along_axis(rotate, 1, test_data)/255\n",
    "\n",
    "\n",
    "plt.imshow(\n",
    "\ttrain_data[rand].reshape([28, 28]), \n",
    "\tcmap='Greys'\n",
    "\t)\n",
    "plt.show()\n",
    "\n"
   ]
  },
  {
   "cell_type": "code",
   "execution_count": 14,
   "metadata": {},
   "outputs": [],
   "source": [
    "tf.set_random_seed(777)  # for reproducibility\n",
    "\n",
    "\n",
    "tf.reset_default_graph()\n",
    "\n",
    "# EMNIST data image of shape 28 * 28 = 784\n",
    "X = tf.placeholder(tf.float32, [None, 784])\n",
    "# 47 classes: 10 digits, 26 letters, and 11 capital letters \n",
    "Y = tf.placeholder(tf.float32, [None, numClasses])"
   ]
  },
  {
   "cell_type": "markdown",
   "metadata": {},
   "source": [
    "A given data have 28*28 image. So we need 784. Also, the data we are currently using has 47 classes, which includes 10 digits (0~9), 26 letters, and 11 capital letters."
   ]
  },
  {
   "cell_type": "code",
   "execution_count": 8,
   "metadata": {},
   "outputs": [
    {
     "name": "stdout",
     "output_type": "stream",
     "text": [
      "WARNING:tensorflow:From /anaconda3/lib/python3.7/site-packages/tensorflow/python/framework/op_def_library.py:263: colocate_with (from tensorflow.python.framework.ops) is deprecated and will be removed in a future version.\n",
      "Instructions for updating:\n",
      "Colocations handled automatically by placer.\n"
     ]
    }
   ],
   "source": [
    "W = tf.Variable(tf.random_normal([784, numClasses]))\n",
    "b = tf.Variable(tf.random_normal([numClasses]))\n",
    "\n",
    "# Hypothesis (using softmax)\n",
    "hypothesis = tf.nn.softmax(tf.matmul(X, W) + b)"
   ]
  },
  {
   "cell_type": "markdown",
   "metadata": {},
   "source": [
    "Multinomial Classfication\n",
    "$$\n",
    "W = \n",
    "\\begin{bmatrix}\n",
    "    w_{11} & w_{12} & \\dots & w_{1n} \\\\\n",
    "    w_{21} & w_{22} & \\dots & w_{2n} \\\\\n",
    "    \\vdots & \\vdots & \\ddots & \\vdots \\\\\n",
    "    w_{n1} & w_{n2} & \\dots & w_{nn}\n",
    "\\end{bmatrix}\n",
    "$$"
   ]
  },
  {
   "cell_type": "markdown",
   "metadata": {},
   "source": [
    "$$\n",
    "X = \n",
    "\\begin{bmatrix}\n",
    "    x_{1} \\\\\n",
    "    x_{2} \\\\\n",
    "    \\vdots \\\\\n",
    "    x_{n}\n",
    "\\end{bmatrix}\n",
    "$$"
   ]
  },
  {
   "cell_type": "markdown",
   "metadata": {},
   "source": [
    "Softmax\n",
    "$$\n",
    "S(y_i) = \\frac{e^y_i} {\\sum_j e^y_i}\n",
    "$$"
   ]
  },
  {
   "cell_type": "markdown",
   "metadata": {},
   "source": [
    "In sum, let's suppose y = XW\n",
    "$$\n",
    "XW = y  => \\frac{e^y_i} {\\sum_j e^y_i} => Probabilities\n",
    "$$"
   ]
  },
  {
   "cell_type": "markdown",
   "metadata": {},
   "source": [
    "This is Softmax on Tensorflow. \n",
    "softmax(tf.matmul(X, W) + b).\n",
    "So, tf.nn.softmax computes softmax activations. We can say that \n",
    "$$\n",
    "softmax = \\frac{exp(logits)} {reduce_sum(exp(logits), dim)}\n",
    "$$"
   ]
  },
  {
   "cell_type": "markdown",
   "metadata": {},
   "source": [
    "$$\n",
    "cost(W) = -\\frac {1} {m} \\sum ylog(H(x)) + (1-y)log(1-H(x)) \n",
    "$$"
   ]
  },
  {
   "cell_type": "code",
   "execution_count": 9,
   "metadata": {},
   "outputs": [],
   "source": [
    "cost = tf.reduce_mean(-tf.reduce_sum(Y * tf.log(hypothesis), axis=1))"
   ]
  },
  {
   "cell_type": "markdown",
   "metadata": {},
   "source": [
    "$$\n",
    "W = W -\\alpha \\frac{\\partial}{\\partial W} cost(W)\n",
    "$$"
   ]
  },
  {
   "cell_type": "code",
   "execution_count": 10,
   "metadata": {},
   "outputs": [
    {
     "name": "stdout",
     "output_type": "stream",
     "text": [
      "WARNING:tensorflow:From /anaconda3/lib/python3.7/site-packages/tensorflow/python/ops/math_ops.py:3066: to_int32 (from tensorflow.python.ops.math_ops) is deprecated and will be removed in a future version.\n",
      "Instructions for updating:\n",
      "Use tf.cast instead.\n"
     ]
    }
   ],
   "source": [
    "train = tf.train.GradientDescentOptimizer(learning_rate=0.1).minimize(cost)"
   ]
  },
  {
   "cell_type": "code",
   "execution_count": 11,
   "metadata": {},
   "outputs": [],
   "source": [
    "# Test model\n",
    "is_correct = tf.equal(tf.argmax(hypothesis, 1), tf.argmax(Y, 1))\n",
    "\n",
    "# Calculate accuracy\n",
    "accuracy = tf.reduce_mean(tf.cast(is_correct, tf.float32))"
   ]
  },
  {
   "cell_type": "code",
   "execution_count": 12,
   "metadata": {},
   "outputs": [],
   "source": [
    "# parameters\n",
    "num_epochs = 20\n",
    "batch_size = 100\n",
    "num_iterations = int( numTrain / batch_size)"
   ]
  },
  {
   "cell_type": "markdown",
   "metadata": {},
   "source": [
    "epoch = one forward pass and one backward pass of all the training examples\n"
   ]
  },
  {
   "cell_type": "markdown",
   "metadata": {},
   "source": [
    "batch size = Number of training examples in one forward/backward pass. The higher the batch size is, the more memory space you'll need is"
   ]
  },
  {
   "cell_type": "markdown",
   "metadata": {},
   "source": [
    "Number of iterations = number of passes, each pass using batch size number of examples. To be clear, one pass = one forward pass + one backward pass (we do not count the forward pass and backward pass as two different passes)."
   ]
  },
  {
   "cell_type": "code",
   "execution_count": 13,
   "metadata": {},
   "outputs": [
    {
     "name": "stdout",
     "output_type": "stream",
     "text": [
      "Epoch: 0001, Cost: 7.535348112\n",
      "Epoch: 0002, Cost: 3.600892323\n",
      "Epoch: 0003, Cost: 2.895812646\n",
      "Epoch: 0004, Cost: 2.544323784\n",
      "Epoch: 0005, Cost: 2.325526564\n",
      "Epoch: 0006, Cost: 2.173207242\n",
      "Epoch: 0007, Cost: 2.059379699\n",
      "Epoch: 0008, Cost: 1.970048657\n",
      "Epoch: 0009, Cost: 1.897403872\n",
      "Epoch: 0010, Cost: 1.836728343\n",
      "Epoch: 0011, Cost: 1.785000423\n",
      "Epoch: 0012, Cost: 1.740186279\n",
      "Epoch: 0013, Cost: 1.700859137\n",
      "Epoch: 0014, Cost: 1.665982329\n",
      "Epoch: 0015, Cost: 1.634779895\n",
      "Epoch: 0016, Cost: 1.606655899\n",
      "Epoch: 0017, Cost: 1.581142828\n",
      "Epoch: 0018, Cost: 1.557867535\n",
      "Epoch: 0019, Cost: 1.536527669\n",
      "Epoch: 0020, Cost: 1.516875225\n",
      "Learning finished\n",
      "Accuracy:  0.60835105\n",
      "Label:  [34]\n",
      "Prediction:  [31]\n"
     ]
    },
    {
     "data": {
      "image/png": "[encoded data removed]",
      "text/plain": [
       "<Figure size 432x288 with 1 Axes>"
      ]
     },
     "metadata": {
      "needs_background": "light"
     },
     "output_type": "display_data"
    }
   ],
   "source": [
    "with tf.Session() as sess:\n",
    "    # Initialize TensorFlow variables\n",
    "    sess.run(tf.global_variables_initializer())\n",
    "    # Training\n",
    "    for epoch in range(num_epochs):\n",
    "        avg_cost = 0\n",
    "\n",
    "        for i in range(num_iterations):\n",
    "            batch_xs, batch_ys = train_data[i * 100: (i + 1) * 100], train_labels[i * 100: (i + 1) * 100]\n",
    "            _, cost_val = sess.run([train, cost], feed_dict={X: batch_xs, Y: batch_ys})\n",
    "            avg_cost += cost_val / num_iterations\n",
    "\n",
    "        print(\"Epoch: {:04d}, Cost: {:.9f}\".format(epoch + 1, avg_cost))\n",
    "\n",
    "    print(\"Learning finished\")\n",
    "\n",
    "    # Test the model using test sets\n",
    "    print(\n",
    "        \"Accuracy: \",\n",
    "        accuracy.eval(\n",
    "            session=sess, feed_dict={X: test_data, Y: test_labels}\n",
    "        ),\n",
    "    )\n",
    "\n",
    "    # Get Label and predict\n",
    "    r = random.randint(0, numTest - 1)\n",
    "    print(\"Label: \", sess.run(tf.argmax(test_labels[r : r + 1], 1)))\n",
    "    print(\n",
    "        \"Prediction: \",\n",
    "        sess.run(tf.argmax(hypothesis, 1), feed_dict={X: test_data[r : r + 1]}),\n",
    "    )\n",
    "\n",
    "    plt.imshow(\n",
    "        test_data[r : r + 1].reshape(28, 28),\n",
    "        cmap=\"Greys\",\n",
    "        interpolation=\"nearest\",\n",
    "    )\n",
    "    plt.show()"
   ]
  },
  {
   "cell_type": "code",
   "execution_count": 3,
   "metadata": {},
   "outputs": [
    {
     "data": {
      "image/png": "[encoded data removed]",
      "text/plain": [
       "<Figure size 432x288 with 1 Axes>"
      ]
     },
     "metadata": {
      "needs_background": "light"
     },
     "output_type": "display_data"
    },
    {
     "data": {
      "image/png": "[encoded data removed]",
      "text/plain": [
       "<Figure size 432x288 with 1 Axes>"
      ]
     },
     "metadata": {
      "needs_background": "light"
     },
     "output_type": "display_data"
    },
    {
     "name": "stdout",
     "output_type": "stream",
     "text": [
      "Epoch: 0001, Cost: 7.547921529\n",
      "Epoch: 0002, Cost: 3.549412508\n",
      "Epoch: 0003, Cost: 2.870119521\n",
      "Epoch: 0004, Cost: 2.537144286\n",
      "Epoch: 0005, Cost: 2.327276375\n",
      "Epoch: 0006, Cost: 2.178609756\n",
      "Epoch: 0007, Cost: 2.065841219\n",
      "Epoch: 0008, Cost: 1.976394502\n",
      "Epoch: 0009, Cost: 1.903183774\n",
      "Epoch: 0010, Cost: 1.841836590\n",
      "Epoch: 0011, Cost: 1.789477016\n",
      "Epoch: 0012, Cost: 1.744119655\n",
      "Epoch: 0013, Cost: 1.704340942\n",
      "Epoch: 0014, Cost: 1.669089417\n",
      "Epoch: 0015, Cost: 1.637570259\n",
      "Epoch: 0016, Cost: 1.609170834\n",
      "Epoch: 0017, Cost: 1.583410778\n",
      "Epoch: 0018, Cost: 1.559907521\n",
      "Epoch: 0019, Cost: 1.538352199\n",
      "Epoch: 0020, Cost: 1.518492334\n",
      "Learning finished\n",
      "Accuracy:  0.6109043\n",
      "Label:  [7]\n",
      "Prediction:  [7]\n"
     ]
    },
    {
     "data": {
      "image/png": "[encoded data removed]",
      "text/plain": [
       "<Figure size 432x288 with 1 Axes>"
      ]
     },
     "metadata": {
      "needs_background": "light"
     },
     "output_type": "display_data"
    }
   ],
   "source": [
    "import numpy as np\n",
    "import pandas as pd\n",
    "import matplotlib.pyplot as plt\n",
    "import random\n",
    "import tensorflow as tf\n",
    "\n",
    "\n",
    "train = pd.read_csv('emnist/emnist-balanced-train.csv', header=None)\n",
    "#train = pd.read_csv('emnist-digits-train.csv', header=None)\n",
    "\n",
    "test = pd.read_csv('emnist/emnist-balanced-test.csv', header=None)\n",
    "#test = pd.read_csv('emnist-digits-test.csv', header=None)\n",
    "\n",
    "#train.head()\n",
    "\n",
    "# Number of Train\n",
    "numTrain = len(train)\n",
    "# Number of Test\n",
    "numTest = len(test)\n",
    "# Number of Classes\n",
    "numClasses = len(train[0].unique())\n",
    "\n",
    "train_data = train.iloc[:, 1:]\n",
    "train_labels = train.iloc[:, 0]\n",
    "test_data = test.iloc[:, 1:]\n",
    "test_labels = test.iloc[:, 0]\n",
    "\n",
    "# one-hot encoding\n",
    "train_labels = pd.get_dummies(train_labels)\n",
    "test_labels = pd.get_dummies(test_labels)\n",
    "#train_labels.head()\n",
    "\n",
    "train_data = train_data.values\n",
    "train_labels = train_labels.values\n",
    "test_data = test_data.values\n",
    "test_labels = test_labels.values\n",
    "#del train, test\n",
    "\n",
    "\n",
    "rand = random.randint(0, numTrain - 1)\n",
    "\n",
    "\n",
    "plt.imshow(\n",
    "\ttrain_data[rand].reshape([28, 28]), \n",
    "\tcmap='Greys'\n",
    "\t)\n",
    "plt.show()\n",
    "\n",
    "\n",
    "def rotate(image):\n",
    "    image = image.reshape([28, 28])\n",
    "    image = np.fliplr(image)\n",
    "    image = np.rot90(image)\n",
    "    return image.reshape([28 * 28])\n",
    "train_data = np.apply_along_axis(rotate, 1, train_data)/255\n",
    "test_data = np.apply_along_axis(rotate, 1, test_data)/255\n",
    "\n",
    "\n",
    "plt.imshow(\n",
    "\ttrain_data[rand].reshape([28, 28]), \n",
    "\tcmap='Greys'\n",
    "\t)\n",
    "plt.show()\n",
    "\n",
    "\n",
    "tf.set_random_seed(777)  # for reproducibility\n",
    "\n",
    "#numClasses = 10\n",
    "#numClasses = 47\n",
    "\n",
    "tf.reset_default_graph()\n",
    "\n",
    "# EMNIST data image of shape 28 * 28 = 784\n",
    "X = tf.placeholder(tf.float32, [None, 784])\n",
    "# 47 classes: 10 digits, 26 letters, and 11 capital letters \n",
    "Y = tf.placeholder(tf.float32, [None, numClasses])\n",
    "\n",
    "W = tf.Variable(tf.random_normal([784, numClasses]))\n",
    "b = tf.Variable(tf.random_normal([numClasses]))\n",
    "\n",
    "# Hypothesis (using softmax)\n",
    "hypothesis = tf.nn.softmax(tf.matmul(X, W) + b)\n",
    "\n",
    "cost = tf.reduce_mean(-tf.reduce_sum(Y * tf.log(hypothesis), axis=1))\n",
    "train = tf.train.GradientDescentOptimizer(learning_rate=0.1).minimize(cost)\n",
    "\n",
    "# Test model\n",
    "is_correct = tf.equal(tf.argmax(hypothesis, 1), tf.argmax(Y, 1))\n",
    "\n",
    "# Calculate accuracy\n",
    "accuracy = tf.reduce_mean(tf.cast(is_correct, tf.float32))\n",
    "\n",
    "# parameters\n",
    "num_epochs = 20\n",
    "batch_size = 100\n",
    "num_iterations = int( numTrain / batch_size)\n",
    "\n",
    "with tf.Session() as sess:\n",
    "    # Initialize TensorFlow variables\n",
    "    sess.run(tf.global_variables_initializer())\n",
    "    # Training\n",
    "    for epoch in range(num_epochs):\n",
    "        avg_cost = 0\n",
    "\n",
    "        for i in range(num_iterations):\n",
    "            batch_xs, batch_ys = train_data[i * 100: (i + 1) * 100], train_labels[i * 100: (i + 1) * 100]\n",
    "            _, cost_val = sess.run([train, cost], feed_dict={X: batch_xs, Y: batch_ys})\n",
    "            avg_cost += cost_val / num_iterations\n",
    "\n",
    "        print(\"Epoch: {:04d}, Cost: {:.9f}\".format(epoch + 1, avg_cost))\n",
    "\n",
    "    print(\"Learning finished\")\n",
    "\n",
    "    # Test the model using test sets\n",
    "    print(\n",
    "        \"Accuracy: \",\n",
    "        accuracy.eval(\n",
    "            session=sess, feed_dict={X: test_data, Y: test_labels}\n",
    "        ),\n",
    "    )\n",
    "\n",
    "    # Get Label and predict\n",
    "    r = random.randint(0, numTest - 1)\n",
    "    print(\"Label: \", sess.run(tf.argmax(test_labels[r : r + 1], 1)))\n",
    "    print(\n",
    "        \"Prediction: \",\n",
    "        sess.run(tf.argmax(hypothesis, 1), feed_dict={X: test_data[r : r + 1]}),\n",
    "    )\n",
    "\n",
    "    plt.imshow(\n",
    "        test_data[r : r + 1].reshape(28, 28),\n",
    "        cmap=\"Greys\",\n",
    "        interpolation=\"nearest\",\n",
    "    )\n",
    "    plt.show()"
   ]
  },
  {
   "cell_type": "markdown",
   "metadata": {},
   "source": [
    "### Reference"
   ]
  },
  {
   "cell_type": "markdown",
   "metadata": {},
   "source": [
    "Gregory Cohen, Saeed Afshar, Jonathan Tapson, and Andre ́ van Schaik, \"EMNIST: an extension of MNIST to handwritten letters\", March 2017"
   ]
  },
  {
   "cell_type": "code",
   "execution_count": null,
   "metadata": {},
   "outputs": [],
   "source": []
  }
 ],
 "metadata": {
  "kernelspec": {
   "display_name": "Python 3",
   "language": "python",
   "name": "python3"
  },
  "language_info": {
   "codemirror_mode": {
    "name": "ipython",
    "version": 3
   },
   "file_extension": ".py",
   "mimetype": "text/x-python",
   "name": "python",
   "nbconvert_exporter": "python",
   "pygments_lexer": "ipython3",
   "version": "3.7.1"
  }
 },
 "nbformat": 4,
 "nbformat_minor": 2
}
