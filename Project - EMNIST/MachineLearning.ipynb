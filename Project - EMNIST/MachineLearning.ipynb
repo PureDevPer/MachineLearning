{
  "nbformat": 4,
  "nbformat_minor": 0,
  "metadata": {
    "colab": {
      "name": "MachineLearning.ipynb",
      "version": "0.3.2",
      "provenance": [],
      "collapsed_sections": []
    },
    "kernelspec": {
      "name": "python3",
      "display_name": "Python 3"
    },
    "accelerator": "GPU"
  },
  "cells": [
    {
      "cell_type": "markdown",
      "metadata": {
        "id": "o-1zcOVH538d",
        "colab_type": "text"
      },
      "source": [
        "# Recognizing Hand-Written Characters using Tensorflow\n",
        "\n",
        "\n",
        "*   Wooseok Kim\n",
        "*   James Schallert\n",
        "\n"
      ]
    },
    {
      "cell_type": "markdown",
      "metadata": {
        "id": "Y8jNgQUv5i3k",
        "colab_type": "text"
      },
      "source": [
        "# Setting Google Account / Google Drive "
      ]
    },
    {
      "cell_type": "markdown",
      "metadata": {
        "id": "W8NjhJc2Hf_B",
        "colab_type": "text"
      },
      "source": [
        "When we run below code, it takes so long. Thus, we decide to use Google CoLab to save much time because Google CoLab offers decent GPU."
      ]
    },
    {
      "cell_type": "code",
      "metadata": {
        "id": "3FgRssuh0WKo",
        "colab_type": "code",
        "outputId": "9ab0a9a4-b84d-477a-fa66-d85a99b9f669",
        "colab": {
          "base_uri": "https://localhost:8080/",
          "height": 545
        }
      },
      "source": [
        "!apt-get install -y -qq software-properties-common python-software-properties module-init-tools\n",
        "!add-apt-repository -y ppa:alessandro-strada/ppa 2>&1 > /dev/null\n",
        "!apt-get update -qq 2>&1 > /dev/null\n",
        "!apt-get -y install -qq google-drive-ocamlfuse fuse\n",
        "from google.colab import auth\n",
        "auth.authenticate_user()\n",
        "from oauth2client.client import GoogleCredentials\n",
        "creds = GoogleCredentials.get_application_default()\n",
        "import getpass\n",
        "!google-drive-ocamlfuse -headless -id={creds.client_id} -secret={creds.client_secret} < /dev/null 2>&1 | grep URL\n",
        "vcode = getpass.getpass()\n",
        "!echo {vcode} | google-drive-ocamlfuse -headless -id={creds.client_id} -secret={creds.client_secret}"
      ],
      "execution_count": 0,
      "outputs": [
        {
          "output_type": "stream",
          "text": [
            "E: Package 'python-software-properties' has no installation candidate\n",
            "Selecting previously unselected package google-drive-ocamlfuse.\n",
            "(Reading database ... 131304 files and directories currently installed.)\n",
            "Preparing to unpack .../google-drive-ocamlfuse_0.7.3-0ubuntu3~ubuntu18.04.1_amd64.deb ...\n",
            "Unpacking google-drive-ocamlfuse (0.7.3-0ubuntu3~ubuntu18.04.1) ...\n",
            "Setting up google-drive-ocamlfuse (0.7.3-0ubuntu3~ubuntu18.04.1) ...\n",
            "Processing triggers for man-db (2.8.3-2ubuntu0.1) ...\n",
            "Please, open the following URL in a web browser: https://accounts.google.com/o/oauth2/auth?client_id=32555940559.apps.googleusercontent.com&redirect_uri=urn%3Aietf%3Awg%3Aoauth%3A2.0%3Aoob&scope=https%3A%2F%2Fwww.googleapis.com%2Fauth%2Fdrive&response_type=code&access_type=offline&approval_prompt=force\n",
            "··········\n",
            "Please, open the following URL in a web browser: https://accounts.google.com/o/oauth2/auth?client_id=32555940559.apps.googleusercontent.com&redirect_uri=urn%3Aietf%3Awg%3Aoauth%3A2.0%3Aoob&scope=https%3A%2F%2Fwww.googleapis.com%2Fauth%2Fdrive&response_type=code&access_type=offline&approval_prompt=force\n",
            "Please enter the verification code: Access token retrieved correctly.\n"
          ],
          "name": "stdout"
        }
      ]
    },
    {
      "cell_type": "markdown",
      "metadata": {
        "id": "qGkfd2QE4jge",
        "colab_type": "text"
      },
      "source": [
        "Connecting Google Account"
      ]
    },
    {
      "cell_type": "code",
      "metadata": {
        "id": "h67HRmyM1h_P",
        "colab_type": "code",
        "colab": {}
      },
      "source": [
        "!mkdir -p drive\n",
        "!google-drive-ocamlfuse drive"
      ],
      "execution_count": 0,
      "outputs": []
    },
    {
      "cell_type": "markdown",
      "metadata": {
        "id": "e7OYGmch40uS",
        "colab_type": "text"
      },
      "source": [
        "Connecting Google Drive"
      ]
    },
    {
      "cell_type": "code",
      "metadata": {
        "id": "NzxvopyZ22Bn",
        "colab_type": "code",
        "outputId": "859ed46c-96c9-467a-d22d-a3c58a3508d6",
        "colab": {
          "base_uri": "https://localhost:8080/",
          "height": 114
        }
      },
      "source": [
        "!ls -ltr"
      ],
      "execution_count": 0,
      "outputs": [
        {
          "output_type": "stream",
          "text": [
            "total 12\n",
            "drwxr-xr-x 1 root root 4096 Apr  4 20:20 sample_data\n",
            "-rw-r--r-- 1 root root 2494 Apr 26 00:52 adc.json\n",
            "drwxr-xr-x 2 root root 4096 Apr 26 00:52 drive\n"
          ],
          "name": "stdout"
        }
      ]
    },
    {
      "cell_type": "code",
      "metadata": {
        "id": "XIauWB8828Au",
        "colab_type": "code",
        "outputId": "4994196b-b33b-430d-ba69-6a555398ad44",
        "colab": {
          "base_uri": "https://localhost:8080/",
          "height": 34
        }
      },
      "source": [
        "cd drive"
      ],
      "execution_count": 0,
      "outputs": [
        {
          "output_type": "stream",
          "text": [
            "/content/drive\n"
          ],
          "name": "stdout"
        }
      ]
    },
    {
      "cell_type": "code",
      "metadata": {
        "id": "1-NtKwZw2_qR",
        "colab_type": "code",
        "outputId": "3fb31bb1-050c-4a2d-e9e1-2661f19a0e0f",
        "colab": {
          "base_uri": "https://localhost:8080/",
          "height": 34
        }
      },
      "source": [
        "cd emnist"
      ],
      "execution_count": 0,
      "outputs": [
        {
          "output_type": "stream",
          "text": [
            "/content/drive/emnist\n"
          ],
          "name": "stdout"
        }
      ]
    },
    {
      "cell_type": "code",
      "metadata": {
        "id": "ASJDP3qe3mGw",
        "colab_type": "code",
        "outputId": "d257ee3b-c09a-4ac6-fa86-9050a157f807",
        "colab": {
          "base_uri": "https://localhost:8080/",
          "height": 182
        }
      },
      "source": [
        "!ls -ltr"
      ],
      "execution_count": 0,
      "outputs": [
        {
          "output_type": "stream",
          "text": [
            "total 778000\n",
            "-rw-r--r-- 1 root root  36454802 Apr 25 00:06 emnist-balanced-test.csv\n",
            "-rw-r--r-- 1 root root 218619475 Apr 25 00:08 emnist-balanced-train.csv\n",
            "-rw-r--r-- 1 root root  77362729 Apr 25 00:09 emnist-digits-test.csv\n",
            "-rw-r--r-- 1 root root 464090839 Apr 25 00:15 emnist-digits-train.csv\n",
            "drwxr-xr-x 2 root root      4096 Apr 25 01:38 MNIST_data\n",
            "-rw-r--r-- 1 root root     19697 Apr 25 03:23 ensemble.ipynb\n",
            "-rw-r--r-- 1 root root    118367 Apr 26 00:53 MachineLearning.ipynb\n"
          ],
          "name": "stdout"
        }
      ]
    },
    {
      "cell_type": "markdown",
      "metadata": {
        "id": "eUp0w41H7kd5",
        "colab_type": "text"
      },
      "source": [
        "# Data\n",
        "\n",
        "\n",
        "*   https://www.kaggle.com/crawford/emnist\n",
        "\n"
      ]
    },
    {
      "cell_type": "markdown",
      "metadata": {
        "id": "BBRkycQ55Qml",
        "colab_type": "text"
      },
      "source": [
        "# Softmax"
      ]
    },
    {
      "cell_type": "markdown",
      "metadata": {
        "id": "bQWPTTV47tJl",
        "colab_type": "text"
      },
      "source": [
        "## Load data"
      ]
    },
    {
      "cell_type": "code",
      "metadata": {
        "id": "PtP2p-buH3Jz",
        "colab_type": "code",
        "colab": {}
      },
      "source": [
        "import numpy as np\n",
        "import pandas as pd\n",
        "import matplotlib.pyplot as plt\n",
        "import random\n",
        "import tensorflow as tf\n",
        "\n",
        "\n",
        "train = pd.read_csv('emnist-balanced-train.csv', header=None)\n",
        "\n",
        "test = pd.read_csv('emnist-balanced-test.csv', header=None)\n",
        "\n"
      ],
      "execution_count": 0,
      "outputs": []
    },
    {
      "cell_type": "markdown",
      "metadata": {
        "id": "spyHtuEmIplY",
        "colab_type": "text"
      },
      "source": [
        "\n",
        "\n",
        "*   Import libraries\n",
        "*   Importing training data set and test data set using Pandas\n",
        "\n"
      ]
    },
    {
      "cell_type": "code",
      "metadata": {
        "id": "XAmxVQ28Iz99",
        "colab_type": "code",
        "outputId": "b8242725-02f3-43dc-b4a8-851cf955fb91",
        "colab": {
          "base_uri": "https://localhost:8080/",
          "height": 68
        }
      },
      "source": [
        "# Number of Train\n",
        "numTrain = len(train)\n",
        "print('numTrain: ', numTrain)\n",
        "# Number of Test\n",
        "numTest = len(test)\n",
        "print('numTest: ', numTest)\n",
        "# Number of Classes\n",
        "numClasses = len(train[0].unique())\n",
        "print('numClasses: ', numClasses)"
      ],
      "execution_count": 0,
      "outputs": [
        {
          "output_type": "stream",
          "text": [
            "numTrain:  112800\n",
            "numTest:  18800\n",
            "numClasses:  47\n"
          ],
          "name": "stdout"
        }
      ]
    },
    {
      "cell_type": "markdown",
      "metadata": {
        "id": "rMjAEoe2JBvl",
        "colab_type": "text"
      },
      "source": [
        "We check how many training data set and test data set there are. Also, we are able to figure out how many different output there are. If we use emnist data set, there are 47 outputs including 10 digits, 26 letters, and 11 capital letters. If we use eMNIST digit data set, the number of classes is 10 because of only 10 digits."
      ]
    },
    {
      "cell_type": "code",
      "metadata": {
        "id": "VoOZlOcWJsD7",
        "colab_type": "code",
        "colab": {}
      },
      "source": [
        "train_data = train.iloc[:, 1:]\n",
        "train_labels = train.iloc[:, 0]\n",
        "test_data = test.iloc[:, 1:]\n",
        "test_labels = test.iloc[:, 0]"
      ],
      "execution_count": 0,
      "outputs": []
    },
    {
      "cell_type": "markdown",
      "metadata": {
        "id": "jEPeBjGeLNQp",
        "colab_type": "text"
      },
      "source": [
        "\n",
        "\n",
        "*   train_data: Training data set without labels\n",
        "*   train_labels: Results of training data set\n",
        "*   test_data: Test data set without labels\n",
        "*   test_labels: Results of test data set\n",
        "\n"
      ]
    },
    {
      "cell_type": "code",
      "metadata": {
        "id": "B1pqAtB_L-ww",
        "colab_type": "code",
        "colab": {}
      },
      "source": [
        "# one-hot encoding\n",
        "train_labels = pd.get_dummies(train_labels)\n",
        "test_labels = pd.get_dummies(test_labels)"
      ],
      "execution_count": 0,
      "outputs": []
    },
    {
      "cell_type": "markdown",
      "metadata": {
        "id": "Rteegmf5NJgC",
        "colab_type": "text"
      },
      "source": [
        "Use one-hot encoding\n",
        "\n",
        "*  Reference\n",
        "\n",
        "\n",
        ">* http://queirozf.com/entries/one-hot-encoding-a-feature-on-a-pandas-dataframe-an-example\n",
        ">* https://pandas.pydata.org/pandas-docs/stable/reference/api/pandas.get_dummies.html\n",
        "\n",
        "\n",
        "\n"
      ]
    },
    {
      "cell_type": "code",
      "metadata": {
        "id": "UVtQsqcXNlO5",
        "colab_type": "code",
        "colab": {}
      },
      "source": [
        "train_data = train_data.values\n",
        "train_labels = train_labels.values\n",
        "test_data = test_data.values\n",
        "test_labels = test_labels.values"
      ],
      "execution_count": 0,
      "outputs": []
    },
    {
      "cell_type": "markdown",
      "metadata": {
        "id": "Eqow1toEOOQ1",
        "colab_type": "text"
      },
      "source": [
        "Training data and test data, which categorical variables are converted by one-hot encoding, are overwritten"
      ]
    },
    {
      "cell_type": "code",
      "metadata": {
        "id": "TwmyfQj5OuSZ",
        "colab_type": "code",
        "outputId": "207156ef-ebcf-4086-8883-491aecf961ac",
        "colab": {
          "base_uri": "https://localhost:8080/",
          "height": 269
        }
      },
      "source": [
        "rand = random.randint(0, numTrain - 1)\n",
        "\n",
        "\n",
        "plt.imshow(\n",
        "\ttrain_data[rand].reshape([28, 28]), \n",
        "\tcmap='Greys'\n",
        "\t)\n",
        "plt.show()"
      ],
      "execution_count": 0,
      "outputs": [
        {
          "output_type": "display_data",
          "data": {
            "image/png": "[encoded data removed]",
            "text/plain": [
              "<Figure size 432x288 with 1 Axes>"
            ]
          },
          "metadata": {
            "tags": []
          }
        }
      ]
    },
    {
      "cell_type": "markdown",
      "metadata": {
        "id": "ff1xFsqFOxTL",
        "colab_type": "text"
      },
      "source": [
        "A training data randomly chosen are displayed."
      ]
    },
    {
      "cell_type": "code",
      "metadata": {
        "id": "8-yvut2hO5Ov",
        "colab_type": "code",
        "outputId": "a9b0c6b6-4c50-4716-a81a-45f422bac043",
        "colab": {
          "base_uri": "https://localhost:8080/",
          "height": 269
        }
      },
      "source": [
        "def rotate(image):\n",
        "    image = image.reshape([28, 28])\n",
        "    image = np.fliplr(image)\n",
        "    image = np.rot90(image)\n",
        "    return image.reshape([28 * 28])\n",
        "train_data = np.apply_along_axis(rotate, 1, train_data)/255\n",
        "test_data = np.apply_along_axis(rotate, 1, test_data)/255\n",
        "\n",
        "\n",
        "plt.imshow(\n",
        "\ttrain_data[rand].reshape([28, 28]), \n",
        "\tcmap='Greys'\n",
        "\t)\n",
        "plt.show()"
      ],
      "execution_count": 0,
      "outputs": [
        {
          "output_type": "display_data",
          "data": {
            "image/png": "[encoded data removed]",
            "text/plain": [
              "<Figure size 432x288 with 1 Axes>"
            ]
          },
          "metadata": {
            "tags": []
          }
        }
      ]
    },
    {
      "cell_type": "markdown",
      "metadata": {
        "id": "JWM0iLyUO96N",
        "colab_type": "text"
      },
      "source": [
        "A training data which are randomly selected should be roated"
      ]
    },
    {
      "cell_type": "code",
      "metadata": {
        "id": "WyqDyjZG7BRh",
        "colab_type": "code",
        "outputId": "4af4b860-ea29-44e3-f446-13ddc68f8308",
        "colab": {
          "base_uri": "https://localhost:8080/",
          "height": 521
        }
      },
      "source": [
        "import numpy as np\n",
        "import pandas as pd\n",
        "import matplotlib.pyplot as plt\n",
        "import random\n",
        "import tensorflow as tf\n",
        "\n",
        "\n",
        "train = pd.read_csv('emnist-balanced-train.csv', header=None)\n",
        "\n",
        "test = pd.read_csv('emnist-balanced-test.csv', header=None)\n",
        "\n",
        "#train.head()\n",
        "\n",
        "# Number of Train\n",
        "numTrain = len(train)\n",
        "# Number of Test\n",
        "numTest = len(test)\n",
        "# Number of Classes\n",
        "numClasses = len(train[0].unique())\n",
        "\n",
        "train_data = train.iloc[:, 1:]\n",
        "train_labels = train.iloc[:, 0]\n",
        "test_data = test.iloc[:, 1:]\n",
        "test_labels = test.iloc[:, 0]\n",
        "\n",
        "# one-hot encoding\n",
        "train_labels = pd.get_dummies(train_labels)\n",
        "test_labels = pd.get_dummies(test_labels)\n",
        "#train_labels.head()\n",
        "\n",
        "train_data = train_data.values\n",
        "train_labels = train_labels.values\n",
        "test_data = test_data.values\n",
        "test_labels = test_labels.values\n",
        "#del train, test\n",
        "\n",
        "\n",
        "rand = random.randint(0, numTrain - 1)\n",
        "\n",
        "\n",
        "plt.imshow(\n",
        "\ttrain_data[rand].reshape([28, 28]), \n",
        "\tcmap='Greys'\n",
        "\t)\n",
        "plt.show()\n",
        "\n",
        "\n",
        "def rotate(image):\n",
        "    image = image.reshape([28, 28])\n",
        "    image = np.fliplr(image)\n",
        "    image = np.rot90(image)\n",
        "    return image.reshape([28 * 28])\n",
        "train_data = np.apply_along_axis(rotate, 1, train_data)/255\n",
        "test_data = np.apply_along_axis(rotate, 1, test_data)/255\n",
        "\n",
        "\n",
        "plt.imshow(\n",
        "\ttrain_data[rand].reshape([28, 28]), \n",
        "\tcmap='Greys'\n",
        "\t)\n",
        "plt.show()\n",
        "\n"
      ],
      "execution_count": 0,
      "outputs": [
        {
          "output_type": "display_data",
          "data": {
            "image/png": "[encoded data removed]",
            "text/plain": [
              "<Figure size 432x288 with 1 Axes>"
            ]
          },
          "metadata": {
            "tags": []
          }
        },
        {
          "output_type": "display_data",
          "data": {
            "image/png": "[encoded data removed]",
            "text/plain": [
              "<Figure size 432x288 with 1 Axes>"
            ]
          },
          "metadata": {
            "tags": []
          }
        }
      ]
    },
    {
      "cell_type": "markdown",
      "metadata": {
        "id": "6HgJhGfNW-Tm",
        "colab_type": "text"
      },
      "source": [
        "## Algorithm"
      ]
    },
    {
      "cell_type": "code",
      "metadata": {
        "id": "ghhZcf_n8BEg",
        "colab_type": "code",
        "colab": {}
      },
      "source": [
        "tf.set_random_seed(777)  # for reproducibility\n",
        "\n",
        "\n",
        "tf.reset_default_graph()\n",
        "\n",
        "# EMNIST data image of shape 28 * 28 = 784\n",
        "X = tf.placeholder(tf.float32, [None, 784])\n",
        "# 47 classes: 10 digits, 26 letters, and 11 capital letters \n",
        "Y = tf.placeholder(tf.float32, [None, numClasses])"
      ],
      "execution_count": 0,
      "outputs": []
    },
    {
      "cell_type": "markdown",
      "metadata": {
        "id": "A4nuWSIf8EDd",
        "colab_type": "text"
      },
      "source": [
        "A given data have 28*28 image. So we need 784. Also, the data we are currently using has 47 classes, which includes 10 digits (0~9), 26 letters, and 11 capital letters.\n",
        "\n",
        "tf.placeholder(tf.float32, [None, 784]): In the code, none means we can give the data we want\n",
        "\n",
        "![alt text](http://1.bp.blogspot.com/-aluMK8npLy0/VSoWDBNNblI/AAAAAAAABc8/XC1sy_3rsjw/s1600/MNIST1.png)"
      ]
    },
    {
      "cell_type": "code",
      "metadata": {
        "id": "9IubE8tK8DMq",
        "colab_type": "code",
        "outputId": "2f84eb74-169a-4b3d-9fd6-ac97f5249583",
        "colab": {
          "base_uri": "https://localhost:8080/",
          "height": 108
        }
      },
      "source": [
        "W = tf.Variable(tf.random_normal([784, numClasses]))\n",
        "b = tf.Variable(tf.random_normal([numClasses]))\n",
        "\n",
        "# Hypothesis (using softmax)\n",
        "hypothesis = tf.nn.softmax(tf.matmul(X, W) + b)"
      ],
      "execution_count": 0,
      "outputs": [
        {
          "output_type": "stream",
          "text": [
            "WARNING:tensorflow:From /usr/local/lib/python3.6/dist-packages/tensorflow/python/framework/op_def_library.py:263: colocate_with (from tensorflow.python.framework.ops) is deprecated and will be removed in a future version.\n",
            "Instructions for updating:\n",
            "Colocations handled automatically by placer.\n"
          ],
          "name": "stdout"
        }
      ]
    },
    {
      "cell_type": "markdown",
      "metadata": {
        "id": "CJwkBwQmSwQh",
        "colab_type": "text"
      },
      "source": [
        "* W = tf.Variable(tf.random_normal([784, numClasses])): Input: 784, Output: numClasses, which indicates 47\n",
        "* b = tf.Variable(tf.random_normal([numClasses])): Y size"
      ]
    },
    {
      "cell_type": "markdown",
      "metadata": {
        "id": "WjRlon3i8JWh",
        "colab_type": "text"
      },
      "source": [
        "Multinomial Classfication\n",
        "$$\n",
        "W = \n",
        "\\begin{bmatrix}\n",
        "    w_{11} & w_{12} & \\dots & w_{1n} \\\\\n",
        "    w_{21} & w_{22} & \\dots & w_{2n} \\\\\n",
        "    \\vdots & \\vdots & \\ddots & \\vdots \\\\\n",
        "    w_{n1} & w_{n2} & \\dots & w_{nn}\n",
        "\\end{bmatrix}\n",
        "$$"
      ]
    },
    {
      "cell_type": "markdown",
      "metadata": {
        "id": "4jTPkyZc8NCB",
        "colab_type": "text"
      },
      "source": [
        "$$\n",
        "X = \n",
        "\\begin{bmatrix}\n",
        "    x_{1} \\\\\n",
        "    x_{2} \\\\\n",
        "    \\vdots \\\\\n",
        "    x_{n}\n",
        "\\end{bmatrix}\n",
        "$$"
      ]
    },
    {
      "cell_type": "markdown",
      "metadata": {
        "id": "GiSXEDQt8QSF",
        "colab_type": "text"
      },
      "source": [
        "Softmax\n",
        "$$\n",
        "S(y_i) = \\frac{e^y_i} {\\sum_j e^y_i}\n",
        "$$"
      ]
    },
    {
      "cell_type": "markdown",
      "metadata": {
        "id": "-ll2YqrF8Toz",
        "colab_type": "text"
      },
      "source": [
        "In sum, let's suppose y = XW\n",
        "$$\n",
        "XW = y  => \\frac{e^y_i} {\\sum_j e^y_i} => Probabilities\n",
        "$$"
      ]
    },
    {
      "cell_type": "markdown",
      "metadata": {
        "id": "xlBbfdP28WS8",
        "colab_type": "text"
      },
      "source": [
        "This is Softmax on Tensorflow. \n",
        "softmax(tf.matmul(X, W) + b).\n",
        "So, tf.nn.softmax computes softmax activations. We can say that \n",
        "$$\n",
        "softmax = \\frac{exp(logits)} {reduceSum(exp(logits), dim)}\n",
        "$$"
      ]
    },
    {
      "cell_type": "markdown",
      "metadata": {
        "id": "pL7AQl0n8ZFg",
        "colab_type": "text"
      },
      "source": [
        "$$\n",
        "cost(W) = -\\frac {1} {m} \\sum ylog(H(x)) + (1-y)log(1-H(x)) \n",
        "$$"
      ]
    },
    {
      "cell_type": "code",
      "metadata": {
        "id": "tK_FGNU58dFO",
        "colab_type": "code",
        "colab": {}
      },
      "source": [
        "cost = tf.reduce_mean(-tf.reduce_sum(Y * tf.log(hypothesis), axis=1))"
      ],
      "execution_count": 0,
      "outputs": []
    },
    {
      "cell_type": "markdown",
      "metadata": {
        "id": "CS_Q1lo28eNu",
        "colab_type": "text"
      },
      "source": [
        "$$\n",
        "W = W -\\alpha \\frac{\\partial}{\\partial W} cost(W)\n",
        "$$"
      ]
    },
    {
      "cell_type": "code",
      "metadata": {
        "id": "_elE8Owz8hEr",
        "colab_type": "code",
        "outputId": "2f5e30e5-08b4-4f73-db05-0f28e1ffecdc",
        "colab": {
          "base_uri": "https://localhost:8080/",
          "height": 108
        }
      },
      "source": [
        "train = tf.train.GradientDescentOptimizer(learning_rate=0.1).minimize(cost)"
      ],
      "execution_count": 0,
      "outputs": [
        {
          "output_type": "stream",
          "text": [
            "WARNING:tensorflow:From /usr/local/lib/python3.6/dist-packages/tensorflow/python/ops/math_ops.py:3066: to_int32 (from tensorflow.python.ops.math_ops) is deprecated and will be removed in a future version.\n",
            "Instructions for updating:\n",
            "Use tf.cast instead.\n"
          ],
          "name": "stdout"
        }
      ]
    },
    {
      "cell_type": "code",
      "metadata": {
        "id": "TVcDBGdX8lwQ",
        "colab_type": "code",
        "colab": {}
      },
      "source": [
        "# Test model\n",
        "is_correct = tf.equal(tf.argmax(hypothesis, 1), tf.argmax(Y, 1))\n",
        "\n",
        "# Calculate accuracy\n",
        "accuracy = tf.reduce_mean(tf.cast(is_correct, tf.float32))"
      ],
      "execution_count": 0,
      "outputs": []
    },
    {
      "cell_type": "markdown",
      "metadata": {
        "id": "2VcyZU4iTbSN",
        "colab_type": "text"
      },
      "source": [
        "* is_correct = tf.equal(tf.argmax(hypothesis, 1), tf.argmax(Y, 1)): Hypothesis value and Y value are compared\n",
        "* accuracy = tf.reduce_mean(tf.cast(is_correct, tf.float32)): Calculate average value of is_correct. This is accuracy"
      ]
    },
    {
      "cell_type": "code",
      "metadata": {
        "id": "jiaCVRVU8o0d",
        "colab_type": "code",
        "colab": {}
      },
      "source": [
        "# parameters\n",
        "num_epochs = 20\n",
        "batch_size = 100\n",
        "num_iterations = int( numTrain / batch_size)"
      ],
      "execution_count": 0,
      "outputs": []
    },
    {
      "cell_type": "markdown",
      "metadata": {
        "id": "_oovFCK78pi-",
        "colab_type": "text"
      },
      "source": [
        "\n",
        "\n",
        "*   epoch = one forward pass and one backward pass of all the training examples\n",
        "*   batch size = Number of training examples in one forward/backward pass. The higher the batch size is, the more memory space you'll need is\n",
        "*  Number of iterations = number of passes, each pass using batch size number of examples. To be clear, one pass = one forward pass + one backward pass (we do not count the forward pass and backward pass as two different passes).\n",
        "[5]\n"
      ]
    },
    {
      "cell_type": "code",
      "metadata": {
        "id": "G_Akmm8JSFhz",
        "colab_type": "code",
        "colab": {}
      },
      "source": [
        "batch_xs, batch_ys = train_data[i * 100: (i + 1) * 100], train_labels[i * 100: (i + 1) * 100]"
      ],
      "execution_count": 0,
      "outputs": []
    },
    {
      "cell_type": "markdown",
      "metadata": {
        "id": "AwIMo_qgSGK6",
        "colab_type": "text"
      },
      "source": [
        "Training data can read 100 data at once."
      ]
    },
    {
      "cell_type": "code",
      "metadata": {
        "id": "bd8RHFRMUpEp",
        "colab_type": "code",
        "colab": {}
      },
      "source": [
        "_, cost_val = sess.run([train, cost], feed_dict={X: batch_xs, Y: batch_ys})"
      ],
      "execution_count": 0,
      "outputs": []
    },
    {
      "cell_type": "markdown",
      "metadata": {
        "id": "Q9KL1DEuUpr4",
        "colab_type": "text"
      },
      "source": [
        "Calculate cost value using Optimization algorithm"
      ]
    },
    {
      "cell_type": "code",
      "metadata": {
        "id": "4NJN_NwhSbTg",
        "colab_type": "code",
        "colab": {}
      },
      "source": [
        "# Test the model using test sets\n",
        "    print(\n",
        "        \"Accuracy: \",\n",
        "        accuracy.eval(\n",
        "            session=sess, feed_dict={X: test_data, Y: test_labels}\n",
        "        ),\n",
        "    )"
      ],
      "execution_count": 0,
      "outputs": []
    },
    {
      "cell_type": "markdown",
      "metadata": {
        "id": "0JjmrckMSb4R",
        "colab_type": "text"
      },
      "source": [
        "We use test data set which we haven't used before. So we evaluate test data set. Finally, we can calculate accuracy."
      ]
    },
    {
      "cell_type": "code",
      "metadata": {
        "id": "GTe1uEEmVemt",
        "colab_type": "code",
        "colab": {}
      },
      "source": [
        "# Get Label and predict\n",
        "    r = random.randint(0, numTest - 1)\n",
        "    print(\"Label: \", sess.run(tf.argmax(test_labels[r : r + 1], 1)))\n",
        "    print(\n",
        "        \"Prediction: \",\n",
        "        sess.run(tf.argmax(hypothesis, 1), feed_dict={X: test_data[r : r + 1]}),\n",
        "    )"
      ],
      "execution_count": 0,
      "outputs": []
    },
    {
      "cell_type": "markdown",
      "metadata": {
        "id": "P8HXoz-0VfEh",
        "colab_type": "text"
      },
      "source": [
        "1. Get Random value\n",
        "2. Read one of test labels using argmax because we used one-hot encoding\n",
        "3. For prediction, we will run hypothesis. And then, we will get the image which are the same as hypothesis. "
      ]
    },
    {
      "cell_type": "code",
      "metadata": {
        "id": "8Yydob5C81Mg",
        "colab_type": "code",
        "outputId": "c11a34c8-8bf7-4f9b-e5dd-6e5fb397872e",
        "colab": {
          "base_uri": "https://localhost:8080/",
          "height": 677
        }
      },
      "source": [
        "with tf.Session() as sess:\n",
        "    # Initialize TensorFlow variables\n",
        "    sess.run(tf.global_variables_initializer())\n",
        "    # Training\n",
        "    for epoch in range(num_epochs):\n",
        "        avg_cost = 0\n",
        "\n",
        "        for i in range(num_iterations):\n",
        "            batch_xs, batch_ys = train_data[i * 100: (i + 1) * 100], train_labels[i * 100: (i + 1) * 100]\n",
        "            _, cost_val = sess.run([train, cost], feed_dict={X: batch_xs, Y: batch_ys})\n",
        "            avg_cost += cost_val / num_iterations\n",
        "\n",
        "        print(\"Epoch: {:04d}, Cost: {:.9f}\".format(epoch + 1, avg_cost))\n",
        "\n",
        "    print(\"Learning finished\")\n",
        "\n",
        "    # Test the model using test sets\n",
        "    print(\n",
        "        \"Accuracy: \",\n",
        "        accuracy.eval(\n",
        "            session=sess, feed_dict={X: test_data, Y: test_labels}\n",
        "        ),\n",
        "    )\n",
        "\n",
        "    # Get Label and predict\n",
        "    r = random.randint(0, numTest - 1)\n",
        "    print(\"Label: \", sess.run(tf.argmax(test_labels[r : r + 1], 1)))\n",
        "    print(\n",
        "        \"Prediction: \",\n",
        "        sess.run(tf.argmax(hypothesis, 1), feed_dict={X: test_data[r : r + 1]}),\n",
        "    )\n",
        "\n",
        "    plt.imshow(\n",
        "        test_data[r : r + 1].reshape(28, 28),\n",
        "        cmap=\"Greys\",\n",
        "        interpolation=\"nearest\",\n",
        "    )\n",
        "    plt.show()"
      ],
      "execution_count": 0,
      "outputs": [
        {
          "output_type": "stream",
          "text": [
            "Epoch: 0001, Cost: 7.831361669\n",
            "Epoch: 0002, Cost: 3.635979679\n",
            "Epoch: 0003, Cost: 2.910056583\n",
            "Epoch: 0004, Cost: 2.549824970\n",
            "Epoch: 0005, Cost: 2.325167478\n",
            "Epoch: 0006, Cost: 2.168853015\n",
            "Epoch: 0007, Cost: 2.052359234\n",
            "Epoch: 0008, Cost: 1.961268801\n",
            "Epoch: 0009, Cost: 1.887505654\n",
            "Epoch: 0010, Cost: 1.826184638\n",
            "Epoch: 0011, Cost: 1.774160550\n",
            "Epoch: 0012, Cost: 1.729304836\n",
            "Epoch: 0013, Cost: 1.690116639\n",
            "Epoch: 0014, Cost: 1.655501113\n",
            "Epoch: 0015, Cost: 1.624637229\n",
            "Epoch: 0016, Cost: 1.596895715\n",
            "Epoch: 0017, Cost: 1.571785485\n",
            "Epoch: 0018, Cost: 1.548917508\n",
            "Epoch: 0019, Cost: 1.527979174\n",
            "Epoch: 0020, Cost: 1.508715988\n",
            "Learning finished\n",
            "Accuracy:  0.6129255\n",
            "Label:  [24]\n",
            "Prediction:  [0]\n"
          ],
          "name": "stdout"
        },
        {
          "output_type": "display_data",
          "data": {
            "image/png": "[encoded data removed]",
            "text/plain": [
              "<Figure size 432x288 with 1 Axes>"
            ]
          },
          "metadata": {
            "tags": []
          }
        }
      ]
    },
    {
      "cell_type": "markdown",
      "metadata": {
        "id": "NJpELzRmXGMB",
        "colab_type": "text"
      },
      "source": [
        "## Code"
      ]
    },
    {
      "cell_type": "markdown",
      "metadata": {
        "id": "lxFHQ71sViGA",
        "colab_type": "text"
      },
      "source": [
        "### Alphabet / Digits"
      ]
    },
    {
      "cell_type": "code",
      "metadata": {
        "id": "cU_pUNrn6KSY",
        "colab_type": "code",
        "outputId": "c44240c5-3101-4298-8619-6294e5036445",
        "colab": {
          "base_uri": "https://localhost:8080/",
          "height": 677
        }
      },
      "source": [
        "import numpy as np\n",
        "import pandas as pd\n",
        "import matplotlib.pyplot as plt\n",
        "import random\n",
        "import tensorflow as tf\n",
        "\n",
        "\n",
        "train = pd.read_csv('emnist-balanced-train.csv', header=None)\n",
        "#train = pd.read_csv('emnist-digits-train.csv', header=None)\n",
        "\n",
        "test = pd.read_csv('emnist-balanced-test.csv', header=None)\n",
        "#test = pd.read_csv('emnist-digits-test.csv', header=None)\n",
        "\n",
        "#train.head()\n",
        "\n",
        "# Number of Train\n",
        "numTrain = len(train)\n",
        "# Number of Test\n",
        "numTest = len(test)\n",
        "# Number of Classes\n",
        "numClasses = len(train[0].unique())\n",
        "\n",
        "train_data = train.iloc[:, 1:]\n",
        "train_labels = train.iloc[:, 0]\n",
        "test_data = test.iloc[:, 1:]\n",
        "test_labels = test.iloc[:, 0]\n",
        "\n",
        "# one-hot encoding\n",
        "train_labels = pd.get_dummies(train_labels)\n",
        "test_labels = pd.get_dummies(test_labels)\n",
        "#train_labels.head()\n",
        "\n",
        "train_data = train_data.values\n",
        "train_labels = train_labels.values\n",
        "test_data = test_data.values\n",
        "test_labels = test_labels.values\n",
        "\n",
        "\n",
        "rand = random.randint(0, numTrain - 1)\n",
        "\n",
        "'''\n",
        "plt.imshow(\n",
        "\ttrain_data[rand].reshape([28, 28]), \n",
        "\tcmap='Greys'\n",
        "\t)\n",
        "plt.show()\n",
        "'''\n",
        "\n",
        "def rotate(image):\n",
        "    image = image.reshape([28, 28])\n",
        "    image = np.fliplr(image)\n",
        "    image = np.rot90(image)\n",
        "    return image.reshape([28 * 28])\n",
        "train_data = np.apply_along_axis(rotate, 1, train_data)/255\n",
        "test_data = np.apply_along_axis(rotate, 1, test_data)/255\n",
        "\n",
        "'''\n",
        "plt.imshow(\n",
        "\ttrain_data[rand].reshape([28, 28]), \n",
        "\tcmap='Greys'\n",
        "\t)\n",
        "plt.show()\n",
        "'''\n",
        "\n",
        "tf.set_random_seed(777)  # for reproducibility\n",
        "tf.reset_default_graph()\n",
        "\n",
        "# EMNIST data image of shape 28 * 28 = 784\n",
        "X = tf.placeholder(tf.float32, [None, 784])\n",
        "# 47 classes: 10 digits, 26 letters, and 11 capital letters \n",
        "Y = tf.placeholder(tf.float32, [None, numClasses])\n",
        "\n",
        "W = tf.Variable(tf.random_normal([784, numClasses]))\n",
        "b = tf.Variable(tf.random_normal([numClasses]))\n",
        "\n",
        "# Hypothesis (using softmax)\n",
        "hypothesis = tf.nn.softmax(tf.matmul(X, W) + b)\n",
        "\n",
        "cost = tf.reduce_mean(-tf.reduce_sum(Y * tf.log(hypothesis), axis=1))\n",
        "train = tf.train.GradientDescentOptimizer(learning_rate=0.1).minimize(cost)\n",
        "\n",
        "# Test model\n",
        "is_correct = tf.equal(tf.argmax(hypothesis, 1), tf.argmax(Y, 1))\n",
        "\n",
        "# Calculate accuracy\n",
        "accuracy = tf.reduce_mean(tf.cast(is_correct, tf.float32))\n",
        "\n",
        "# parameters\n",
        "num_epochs = 20\n",
        "batch_size = 100\n",
        "num_iterations = int( numTrain / batch_size)\n",
        "\n",
        "with tf.Session() as sess:\n",
        "    # Initialize TensorFlow variables\n",
        "    sess.run(tf.global_variables_initializer())\n",
        "    # Training\n",
        "    for epoch in range(num_epochs):\n",
        "        avg_cost = 0\n",
        "\n",
        "        for i in range(num_iterations):\n",
        "            batch_xs, batch_ys = train_data[i * 100: (i + 1) * 100], train_labels[i * 100: (i + 1) * 100]\n",
        "            _, cost_val = sess.run([train, cost], feed_dict={X: batch_xs, Y: batch_ys})\n",
        "            avg_cost += cost_val / num_iterations\n",
        "\n",
        "        print(\"Epoch: {:04d}, Cost: {:.9f}\".format(epoch + 1, avg_cost))\n",
        "\n",
        "    print(\"Learning finished\")\n",
        "\n",
        "    # Test the model using test sets\n",
        "    print(\n",
        "        \"Accuracy: \",\n",
        "        accuracy.eval(\n",
        "            session=sess, feed_dict={X: test_data, Y: test_labels}\n",
        "        ),\n",
        "    )\n",
        "\n",
        "    # Get Label and predict\n",
        "    r = random.randint(0, numTest - 1)\n",
        "    print(\"Label: \", sess.run(tf.argmax(test_labels[r : r + 1], 1)))\n",
        "    print(\n",
        "        \"Prediction: \",\n",
        "        sess.run(tf.argmax(hypothesis, 1), feed_dict={X: test_data[r : r + 1]}),\n",
        "    )\n",
        "\n",
        "    plt.imshow(\n",
        "        test_data[r : r + 1].reshape(28, 28),\n",
        "        cmap=\"Greys\",\n",
        "        interpolation=\"nearest\",\n",
        "    )\n",
        "    plt.show()\n"
      ],
      "execution_count": 0,
      "outputs": [
        {
          "output_type": "stream",
          "text": [
            "Epoch: 0001, Cost: 7.811212356\n",
            "Epoch: 0002, Cost: 3.577890929\n",
            "Epoch: 0003, Cost: 2.874251862\n",
            "Epoch: 0004, Cost: 2.526106676\n",
            "Epoch: 0005, Cost: 2.309650495\n",
            "Epoch: 0006, Cost: 2.159337446\n",
            "Epoch: 0007, Cost: 2.047290485\n",
            "Epoch: 0008, Cost: 1.959520055\n",
            "Epoch: 0009, Cost: 1.888236626\n",
            "Epoch: 0010, Cost: 1.828750604\n",
            "Epoch: 0011, Cost: 1.778055745\n",
            "Epoch: 0012, Cost: 1.734127743\n",
            "Epoch: 0013, Cost: 1.695548977\n",
            "Epoch: 0014, Cost: 1.661293361\n",
            "Epoch: 0015, Cost: 1.630596669\n",
            "Epoch: 0016, Cost: 1.602875596\n",
            "Epoch: 0017, Cost: 1.577675840\n",
            "Epoch: 0018, Cost: 1.554637091\n",
            "Epoch: 0019, Cost: 1.533469000\n",
            "Epoch: 0020, Cost: 1.513934543\n",
            "Learning finished\n",
            "Accuracy:  0.6085106\n",
            "Label:  [36]\n",
            "Prediction:  [35]\n"
          ],
          "name": "stdout"
        },
        {
          "output_type": "display_data",
          "data": {
            "image/png": "[encoded data removed]",
            "text/plain": [
              "<Figure size 432x288 with 1 Axes>"
            ]
          },
          "metadata": {
            "tags": []
          }
        }
      ]
    },
    {
      "cell_type": "markdown",
      "metadata": {
        "id": "VRHpCuVGVkGi",
        "colab_type": "text"
      },
      "source": [
        "### Digits"
      ]
    },
    {
      "cell_type": "code",
      "metadata": {
        "id": "j1sgBUU4VphW",
        "colab_type": "code",
        "outputId": "f80ef774-ed38-4f3f-9d27-2b3a490c9d5a",
        "colab": {
          "base_uri": "https://localhost:8080/",
          "height": 677
        }
      },
      "source": [
        "import numpy as np\n",
        "import pandas as pd\n",
        "import matplotlib.pyplot as plt\n",
        "import random\n",
        "import tensorflow as tf\n",
        "\n",
        "\n",
        "#train = pd.read_csv('emnist-balanced-train.csv', header=None)\n",
        "train = pd.read_csv('emnist-digits-train.csv', header=None)\n",
        "\n",
        "#test = pd.read_csv('emnist-balanced-test.csv', header=None)\n",
        "test = pd.read_csv('emnist-digits-test.csv', header=None)\n",
        "\n",
        "#train.head()\n",
        "\n",
        "# Number of Train\n",
        "numTrain = len(train)\n",
        "# Number of Test\n",
        "numTest = len(test)\n",
        "# Number of Classes\n",
        "numClasses = len(train[0].unique())\n",
        "\n",
        "train_data = train.iloc[:, 1:]\n",
        "train_labels = train.iloc[:, 0]\n",
        "test_data = test.iloc[:, 1:]\n",
        "test_labels = test.iloc[:, 0]\n",
        "\n",
        "# one-hot encoding\n",
        "train_labels = pd.get_dummies(train_labels)\n",
        "test_labels = pd.get_dummies(test_labels)\n",
        "#train_labels.head()\n",
        "\n",
        "train_data = train_data.values\n",
        "train_labels = train_labels.values\n",
        "test_data = test_data.values\n",
        "test_labels = test_labels.values\n",
        "\n",
        "\n",
        "rand = random.randint(0, numTrain - 1)\n",
        "\n",
        "'''\n",
        "plt.imshow(\n",
        "\ttrain_data[rand].reshape([28, 28]), \n",
        "\tcmap='Greys'\n",
        "\t)\n",
        "plt.show()\n",
        "'''\n",
        "\n",
        "def rotate(image):\n",
        "    image = image.reshape([28, 28])\n",
        "    image = np.fliplr(image)\n",
        "    image = np.rot90(image)\n",
        "    return image.reshape([28 * 28])\n",
        "train_data = np.apply_along_axis(rotate, 1, train_data)/255\n",
        "test_data = np.apply_along_axis(rotate, 1, test_data)/255\n",
        "\n",
        "'''\n",
        "plt.imshow(\n",
        "\ttrain_data[rand].reshape([28, 28]), \n",
        "\tcmap='Greys'\n",
        "\t)\n",
        "plt.show()\n",
        "'''\n",
        "\n",
        "tf.set_random_seed(777)  # for reproducibility\n",
        "tf.reset_default_graph()\n",
        "\n",
        "# EMNIST data image of shape 28 * 28 = 784\n",
        "X = tf.placeholder(tf.float32, [None, 784])\n",
        "# 47 classes: 10 digits, 26 letters, and 11 capital letters \n",
        "Y = tf.placeholder(tf.float32, [None, numClasses])\n",
        "\n",
        "W = tf.Variable(tf.random_normal([784, numClasses]))\n",
        "b = tf.Variable(tf.random_normal([numClasses]))\n",
        "\n",
        "# Hypothesis (using softmax)\n",
        "hypothesis = tf.nn.softmax(tf.matmul(X, W) + b)\n",
        "\n",
        "cost = tf.reduce_mean(-tf.reduce_sum(Y * tf.log(hypothesis), axis=1))\n",
        "train = tf.train.GradientDescentOptimizer(learning_rate=0.001).minimize(cost)\n",
        "\n",
        "# Test model\n",
        "is_correct = tf.equal(tf.argmax(hypothesis, 1), tf.argmax(Y, 1))\n",
        "\n",
        "# Calculate accuracy\n",
        "accuracy = tf.reduce_mean(tf.cast(is_correct, tf.float32))\n",
        "\n",
        "# parameters\n",
        "num_epochs = 20\n",
        "batch_size = 100\n",
        "num_iterations = int( numTrain / batch_size)\n",
        "\n",
        "with tf.Session() as sess:\n",
        "    # Initialize TensorFlow variables\n",
        "    sess.run(tf.global_variables_initializer())\n",
        "    # Training\n",
        "    for epoch in range(num_epochs):\n",
        "        avg_cost = 0\n",
        "\n",
        "        for i in range(num_iterations):\n",
        "            batch_xs, batch_ys = train_data[i * 100: (i + 1) * 100], train_labels[i * 100: (i + 1) * 100]\n",
        "            _, cost_val = sess.run([train, cost], feed_dict={X: batch_xs, Y: batch_ys})\n",
        "            avg_cost += cost_val / num_iterations\n",
        "\n",
        "        print(\"Epoch: {:04d}, Cost: {:.9f}\".format(epoch + 1, avg_cost))\n",
        "\n",
        "    print(\"Learning finished\")\n",
        "\n",
        "    # Test the model using test sets\n",
        "    print(\n",
        "        \"Accuracy: \",\n",
        "        accuracy.eval(\n",
        "            session=sess, feed_dict={X: test_data, Y: test_labels}\n",
        "        ),\n",
        "    )\n",
        "\n",
        "    # Get Label and predict\n",
        "    r = random.randint(0, numTest - 1)\n",
        "    print(\"Label: \", sess.run(tf.argmax(test_labels[r : r + 1], 1)))\n",
        "    print(\n",
        "        \"Prediction: \",\n",
        "        sess.run(tf.argmax(hypothesis, 1), feed_dict={X: test_data[r : r + 1]}),\n",
        "    )\n",
        "\n",
        "    plt.imshow(\n",
        "        test_data[r : r + 1].reshape(28, 28),\n",
        "        cmap=\"Greys\",\n",
        "        interpolation=\"nearest\",\n",
        "    )\n",
        "    plt.show()\n",
        "\n"
      ],
      "execution_count": 0,
      "outputs": [
        {
          "output_type": "stream",
          "text": [
            "Epoch: 0001, Cost: 12.294879703\n",
            "Epoch: 0002, Cost: 7.675846588\n",
            "Epoch: 0003, Cost: 5.530997338\n",
            "Epoch: 0004, Cost: 4.266942058\n",
            "Epoch: 0005, Cost: 3.466805372\n",
            "Epoch: 0006, Cost: 2.930163783\n",
            "Epoch: 0007, Cost: 2.553369329\n",
            "Epoch: 0008, Cost: 2.277840718\n",
            "Epoch: 0009, Cost: 2.068908990\n",
            "Epoch: 0010, Cost: 1.905354305\n",
            "Epoch: 0011, Cost: 1.773776403\n",
            "Epoch: 0012, Cost: 1.665476663\n",
            "Epoch: 0013, Cost: 1.574621240\n",
            "Epoch: 0014, Cost: 1.497164249\n",
            "Epoch: 0015, Cost: 1.430218704\n",
            "Epoch: 0016, Cost: 1.371676122\n",
            "Epoch: 0017, Cost: 1.319963597\n",
            "Epoch: 0018, Cost: 1.273884969\n",
            "Epoch: 0019, Cost: 1.232514620\n",
            "Epoch: 0020, Cost: 1.195125107\n",
            "Learning finished\n",
            "Accuracy:  0.7697\n",
            "Label:  [2]\n",
            "Prediction:  [6]\n"
          ],
          "name": "stdout"
        },
        {
          "output_type": "display_data",
          "data": {
            "image/png": "[encoded data removed]",
            "text/plain": [
              "<Figure size 432x288 with 1 Axes>"
            ]
          },
          "metadata": {
            "tags": []
          }
        }
      ]
    },
    {
      "cell_type": "markdown",
      "metadata": {
        "id": "4Jv4hGfTGxPs",
        "colab_type": "text"
      },
      "source": [
        "# Neural Network"
      ]
    },
    {
      "cell_type": "markdown",
      "metadata": {
        "id": "uZc9QXqoXYd0",
        "colab_type": "text"
      },
      "source": [
        "## Load data"
      ]
    },
    {
      "cell_type": "code",
      "metadata": {
        "id": "cmolKQK5PczQ",
        "colab_type": "code",
        "colab": {}
      },
      "source": [
        "import numpy as np\n",
        "import pandas as pd\n",
        "import matplotlib.pyplot as plt\n",
        "import random\n",
        "import tensorflow as tf\n",
        "\n",
        "\n",
        "train = pd.read_csv('emnist-balanced-train.csv', header=None)\n",
        "#train = pd.read_csv('emnist/emnist-digits-train.csv', header=None)\n",
        "\n",
        "test = pd.read_csv('emnist-balanced-test.csv', header=None)\n",
        "#test = pd.read_csv('emnist/emnist-digits-test.csv', header=None)\n",
        "\n",
        "#train.head()\n",
        "\n",
        "# Number of Train\n",
        "numTrain = len(train)\n",
        "# Number of Test\n",
        "numTest = len(test)\n",
        "# Number of Classes\n",
        "numClasses = len(train[0].unique())\n",
        "learning_rate = 0.001\n",
        "\n",
        "train_data = train.iloc[:, 1:]\n",
        "train_labels = train.iloc[:, 0]\n",
        "test_data = test.iloc[:, 1:]\n",
        "test_labels = test.iloc[:, 0]\n",
        "\n",
        "# one-hot encoding\n",
        "train_labels = pd.get_dummies(train_labels)\n",
        "test_labels = pd.get_dummies(test_labels)\n",
        "#train_labels.head()\n",
        "\n",
        "train_data = train_data.values\n",
        "train_labels = train_labels.values\n",
        "test_data = test_data.values\n",
        "test_labels = test_labels.values\n",
        "\n",
        "\n",
        "rand = random.randint(0, numTrain - 1)\n",
        "\n",
        "'''\n",
        "plt.imshow(\n",
        "\ttrain_data[rand].reshape([28, 28]), \n",
        "\tcmap='Greys'\n",
        "\t)\n",
        "plt.show()\n",
        "'''\n",
        "\n",
        "def rotate(image):\n",
        "    image = image.reshape([28, 28])\n",
        "    image = np.fliplr(image)\n",
        "    image = np.rot90(image)\n",
        "    return image.reshape([28 * 28])\n",
        "train_data = np.apply_along_axis(rotate, 1, train_data)/255\n",
        "test_data = np.apply_along_axis(rotate, 1, test_data)/255\n",
        "\n",
        "'''\n",
        "plt.imshow(\n",
        "\ttrain_data[rand].reshape([28, 28]), \n",
        "\tcmap='Greys'\n",
        "\t)\n",
        "plt.show()\n",
        "'''"
      ],
      "execution_count": 0,
      "outputs": []
    },
    {
      "cell_type": "markdown",
      "metadata": {
        "id": "zrfAQzKpPkvl",
        "colab_type": "text"
      },
      "source": [
        "The process of importing training data set and test data set is the same as softmax algorithm above"
      ]
    },
    {
      "cell_type": "markdown",
      "metadata": {
        "id": "NE0gexjZXcYV",
        "colab_type": "text"
      },
      "source": [
        "## Algorithm"
      ]
    },
    {
      "cell_type": "code",
      "metadata": {
        "id": "ZyKR2JoYzH6J",
        "colab_type": "code",
        "colab": {}
      },
      "source": [
        "# EMNIST data image of shape 28 * 28 = 784\n",
        "X = tf.placeholder(tf.float32, [None, 784])\n",
        "# 47 classes: 10 digits, 26 letters, and 11 capital letters \n",
        "Y = tf.placeholder(tf.float32, [None, numClasses])\n",
        "\n",
        "W1 = tf.Variable(tf.random_normal([784, 512]))\n",
        "b1 = tf.Variable(tf.random_normal([512]))\n",
        "L1 = tf.nn.relu(tf.matmul(X, W1) + b1)\n",
        "\n",
        "W2 = tf.Variable(tf.random_normal([512, 512]))\n",
        "b2 = tf.Variable(tf.random_normal([512]))\n",
        "L2 = tf.nn.relu(tf.matmul(L1, W2) + b2)\n",
        "\n",
        "W3 = tf.Variable(tf.random_normal([512, 512]))\n",
        "b3 = tf.Variable(tf.random_normal([512]))\n",
        "L3 = tf.nn.relu(tf.matmul(L2, W3) + b3)\n",
        "\n",
        "W4 = tf.Variable(tf.random_normal([512, numClasses]))\n",
        "b4 = tf.Variable(tf.random_normal([numClasses]))\n",
        "hypothesis = tf.matmul(L3, W4) + b4"
      ],
      "execution_count": 0,
      "outputs": []
    },
    {
      "cell_type": "markdown",
      "metadata": {
        "id": "PxU3AEUex8yi",
        "colab_type": "text"
      },
      "source": [
        "![alt text](http://cs231n.github.io/assets/nn1/neural_net2.jpeg)\n",
        "\n",
        "The figure[2] shows a regular 3-layer Neural Network. For the project, we are using 4-layer neural network. In other words, input layer in the code above is placeholders of X and Y. Input layer, which is a placeholder of X, is 784 because image size is 28*28. Output is 47, Y placeholder.\n",
        "\n",
        "We have 3 hidden layers. First, hidden layer 1 (W1) has 784 inputs and 512 outputs. Hidden layers 2 and 3 have 512 inputs and 512 outpus. Since the output of hidden layer 1 is 512, we should have 512 inputs in hidden layer 2. Finally, we will get 47 outputs including 10 digits, 26 letters, and 11 capital letters. We use ReLU to calculate each layer.\n",
        "\n",
        "\n",
        "![alt text](http://www.cs.albany.edu/~wooseok/536/NN.png)"
      ]
    },
    {
      "cell_type": "markdown",
      "metadata": {
        "id": "cVViUQN_vIRQ",
        "colab_type": "text"
      },
      "source": [
        "ReLU: Rectified Linear Unit [4]\n",
        "\n",
        "![alt text](https://cdn-images-1.medium.com/max/1600/1*XxxiA0jJvPrHEJHD4z893g.png)"
      ]
    },
    {
      "cell_type": "code",
      "metadata": {
        "id": "3XnVCZ6PGczY",
        "colab_type": "code",
        "colab": {}
      },
      "source": [
        "cost = tf.reduce_mean(tf.nn.softmax_cross_entropy_with_logits(logits=hypothesis, labels=Y))"
      ],
      "execution_count": 0,
      "outputs": []
    },
    {
      "cell_type": "markdown",
      "metadata": {
        "id": "j6KnCENFGdUm",
        "colab_type": "text"
      },
      "source": [
        "Computes softmax cross entropy between hypothesis(logits) and outputs(Y)"
      ]
    },
    {
      "cell_type": "code",
      "metadata": {
        "id": "HViLFWmp2nqj",
        "colab_type": "code",
        "colab": {}
      },
      "source": [
        "train = tf.train.AdamOptimizer(learning_rate=learning_rate).minimize(cost)"
      ],
      "execution_count": 0,
      "outputs": []
    },
    {
      "cell_type": "markdown",
      "metadata": {
        "id": "p-12wIhM1EGl",
        "colab_type": "text"
      },
      "source": [
        "In softmax algoritm, we use GradientDescentOptimizer in order for train. However, in neural network, we use AdamOptimizer. \n",
        "\n",
        "Here's interesting comparison in terms of optimization. The below site compares below optimazation algorithms\n",
        "\n",
        "\n",
        "*   SGD\n",
        "*   Momentum\n",
        "*   NAG\n",
        "*   Adagrad\n",
        "*   Adadelta\n",
        "*   RMSprop\n",
        "\n",
        "http://www.denizyuret.com/2015/03/alec-radfords-animations-for.html\n"
      ]
    },
    {
      "cell_type": "markdown",
      "metadata": {
        "id": "Qu5DJ8bV2oGK",
        "colab_type": "text"
      },
      "source": [
        "A reason why we use AdamOptimizer is that Adam shows the best optimization performance[3].\n",
        "\n",
        "![alt text](https://3qeqpr26caki16dnhd19sv6by6v-wpengine.netdna-ssl.com/wp-content/uploads/2017/05/Comparison-of-Adam-to-Other-Optimization-Algorithms-Training-a-Multilayer-Perceptron.png)"
      ]
    },
    {
      "cell_type": "markdown",
      "metadata": {
        "id": "neJ_ozfW5opz",
        "colab_type": "text"
      },
      "source": [
        "Tensorflow offers Adam optimization library. So we can use easily the adam optimization algorithm. \n",
        "https://www.tensorflow.org/api_docs/python/tf/train/AdamOptimizer"
      ]
    },
    {
      "cell_type": "markdown",
      "metadata": {
        "id": "hmWq3A0fKTfn",
        "colab_type": "text"
      },
      "source": [
        "Lastly, we will train and evaluate our training using accuracy. The code is the same as Softmax algorithm"
      ]
    },
    {
      "cell_type": "markdown",
      "metadata": {
        "id": "1Kj2GNhkKznN",
        "colab_type": "text"
      },
      "source": [
        "## Code"
      ]
    },
    {
      "cell_type": "markdown",
      "metadata": {
        "id": "rDNewPKfUEuM",
        "colab_type": "text"
      },
      "source": [
        "### Alphabet / Digits"
      ]
    },
    {
      "cell_type": "code",
      "metadata": {
        "id": "KAkMr5lpGmOG",
        "colab_type": "code",
        "outputId": "0ef2c0f0-6c7f-43ca-8b71-94bff8a448d3",
        "colab": {
          "base_uri": "https://localhost:8080/",
          "height": 609
        }
      },
      "source": [
        "import numpy as np\n",
        "import pandas as pd\n",
        "import matplotlib.pyplot as plt\n",
        "import random\n",
        "import tensorflow as tf\n",
        "\n",
        "\n",
        "train = pd.read_csv('emnist-balanced-train.csv', header=None)\n",
        "#train = pd.read_csv('emnist/emnist-digits-train.csv', header=None)\n",
        "\n",
        "test = pd.read_csv('emnist-balanced-test.csv', header=None)\n",
        "#test = pd.read_csv('emnist/emnist-digits-test.csv', header=None)\n",
        "\n",
        "#train.head()\n",
        "\n",
        "# Number of Train\n",
        "numTrain = len(train)\n",
        "# Number of Test\n",
        "numTest = len(test)\n",
        "# Number of Classes\n",
        "numClasses = len(train[0].unique())\n",
        "learning_rate = 0.001\n",
        "\n",
        "train_data = train.iloc[:, 1:]\n",
        "train_labels = train.iloc[:, 0]\n",
        "test_data = test.iloc[:, 1:]\n",
        "test_labels = test.iloc[:, 0]\n",
        "\n",
        "# one-hot encoding\n",
        "train_labels = pd.get_dummies(train_labels)\n",
        "test_labels = pd.get_dummies(test_labels)\n",
        "#train_labels.head()\n",
        "\n",
        "train_data = train_data.values\n",
        "train_labels = train_labels.values\n",
        "test_data = test_data.values\n",
        "test_labels = test_labels.values\n",
        "\n",
        "\n",
        "rand = random.randint(0, numTrain - 1)\n",
        "\n",
        "'''\n",
        "plt.imshow(\n",
        "\ttrain_data[rand].reshape([28, 28]), \n",
        "\tcmap='Greys'\n",
        "\t)\n",
        "plt.show()\n",
        "'''\n",
        "\n",
        "def rotate(image):\n",
        "    image = image.reshape([28, 28])\n",
        "    image = np.fliplr(image)\n",
        "    image = np.rot90(image)\n",
        "    return image.reshape([28 * 28])\n",
        "train_data = np.apply_along_axis(rotate, 1, train_data)/255\n",
        "test_data = np.apply_along_axis(rotate, 1, test_data)/255\n",
        "\n",
        "'''\n",
        "plt.imshow(\n",
        "\ttrain_data[rand].reshape([28, 28]), \n",
        "\tcmap='Greys'\n",
        "\t)\n",
        "plt.show()\n",
        "'''\n",
        "\n",
        "tf.set_random_seed(777)  # for reproducibility\n",
        "tf.reset_default_graph()\n",
        "\n",
        "# EMNIST data image of shape 28 * 28 = 784\n",
        "X = tf.placeholder(tf.float32, [None, 784])\n",
        "# 47 classes: 10 digits, 26 letters, and 11 capital letters \n",
        "Y = tf.placeholder(tf.float32, [None, numClasses])\n",
        "\n",
        "\n",
        "W1 = tf.Variable(tf.random_normal([784, 512]))\n",
        "b1 = tf.Variable(tf.random_normal([512]))\n",
        "L1 = tf.nn.relu(tf.matmul(X, W1) + b1)\n",
        "\n",
        "W2 = tf.Variable(tf.random_normal([512, 512]))\n",
        "b2 = tf.Variable(tf.random_normal([512]))\n",
        "L2 = tf.nn.relu(tf.matmul(L1, W2) + b2)\n",
        "\n",
        "W3 = tf.Variable(tf.random_normal([512, 512]))\n",
        "b3 = tf.Variable(tf.random_normal([512]))\n",
        "L3 = tf.nn.relu(tf.matmul(L2, W3) + b3)\n",
        "\n",
        "W4 = tf.Variable(tf.random_normal([512, numClasses]))\n",
        "b4 = tf.Variable(tf.random_normal([numClasses]))\n",
        "hypothesis = tf.matmul(L3, W4) + b4\n",
        "\n",
        "# cost & train\n",
        "cost = tf.reduce_mean(tf.nn.softmax_cross_entropy_with_logits(logits=hypothesis, labels=Y))\n",
        "train = tf.train.AdamOptimizer(learning_rate=learning_rate).minimize(cost)\n",
        "\n",
        "\n",
        "# parameters\n",
        "num_epochs = 15\n",
        "batch_size = 100\n",
        "print('numTrain: ', numTrain)\n",
        "num_iterations = int( numTrain / batch_size)\n",
        "\n",
        "with tf.Session() as sess:\n",
        "    # Initialize TensorFlow variables\n",
        "    sess.run(tf.global_variables_initializer())\n",
        "    # Training\n",
        "    for epoch in range(num_epochs):\n",
        "        avg_cost = 0\n",
        "\n",
        "        for i in range(num_iterations):\n",
        "            batch_xs, batch_ys = train_data[i * 100: (i + 1) * 100], train_labels[i * 100: (i + 1) * 100]\n",
        "            _, cost_val = sess.run([train, cost], feed_dict={X: batch_xs, Y: batch_ys})\n",
        "            avg_cost += cost_val / num_iterations\n",
        "\n",
        "        print(\"Epoch: {:04d}, Cost: {:.9f}\".format(epoch + 1, avg_cost))\n",
        "\n",
        "    print(\"Learning finished\")\n",
        "\n",
        "    # Test model\n",
        "    is_correct = tf.equal(tf.argmax(hypothesis, 1), tf.argmax(Y, 1))\n",
        "\n",
        "    # Calculate accuracy\n",
        "    accuracy = tf.reduce_mean(tf.cast(is_correct, tf.float32))\n",
        "\n",
        "    # Test the model using test sets\n",
        "    print(\"Accuracy: \", sess.run(accuracy, feed_dict={X: test_data, Y: test_labels}))\n",
        "\n",
        "    # Get Label and predict\n",
        "    r = random.randint(0, numTest - 1)\n",
        "    print(\"Label: \", sess.run(tf.argmax(test_labels[r : r + 1], 1)))\n",
        "    print(\n",
        "        \"Prediction: \",\n",
        "        sess.run(tf.argmax(hypothesis, 1), feed_dict={X: test_data[r : r + 1]}),\n",
        "    )\n",
        "\n",
        "    plt.imshow(\n",
        "        test_data[r : r + 1].reshape(28, 28),\n",
        "        cmap=\"Greys\",\n",
        "        interpolation=\"nearest\",\n",
        "    )\n",
        "    plt.show()\n"
      ],
      "execution_count": 0,
      "outputs": [
        {
          "output_type": "stream",
          "text": [
            "numTrain:  112800\n",
            "Epoch: 0001, Cost: 8642.529711351\n",
            "Epoch: 0002, Cost: 2481.713991206\n",
            "Epoch: 0003, Cost: 1461.960102920\n",
            "Epoch: 0004, Cost: 983.205817202\n",
            "Epoch: 0005, Cost: 699.275430531\n",
            "Epoch: 0006, Cost: 514.055722013\n",
            "Epoch: 0007, Cost: 382.135182009\n",
            "Epoch: 0008, Cost: 290.110750185\n",
            "Epoch: 0009, Cost: 223.293022807\n",
            "Epoch: 0010, Cost: 173.172536803\n",
            "Epoch: 0011, Cost: 138.131260886\n",
            "Epoch: 0012, Cost: 109.862700687\n",
            "Epoch: 0013, Cost: 90.336773301\n",
            "Epoch: 0014, Cost: 74.091697410\n",
            "Epoch: 0015, Cost: 63.775216297\n",
            "Learning finished\n",
            "Accuracy:  0.6993085\n",
            "Label:  [0]\n",
            "Prediction:  [24]\n"
          ],
          "name": "stdout"
        },
        {
          "output_type": "display_data",
          "data": {
            "image/png": "[encoded data removed]",
            "text/plain": [
              "<Figure size 432x288 with 1 Axes>"
            ]
          },
          "metadata": {
            "tags": []
          }
        }
      ]
    },
    {
      "cell_type": "markdown",
      "metadata": {
        "id": "vfRuP1TFUIeE",
        "colab_type": "text"
      },
      "source": [
        "### Digits"
      ]
    },
    {
      "cell_type": "code",
      "metadata": {
        "id": "fgLSNG8qUKh2",
        "colab_type": "code",
        "outputId": "e22748ec-a7bf-4c84-a606-e50ea6f02dac",
        "colab": {
          "base_uri": "https://localhost:8080/",
          "height": 609
        }
      },
      "source": [
        "import numpy as np\n",
        "import pandas as pd\n",
        "import matplotlib.pyplot as plt\n",
        "import random\n",
        "import tensorflow as tf\n",
        "\n",
        "\n",
        "#train = pd.read_csv('emnist-balanced-train.csv', header=None)\n",
        "train = pd.read_csv('emnist-digits-train.csv', header=None)\n",
        "\n",
        "#test = pd.read_csv('emnist-balanced-test.csv', header=None)\n",
        "test = pd.read_csv('emnist-digits-test.csv', header=None)\n",
        "\n",
        "#train.head()\n",
        "\n",
        "# Number of Train\n",
        "numTrain = len(train)\n",
        "# Number of Test\n",
        "numTest = len(test)\n",
        "# Number of Classes\n",
        "numClasses = len(train[0].unique())\n",
        "learning_rate = 0.001\n",
        "\n",
        "train_data = train.iloc[:, 1:]\n",
        "train_labels = train.iloc[:, 0]\n",
        "test_data = test.iloc[:, 1:]\n",
        "test_labels = test.iloc[:, 0]\n",
        "\n",
        "# one-hot encoding\n",
        "train_labels = pd.get_dummies(train_labels)\n",
        "test_labels = pd.get_dummies(test_labels)\n",
        "#train_labels.head()\n",
        "\n",
        "train_data = train_data.values\n",
        "train_labels = train_labels.values\n",
        "test_data = test_data.values\n",
        "test_labels = test_labels.values\n",
        "\n",
        "\n",
        "rand = random.randint(0, numTrain - 1)\n",
        "\n",
        "'''\n",
        "plt.imshow(\n",
        "\ttrain_data[rand].reshape([28, 28]), \n",
        "\tcmap='Greys'\n",
        "\t)\n",
        "plt.show()\n",
        "'''\n",
        "\n",
        "def rotate(image):\n",
        "    image = image.reshape([28, 28])\n",
        "    image = np.fliplr(image)\n",
        "    image = np.rot90(image)\n",
        "    return image.reshape([28 * 28])\n",
        "train_data = np.apply_along_axis(rotate, 1, train_data)/255\n",
        "test_data = np.apply_along_axis(rotate, 1, test_data)/255\n",
        "\n",
        "'''\n",
        "plt.imshow(\n",
        "\ttrain_data[rand].reshape([28, 28]), \n",
        "\tcmap='Greys'\n",
        "\t)\n",
        "plt.show()\n",
        "'''\n",
        "\n",
        "tf.set_random_seed(777)  # for reproducibility\n",
        "tf.reset_default_graph()\n",
        "\n",
        "# EMNIST data image of shape 28 * 28 = 784\n",
        "X = tf.placeholder(tf.float32, [None, 784])\n",
        "# 47 classes: 10 digits, 26 letters, and 11 capital letters \n",
        "Y = tf.placeholder(tf.float32, [None, numClasses])\n",
        "\n",
        "\n",
        "W1 = tf.Variable(tf.random_normal([784, 512]))\n",
        "b1 = tf.Variable(tf.random_normal([512]))\n",
        "L1 = tf.nn.relu(tf.matmul(X, W1) + b1)\n",
        "\n",
        "W2 = tf.Variable(tf.random_normal([512, 512]))\n",
        "b2 = tf.Variable(tf.random_normal([512]))\n",
        "L2 = tf.nn.relu(tf.matmul(L1, W2) + b2)\n",
        "\n",
        "W3 = tf.Variable(tf.random_normal([512, 512]))\n",
        "b3 = tf.Variable(tf.random_normal([512]))\n",
        "L3 = tf.nn.relu(tf.matmul(L2, W3) + b3)\n",
        "\n",
        "W4 = tf.Variable(tf.random_normal([512, numClasses]))\n",
        "b4 = tf.Variable(tf.random_normal([numClasses]))\n",
        "hypothesis = tf.matmul(L3, W4) + b4\n",
        "\n",
        "# cost & train\n",
        "cost = tf.reduce_mean(tf.nn.softmax_cross_entropy_with_logits(logits=hypothesis, labels=Y))\n",
        "train = tf.train.AdamOptimizer(learning_rate=learning_rate).minimize(cost)\n",
        "\n",
        "\n",
        "# parameters\n",
        "num_epochs = 15\n",
        "batch_size = 100\n",
        "print('numTrain: ', numTrain)\n",
        "num_iterations = int( numTrain / batch_size)\n",
        "\n",
        "with tf.Session() as sess:\n",
        "    # Initialize TensorFlow variables\n",
        "    sess.run(tf.global_variables_initializer())\n",
        "    # Training\n",
        "    for epoch in range(num_epochs):\n",
        "        avg_cost = 0\n",
        "\n",
        "        for i in range(num_iterations):\n",
        "            batch_xs, batch_ys = train_data[i * 100: (i + 1) * 100], train_labels[i * 100: (i + 1) * 100]\n",
        "            _, cost_val = sess.run([train, cost], feed_dict={X: batch_xs, Y: batch_ys})\n",
        "            avg_cost += cost_val / num_iterations\n",
        "\n",
        "        print(\"Epoch: {:04d}, Cost: {:.9f}\".format(epoch + 1, avg_cost))\n",
        "\n",
        "    print(\"Learning finished\")\n",
        "\n",
        "    # Test model\n",
        "    is_correct = tf.equal(tf.argmax(hypothesis, 1), tf.argmax(Y, 1))\n",
        "\n",
        "    # Calculate accuracy\n",
        "    accuracy = tf.reduce_mean(tf.cast(is_correct, tf.float32))\n",
        "\n",
        "    # Test the model using test sets\n",
        "    print(\"Accuracy: \", sess.run(accuracy, feed_dict={X: test_data, Y: test_labels}))\n",
        "\n",
        "    # Get Label and predict\n",
        "    r = random.randint(0, numTest - 1)\n",
        "    print(\"Label: \", sess.run(tf.argmax(test_labels[r : r + 1], 1)))\n",
        "    print(\n",
        "        \"Prediction: \",\n",
        "        sess.run(tf.argmax(hypothesis, 1), feed_dict={X: test_data[r : r + 1]}),\n",
        "    )\n",
        "\n",
        "    plt.imshow(\n",
        "        test_data[r : r + 1].reshape(28, 28),\n",
        "        cmap=\"Greys\",\n",
        "        interpolation=\"nearest\",\n",
        "    )\n",
        "    plt.show()\n",
        "\n"
      ],
      "execution_count": 0,
      "outputs": [
        {
          "output_type": "stream",
          "text": [
            "numTrain:  240000\n",
            "Epoch: 0001, Cost: 1254.097743122\n",
            "Epoch: 0002, Cost: 246.871940774\n",
            "Epoch: 0003, Cost: 137.709690004\n",
            "Epoch: 0004, Cost: 86.881786227\n",
            "Epoch: 0005, Cost: 59.710167026\n",
            "Epoch: 0006, Cost: 44.622771997\n",
            "Epoch: 0007, Cost: 35.687775417\n",
            "Epoch: 0008, Cost: 27.622199425\n",
            "Epoch: 0009, Cost: 24.814995090\n",
            "Epoch: 0010, Cost: 21.613631717\n",
            "Epoch: 0011, Cost: 19.230210329\n",
            "Epoch: 0012, Cost: 17.108183406\n",
            "Epoch: 0013, Cost: 15.746177453\n",
            "Epoch: 0014, Cost: 14.488535248\n",
            "Epoch: 0015, Cost: 13.864103281\n",
            "Learning finished\n",
            "Accuracy:  0.9823\n",
            "Label:  [8]\n",
            "Prediction:  [8]\n"
          ],
          "name": "stdout"
        },
        {
          "output_type": "display_data",
          "data": {
            "image/png": "[encoded data removed]",
            "text/plain": [
              "<Figure size 432x288 with 1 Axes>"
            ]
          },
          "metadata": {
            "tags": []
          }
        }
      ]
    },
    {
      "cell_type": "markdown",
      "metadata": {
        "id": "-TO-ibUcHGgF",
        "colab_type": "text"
      },
      "source": [
        "# Xavier Initialization"
      ]
    },
    {
      "cell_type": "markdown",
      "metadata": {
        "id": "1BiJoJrtFOBk",
        "colab_type": "text"
      },
      "source": [
        "## Load data"
      ]
    },
    {
      "cell_type": "code",
      "metadata": {
        "id": "iVrltLF8Ff9D",
        "colab_type": "code",
        "colab": {}
      },
      "source": [
        "import numpy as np\n",
        "import pandas as pd\n",
        "import matplotlib.pyplot as plt\n",
        "import random\n",
        "import tensorflow as tf\n",
        "\n",
        "\n",
        "train = pd.read_csv('emnist-balanced-train.csv', header=None)\n",
        "#train = pd.read_csv('emnist/emnist-digits-train.csv', header=None)\n",
        "\n",
        "test = pd.read_csv('emnist-balanced-test.csv', header=None)\n",
        "#test = pd.read_csv('emnist/emnist-digits-test.csv', header=None)\n",
        "\n",
        "#train.head()\n",
        "\n",
        "# Number of Train\n",
        "numTrain = len(train)\n",
        "# Number of Test\n",
        "numTest = len(test)\n",
        "# Number of Classes\n",
        "numClasses = len(train[0].unique())\n",
        "learning_rate = 0.001\n",
        "\n",
        "train_data = train.iloc[:, 1:]\n",
        "train_labels = train.iloc[:, 0]\n",
        "test_data = test.iloc[:, 1:]\n",
        "test_labels = test.iloc[:, 0]\n",
        "\n",
        "# one-hot encoding\n",
        "train_labels = pd.get_dummies(train_labels)\n",
        "test_labels = pd.get_dummies(test_labels)\n",
        "#train_labels.head()\n",
        "\n",
        "train_data = train_data.values\n",
        "train_labels = train_labels.values\n",
        "test_data = test_data.values\n",
        "test_labels = test_labels.values\n",
        "\n",
        "\n",
        "rand = random.randint(0, numTrain - 1)\n",
        "\n",
        "'''\n",
        "plt.imshow(\n",
        "\ttrain_data[rand].reshape([28, 28]), \n",
        "\tcmap='Greys'\n",
        "\t)\n",
        "plt.show()\n",
        "'''\n",
        "\n",
        "def rotate(image):\n",
        "    image = image.reshape([28, 28])\n",
        "    image = np.fliplr(image)\n",
        "    image = np.rot90(image)\n",
        "    return image.reshape([28 * 28])\n",
        "train_data = np.apply_along_axis(rotate, 1, train_data)/255\n",
        "test_data = np.apply_along_axis(rotate, 1, test_data)/255\n",
        "\n",
        "'''\n",
        "plt.imshow(\n",
        "\ttrain_data[rand].reshape([28, 28]), \n",
        "\tcmap='Greys'\n",
        "\t)\n",
        "plt.show()\n",
        "'''"
      ],
      "execution_count": 0,
      "outputs": []
    },
    {
      "cell_type": "markdown",
      "metadata": {
        "id": "JxndcFu5FQnt",
        "colab_type": "text"
      },
      "source": [
        "The process of importing training data set and test data set is the same as softmax algorithm above. The initial value at first is very important to train the data set. That is, we should make sure the weights are just right, not too small, and not too big."
      ]
    },
    {
      "cell_type": "markdown",
      "metadata": {
        "id": "vTMKxoTuGGzj",
        "colab_type": "text"
      },
      "source": [
        "## Algorithm"
      ]
    },
    {
      "cell_type": "code",
      "metadata": {
        "id": "6_h9Olg3LRuB",
        "colab_type": "code",
        "colab": {}
      },
      "source": [
        "# EMNIST data image of shape 28 * 28 = 784\n",
        "X = tf.placeholder(tf.float32, [None, 784])\n",
        "# 47 classes: 10 digits, 26 letters, and 11 capital letters \n",
        "Y = tf.placeholder(tf.float32, [None, numClasses])\n",
        "\n",
        "\n",
        "# weights & bias for nn layers\n",
        "W1 = tf.get_variable(\"W1\", shape=[784, 512], initializer=tf.contrib.layers.xavier_initializer())\n",
        "b1 = tf.Variable(tf.random_normal([512]))\n",
        "L1 = tf.nn.relu(tf.matmul(X, W1) + b1)\n",
        "\n",
        "W2 = tf.get_variable(\"W2\", shape=[512, 512], initializer=tf.contrib.layers.xavier_initializer())\n",
        "b2 = tf.Variable(tf.random_normal([512]))\n",
        "L2 = tf.nn.relu(tf.matmul(L1, W2) + b2)\n",
        "\n",
        "W3 = tf.get_variable(\"W3\", shape=[512, 512], initializer=tf.contrib.layers.xavier_initializer())\n",
        "b3 = tf.Variable(tf.random_normal([512]))\n",
        "L3 = tf.nn.relu(tf.matmul(L2, W3) + b3)\n",
        "\n",
        "W4 = tf.get_variable(\"W4\", shape=[512, numClasses], initializer=tf.contrib.layers.xavier_initializer())\n",
        "b4 = tf.Variable(tf.random_normal([numClasses]))\n",
        "hypothesis = tf.matmul(L3, W4) + b4"
      ],
      "execution_count": 0,
      "outputs": []
    },
    {
      "cell_type": "markdown",
      "metadata": {
        "id": "MJdCQc5TLUdH",
        "colab_type": "text"
      },
      "source": [
        "Basic algorithm is the same as Neural Network above. A difference between Xavier algorithm  and Neural Network is an initialization value [6].  Input and output are randomly provided like below."
      ]
    },
    {
      "cell_type": "code",
      "metadata": {
        "id": "YyM8uGvqPlKm",
        "colab_type": "code",
        "colab": {}
      },
      "source": [
        "np.random.randn(input, output)/np.sqrt(input)"
      ],
      "execution_count": 0,
      "outputs": []
    },
    {
      "cell_type": "markdown",
      "metadata": {
        "id": "Sp1BpT74QURV",
        "colab_type": "text"
      },
      "source": [
        "Google implemented prettytensor for Xavier initialization[7]. However, fortunately, tensorflow offers Xavier initialization library. So we use the library in hidden layer 1, 2, and 3."
      ]
    },
    {
      "cell_type": "code",
      "metadata": {
        "id": "fS1qPQxRQhJ7",
        "colab_type": "code",
        "colab": {}
      },
      "source": [
        "W1 = tf.get_variable(\"W1\", shape=[784, 512], initializer=tf.contrib.layers.xavier_initializer())\n",
        "W2 = tf.get_variable(\"W2\", shape=[512, 512], initializer=tf.contrib.layers.xavier_initializer())\n",
        "W3 = tf.get_variable(\"W3\", shape=[512, 512], initializer=tf.contrib.layers.xavier_initializer())\n",
        "W4 = tf.get_variable(\"W4\", shape=[512, numClasses], initializer=tf.contrib.layers.xavier_initializer())"
      ],
      "execution_count": 0,
      "outputs": []
    },
    {
      "cell_type": "markdown",
      "metadata": {
        "id": "Yd7LUdpsRY9f",
        "colab_type": "text"
      },
      "source": [
        "Lastly, we use identical cost and Adam optimization like neural networks and then train and evaluate our training using accuracy. The code is the same as above.\n",
        "\n",
        "Cost values of Xavier are much lower than cost values of neural networks"
      ]
    },
    {
      "cell_type": "markdown",
      "metadata": {
        "id": "y_exD8GHLjU1",
        "colab_type": "text"
      },
      "source": [
        "## Code"
      ]
    },
    {
      "cell_type": "markdown",
      "metadata": {
        "id": "7d23I14ZSj7z",
        "colab_type": "text"
      },
      "source": [
        "### Alphabet / Digits"
      ]
    },
    {
      "cell_type": "code",
      "metadata": {
        "id": "YYPlzVdeHKGZ",
        "colab_type": "code",
        "outputId": "182fa713-8042-43d8-ac3e-70f384bbdb19",
        "colab": {
          "base_uri": "https://localhost:8080/",
          "height": 728
        }
      },
      "source": [
        "import numpy as np\n",
        "import pandas as pd\n",
        "import matplotlib.pyplot as plt\n",
        "import random\n",
        "import tensorflow as tf\n",
        "\n",
        "\n",
        "train = pd.read_csv('emnist-balanced-train.csv', header=None)\n",
        "#train = pd.read_csv('emnist/emnist-digits-train.csv', header=None)\n",
        "\n",
        "test = pd.read_csv('emnist-balanced-test.csv', header=None)\n",
        "#test = pd.read_csv('emnist/emnist-digits-test.csv', header=None)\n",
        "\n",
        "#train.head()\n",
        "\n",
        "# Number of Train\n",
        "numTrain = len(train)\n",
        "# Number of Test\n",
        "numTest = len(test)\n",
        "# Number of Classes\n",
        "numClasses = len(train[0].unique())\n",
        "learning_rate = 0.001\n",
        "\n",
        "train_data = train.iloc[:, 1:]\n",
        "train_labels = train.iloc[:, 0]\n",
        "test_data = test.iloc[:, 1:]\n",
        "test_labels = test.iloc[:, 0]\n",
        "\n",
        "# one-hot encoding\n",
        "train_labels = pd.get_dummies(train_labels)\n",
        "test_labels = pd.get_dummies(test_labels)\n",
        "#train_labels.head()\n",
        "\n",
        "train_data = train_data.values\n",
        "train_labels = train_labels.values\n",
        "test_data = test_data.values\n",
        "test_labels = test_labels.values\n",
        "\n",
        "\n",
        "rand = random.randint(0, numTrain - 1)\n",
        "\n",
        "'''\n",
        "plt.imshow(\n",
        "\ttrain_data[rand].reshape([28, 28]), \n",
        "\tcmap='Greys'\n",
        "\t)\n",
        "plt.show()\n",
        "'''\n",
        "\n",
        "def rotate(image):\n",
        "    image = image.reshape([28, 28])\n",
        "    image = np.fliplr(image)\n",
        "    image = np.rot90(image)\n",
        "    return image.reshape([28 * 28])\n",
        "train_data = np.apply_along_axis(rotate, 1, train_data)/255\n",
        "test_data = np.apply_along_axis(rotate, 1, test_data)/255\n",
        "\n",
        "'''\n",
        "plt.imshow(\n",
        "\ttrain_data[rand].reshape([28, 28]), \n",
        "\tcmap='Greys'\n",
        "\t)\n",
        "plt.show()\n",
        "'''\n",
        "\n",
        "tf.set_random_seed(777)  # for reproducibility\n",
        "tf.reset_default_graph()\n",
        "\n",
        "# EMNIST data image of shape 28 * 28 = 784\n",
        "X = tf.placeholder(tf.float32, [None, 784])\n",
        "# 47 classes: 10 digits, 26 letters, and 11 capital letters \n",
        "Y = tf.placeholder(tf.float32, [None, numClasses])\n",
        "\n",
        "\n",
        "# weights & bias for nn layers\n",
        "W1 = tf.get_variable(\"W1\", shape=[784, 512], initializer=tf.contrib.layers.xavier_initializer())\n",
        "b1 = tf.Variable(tf.random_normal([512]))\n",
        "L1 = tf.nn.relu(tf.matmul(X, W1) + b1)\n",
        "\n",
        "W2 = tf.get_variable(\"W2\", shape=[512, 512], initializer=tf.contrib.layers.xavier_initializer())\n",
        "b2 = tf.Variable(tf.random_normal([512]))\n",
        "L2 = tf.nn.relu(tf.matmul(L1, W2) + b2)\n",
        "\n",
        "W3 = tf.get_variable(\"W3\", shape=[512, 512], initializer=tf.contrib.layers.xavier_initializer())\n",
        "b3 = tf.Variable(tf.random_normal([512]))\n",
        "L3 = tf.nn.relu(tf.matmul(L2, W3) + b3)\n",
        "\n",
        "W4 = tf.get_variable(\"W4\", shape=[512, numClasses], initializer=tf.contrib.layers.xavier_initializer())\n",
        "b4 = tf.Variable(tf.random_normal([numClasses]))\n",
        "hypothesis = tf.matmul(L3, W4) + b4\n",
        "\n",
        "# cost & train\n",
        "cost = tf.reduce_mean(tf.nn.softmax_cross_entropy_with_logits(logits=hypothesis, labels=Y))\n",
        "train = tf.train.AdamOptimizer(learning_rate=learning_rate).minimize(cost)\n",
        "\n",
        "\n",
        "# parameters\n",
        "num_epochs = 15\n",
        "batch_size = 100\n",
        "print('numTrain: ', numTrain)\n",
        "num_iterations = int( numTrain / batch_size)\n",
        "\n",
        "with tf.Session() as sess:\n",
        "    # Initialize TensorFlow variables\n",
        "    sess.run(tf.global_variables_initializer())\n",
        "    # Training\n",
        "    for epoch in range(num_epochs):\n",
        "        avg_cost = 0\n",
        "\n",
        "        for i in range(num_iterations):\n",
        "            batch_xs, batch_ys = train_data[i * 100: (i + 1) * 100], train_labels[i * 100: (i + 1) * 100]\n",
        "            _, cost_val = sess.run([train, cost], feed_dict={X: batch_xs, Y: batch_ys})\n",
        "            avg_cost += cost_val / num_iterations\n",
        "\n",
        "        print(\"Epoch: {:04d}, Cost: {:.9f}\".format(epoch + 1, avg_cost))\n",
        "\n",
        "    print(\"Learning finished\")\n",
        "\n",
        "    # Test model\n",
        "    is_correct = tf.equal(tf.argmax(hypothesis, 1), tf.argmax(Y, 1))\n",
        "\n",
        "    # Calculate accuracy\n",
        "    accuracy = tf.reduce_mean(tf.cast(is_correct, tf.float32))\n",
        "\n",
        "    # Test the model using test sets\n",
        "    print(\"Accuracy: \", sess.run(accuracy, feed_dict={X: test_data, Y: test_labels}))\n",
        "    \n",
        "\n",
        "    # Get Label and predict\n",
        "    r = random.randint(0, numTest - 1)\n",
        "    print(\"Label: \", sess.run(tf.argmax(test_labels[r : r + 1], 1)))\n",
        "    print(\n",
        "        \"Prediction: \",\n",
        "        sess.run(tf.argmax(hypothesis, 1), feed_dict={X: test_data[r : r + 1]}),\n",
        "    )\n",
        "\n",
        "    plt.imshow(\n",
        "        test_data[r : r + 1].reshape(28, 28),\n",
        "        cmap=\"Greys\",\n",
        "        interpolation=\"nearest\",\n",
        "    )\n",
        "    plt.show()"
      ],
      "execution_count": 0,
      "outputs": [
        {
          "output_type": "stream",
          "text": [
            "\n",
            "WARNING: The TensorFlow contrib module will not be included in TensorFlow 2.0.\n",
            "For more information, please see:\n",
            "  * https://github.com/tensorflow/community/blob/master/rfcs/20180907-contrib-sunset.md\n",
            "  * https://github.com/tensorflow/addons\n",
            "If you depend on functionality not listed there, please file an issue.\n",
            "\n",
            "numTrain:  112800\n",
            "Epoch: 0001, Cost: 0.922173137\n",
            "Epoch: 0002, Cost: 0.501473968\n",
            "Epoch: 0003, Cost: 0.411888543\n",
            "Epoch: 0004, Cost: 0.357318249\n",
            "Epoch: 0005, Cost: 0.319102287\n",
            "Epoch: 0006, Cost: 0.288661301\n",
            "Epoch: 0007, Cost: 0.262170818\n",
            "Epoch: 0008, Cost: 0.242621696\n",
            "Epoch: 0009, Cost: 0.229773155\n",
            "Epoch: 0010, Cost: 0.212708886\n",
            "Epoch: 0011, Cost: 0.199395352\n",
            "Epoch: 0012, Cost: 0.196674012\n",
            "Epoch: 0013, Cost: 0.183474308\n",
            "Epoch: 0014, Cost: 0.173996904\n",
            "Epoch: 0015, Cost: 0.170004412\n",
            "Learning finished\n",
            "Accuracy:  0.8368085\n",
            "Label:  [6]\n",
            "Prediction:  [6]\n"
          ],
          "name": "stdout"
        },
        {
          "output_type": "display_data",
          "data": {
            "image/png": "[encoded data removed]",
            "text/plain": [
              "<Figure size 432x288 with 1 Axes>"
            ]
          },
          "metadata": {
            "tags": []
          }
        }
      ]
    },
    {
      "cell_type": "markdown",
      "metadata": {
        "id": "UxojUkCfSmgM",
        "colab_type": "text"
      },
      "source": [
        "### Digits"
      ]
    },
    {
      "cell_type": "code",
      "metadata": {
        "id": "KXXw_mSjSnqG",
        "colab_type": "code",
        "outputId": "cc33a501-aeb8-4739-90e3-3f87d5ffeebb",
        "colab": {
          "base_uri": "https://localhost:8080/",
          "height": 609
        }
      },
      "source": [
        "import numpy as np\n",
        "import pandas as pd\n",
        "import matplotlib.pyplot as plt\n",
        "import random\n",
        "import tensorflow as tf\n",
        "\n",
        "\n",
        "#train = pd.read_csv('emnist-balanced-train.csv', header=None)\n",
        "train = pd.read_csv('emnist-digits-train.csv', header=None)\n",
        "\n",
        "#test = pd.read_csv('emnist-balanced-test.csv', header=None)\n",
        "test = pd.read_csv('emnist-digits-test.csv', header=None)\n",
        "\n",
        "#train.head()\n",
        "\n",
        "# Number of Train\n",
        "numTrain = len(train)\n",
        "# Number of Test\n",
        "numTest = len(test)\n",
        "# Number of Classes\n",
        "numClasses = len(train[0].unique())\n",
        "learning_rate = 0.001\n",
        "\n",
        "train_data = train.iloc[:, 1:]\n",
        "train_labels = train.iloc[:, 0]\n",
        "test_data = test.iloc[:, 1:]\n",
        "test_labels = test.iloc[:, 0]\n",
        "\n",
        "# one-hot encoding\n",
        "train_labels = pd.get_dummies(train_labels)\n",
        "test_labels = pd.get_dummies(test_labels)\n",
        "#train_labels.head()\n",
        "\n",
        "train_data = train_data.values\n",
        "train_labels = train_labels.values\n",
        "test_data = test_data.values\n",
        "test_labels = test_labels.values\n",
        "\n",
        "\n",
        "rand = random.randint(0, numTrain - 1)\n",
        "\n",
        "'''\n",
        "plt.imshow(\n",
        "\ttrain_data[rand].reshape([28, 28]), \n",
        "\tcmap='Greys'\n",
        "\t)\n",
        "plt.show()\n",
        "'''\n",
        "\n",
        "def rotate(image):\n",
        "    image = image.reshape([28, 28])\n",
        "    image = np.fliplr(image)\n",
        "    image = np.rot90(image)\n",
        "    return image.reshape([28 * 28])\n",
        "train_data = np.apply_along_axis(rotate, 1, train_data)/255\n",
        "test_data = np.apply_along_axis(rotate, 1, test_data)/255\n",
        "\n",
        "'''\n",
        "plt.imshow(\n",
        "\ttrain_data[rand].reshape([28, 28]), \n",
        "\tcmap='Greys'\n",
        "\t)\n",
        "plt.show()\n",
        "'''\n",
        "\n",
        "tf.set_random_seed(777)  # for reproducibility\n",
        "tf.reset_default_graph()\n",
        "\n",
        "# EMNIST data image of shape 28 * 28 = 784\n",
        "X = tf.placeholder(tf.float32, [None, 784])\n",
        "# 47 classes: 10 digits, 26 letters, and 11 capital letters \n",
        "Y = tf.placeholder(tf.float32, [None, numClasses])\n",
        "\n",
        "\n",
        "# weights & bias for nn layers\n",
        "W1 = tf.get_variable(\"W1\", shape=[784, 512], initializer=tf.contrib.layers.xavier_initializer())\n",
        "b1 = tf.Variable(tf.random_normal([512]))\n",
        "L1 = tf.nn.relu(tf.matmul(X, W1) + b1)\n",
        "\n",
        "W2 = tf.get_variable(\"W2\", shape=[512, 512], initializer=tf.contrib.layers.xavier_initializer())\n",
        "b2 = tf.Variable(tf.random_normal([512]))\n",
        "L2 = tf.nn.relu(tf.matmul(L1, W2) + b2)\n",
        "\n",
        "W3 = tf.get_variable(\"W3\", shape=[512, 512], initializer=tf.contrib.layers.xavier_initializer())\n",
        "b3 = tf.Variable(tf.random_normal([512]))\n",
        "L3 = tf.nn.relu(tf.matmul(L2, W3) + b3)\n",
        "\n",
        "W4 = tf.get_variable(\"W4\", shape=[512, numClasses], initializer=tf.contrib.layers.xavier_initializer())\n",
        "b4 = tf.Variable(tf.random_normal([numClasses]))\n",
        "hypothesis = tf.matmul(L3, W4) + b4\n",
        "\n",
        "# cost & train\n",
        "cost = tf.reduce_mean(tf.nn.softmax_cross_entropy_with_logits(logits=hypothesis, labels=Y))\n",
        "train = tf.train.AdamOptimizer(learning_rate=learning_rate).minimize(cost)\n",
        "\n",
        "\n",
        "# parameters\n",
        "num_epochs = 15\n",
        "batch_size = 100\n",
        "print('numTrain: ', numTrain)\n",
        "num_iterations = int( numTrain / batch_size)\n",
        "\n",
        "with tf.Session() as sess:\n",
        "    # Initialize TensorFlow variables\n",
        "    sess.run(tf.global_variables_initializer())\n",
        "    # Training\n",
        "    for epoch in range(num_epochs):\n",
        "        avg_cost = 0\n",
        "\n",
        "        for i in range(num_iterations):\n",
        "            batch_xs, batch_ys = train_data[i * 100: (i + 1) * 100], train_labels[i * 100: (i + 1) * 100]\n",
        "            _, cost_val = sess.run([train, cost], feed_dict={X: batch_xs, Y: batch_ys})\n",
        "            avg_cost += cost_val / num_iterations\n",
        "\n",
        "        print(\"Epoch: {:04d}, Cost: {:.9f}\".format(epoch + 1, avg_cost))\n",
        "\n",
        "    print(\"Learning finished\")\n",
        "\n",
        "    # Test model\n",
        "    is_correct = tf.equal(tf.argmax(hypothesis, 1), tf.argmax(Y, 1))\n",
        "\n",
        "    # Calculate accuracy\n",
        "    accuracy = tf.reduce_mean(tf.cast(is_correct, tf.float32))\n",
        "\n",
        "    # Test the model using test sets\n",
        "    print(\"Accuracy: \", sess.run(accuracy, feed_dict={X: test_data, Y: test_labels}))\n",
        "    \n",
        "\n",
        "    # Get Label and predict\n",
        "    r = random.randint(0, numTest - 1)\n",
        "    print(\"Label: \", sess.run(tf.argmax(test_labels[r : r + 1], 1)))\n",
        "    print(\n",
        "        \"Prediction: \",\n",
        "        sess.run(tf.argmax(hypothesis, 1), feed_dict={X: test_data[r : r + 1]}),\n",
        "    )\n",
        "\n",
        "    plt.imshow(\n",
        "        test_data[r : r + 1].reshape(28, 28),\n",
        "        cmap=\"Greys\",\n",
        "        interpolation=\"nearest\",\n",
        "    )\n",
        "    plt.show()"
      ],
      "execution_count": 0,
      "outputs": [
        {
          "output_type": "stream",
          "text": [
            "numTrain:  240000\n",
            "Epoch: 0001, Cost: 0.112610524\n",
            "Epoch: 0002, Cost: 0.047038741\n",
            "Epoch: 0003, Cost: 0.035235770\n",
            "Epoch: 0004, Cost: 0.028168916\n",
            "Epoch: 0005, Cost: 0.023147189\n",
            "Epoch: 0006, Cost: 0.020137726\n",
            "Epoch: 0007, Cost: 0.018170127\n",
            "Epoch: 0008, Cost: 0.016829032\n",
            "Epoch: 0009, Cost: 0.015006357\n",
            "Epoch: 0010, Cost: 0.014536648\n",
            "Epoch: 0011, Cost: 0.013235325\n",
            "Epoch: 0012, Cost: 0.012501067\n",
            "Epoch: 0013, Cost: 0.012648829\n",
            "Epoch: 0014, Cost: 0.011626684\n",
            "Epoch: 0015, Cost: 0.010933093\n",
            "Learning finished\n",
            "Accuracy:  0.988775\n",
            "Label:  [8]\n",
            "Prediction:  [8]\n"
          ],
          "name": "stdout"
        },
        {
          "output_type": "display_data",
          "data": {
            "image/png": "[encoded data removed]",
            "text/plain": [
              "<Figure size 432x288 with 1 Axes>"
            ]
          },
          "metadata": {
            "tags": []
          }
        }
      ]
    },
    {
      "cell_type": "markdown",
      "metadata": {
        "id": "kIgIWz08HQc-",
        "colab_type": "text"
      },
      "source": [
        "# Dropout"
      ]
    },
    {
      "cell_type": "markdown",
      "metadata": {
        "id": "QBNAIynDFSYw",
        "colab_type": "text"
      },
      "source": [
        "## Load data"
      ]
    },
    {
      "cell_type": "code",
      "metadata": {
        "id": "X-mnXSLGFzO3",
        "colab_type": "code",
        "colab": {}
      },
      "source": [
        "import numpy as np\n",
        "import pandas as pd\n",
        "import matplotlib.pyplot as plt\n",
        "import random\n",
        "import tensorflow as tf\n",
        "\n",
        "\n",
        "train = pd.read_csv('emnist-balanced-train.csv', header=None)\n",
        "#train = pd.read_csv('emnist/emnist-digits-train.csv', header=None)\n",
        "\n",
        "test = pd.read_csv('emnist-balanced-test.csv', header=None)\n",
        "#test = pd.read_csv('emnist/emnist-digits-test.csv', header=None)\n",
        "\n",
        "#train.head()\n",
        "\n",
        "# Number of Train\n",
        "numTrain = len(train)\n",
        "# Number of Test\n",
        "numTest = len(test)\n",
        "# Number of Classes\n",
        "numClasses = len(train[0].unique())\n",
        "learning_rate = 0.001\n",
        "\n",
        "train_data = train.iloc[:, 1:]\n",
        "train_labels = train.iloc[:, 0]\n",
        "test_data = test.iloc[:, 1:]\n",
        "test_labels = test.iloc[:, 0]\n",
        "\n",
        "# one-hot encoding\n",
        "train_labels = pd.get_dummies(train_labels)\n",
        "test_labels = pd.get_dummies(test_labels)\n",
        "#train_labels.head()\n",
        "\n",
        "train_data = train_data.values\n",
        "train_labels = train_labels.values\n",
        "test_data = test_data.values\n",
        "test_labels = test_labels.values\n",
        "\n",
        "\n",
        "rand = random.randint(0, numTrain - 1)\n",
        "\n",
        "'''\n",
        "plt.imshow(\n",
        "\ttrain_data[rand].reshape([28, 28]), \n",
        "\tcmap='Greys'\n",
        "\t)\n",
        "plt.show()\n",
        "'''\n",
        "\n",
        "def rotate(image):\n",
        "    image = image.reshape([28, 28])\n",
        "    image = np.fliplr(image)\n",
        "    image = np.rot90(image)\n",
        "    return image.reshape([28 * 28])\n",
        "train_data = np.apply_along_axis(rotate, 1, train_data)/255\n",
        "test_data = np.apply_along_axis(rotate, 1, test_data)/255\n",
        "\n",
        "'''\n",
        "plt.imshow(\n",
        "\ttrain_data[rand].reshape([28, 28]), \n",
        "\tcmap='Greys'\n",
        "\t)\n",
        "plt.show()\n",
        "'''"
      ],
      "execution_count": 0,
      "outputs": []
    },
    {
      "cell_type": "markdown",
      "metadata": {
        "id": "4cpyt-4tFT9Q",
        "colab_type": "text"
      },
      "source": [
        "The process of importing training data set and test data set is the same as above"
      ]
    },
    {
      "cell_type": "markdown",
      "metadata": {
        "id": "O0iQiAzqF18b",
        "colab_type": "text"
      },
      "source": [
        "## Algorithm"
      ]
    },
    {
      "cell_type": "code",
      "metadata": {
        "id": "e-NjScajRwL3",
        "colab_type": "code",
        "colab": {}
      },
      "source": [
        "# dropout (keep_prob) rate\n",
        "keep_prob = tf.placeholder(tf.float32)\n",
        "\n",
        "# weights & bias for nn layers\n",
        "W1 = tf.get_variable(\"W1\", shape=[784, 512], initializer=tf.contrib.layers.xavier_initializer())\n",
        "b1 = tf.Variable(tf.random_normal([512]))\n",
        "L1 = tf.nn.relu(tf.matmul(X, W1) + b1)\n",
        "L1 = tf.nn.dropout(L1, keep_prob=keep_prob)\n",
        "\n",
        "W2 = tf.get_variable(\"W2\", shape=[512, 512], initializer=tf.contrib.layers.xavier_initializer())\n",
        "b2 = tf.Variable(tf.random_normal([512]))\n",
        "L2 = tf.nn.relu(tf.matmul(L1, W2) + b2)\n",
        "L2 = tf.nn.dropout(L2, keep_prob=keep_prob)\n",
        "\n",
        "W3 = tf.get_variable(\"W3\", shape=[512, 512], initializer=tf.contrib.layers.xavier_initializer())\n",
        "b3 = tf.Variable(tf.random_normal([512]))\n",
        "L3 = tf.nn.relu(tf.matmul(L2, W3) + b3)\n",
        "L3 = tf.nn.dropout(L3, keep_prob=keep_prob)\n",
        "\n",
        "W4 = tf.get_variable(\"W4\", shape=[512, numClasses], initializer=tf.contrib.layers.xavier_initializer())\n",
        "b4 = tf.Variable(tf.random_normal([numClasses]))\n",
        "hypothesis = tf.matmul(L3, W4) + b4"
      ],
      "execution_count": 0,
      "outputs": []
    },
    {
      "cell_type": "markdown",
      "metadata": {
        "id": "CSCYCAxkR7Cv",
        "colab_type": "text"
      },
      "source": [
        "We use dropout like below[8]. \n",
        "\n",
        "![alt text](https://cdn-images-1.medium.com/max/1600/1*tMAwd9AC4f8YFW5RiMUNvA.png)\n",
        "\n",
        "\n",
        "Figure (a) shows general neural networks. Figure (b) indicates dropout which means that nodes are randomly disconnected. So, we should set randomly some neurons to zero in the forword pass. This avoids overfitting because networks can memorize training data set while training. We use dropout when we train data set. However, when we test data set, we should not apply dropout to the networks. If we use dropout during the test, we can't evaluate our training dataset well."
      ]
    },
    {
      "cell_type": "code",
      "metadata": {
        "id": "EGNXt9dIqeL1",
        "colab_type": "code",
        "colab": {}
      },
      "source": [
        "L1 = tf.nn.dropout(L1, keep_prob=keep_prob)\n",
        "L2 = tf.nn.dropout(L2, keep_prob=keep_prob)\n",
        "L3 = tf.nn.dropout(L3, keep_prob=keep_prob)"
      ],
      "execution_count": 0,
      "outputs": []
    },
    {
      "cell_type": "markdown",
      "metadata": {
        "id": "q1mZJYSxqkFW",
        "colab_type": "text"
      },
      "source": [
        "In order to implement dropout, we can add only one line due to tensorflow library. In the code, input is L1/L2/L3 and output is also L1/L2/L3. keep_prob means how much networks keep. According to what we study, 50%~70% of networks are kept while training.  "
      ]
    },
    {
      "cell_type": "markdown",
      "metadata": {
        "id": "a3srTn4Pso6f",
        "colab_type": "text"
      },
      "source": [
        "### Training"
      ]
    },
    {
      "cell_type": "markdown",
      "metadata": {
        "id": "96ZE-3fcsxuE",
        "colab_type": "text"
      },
      "source": [
        "Training code is very similar to neural networks and Xavier except for keep_prob. Since we use dropout, we should add keep_prob when we train and test data set."
      ]
    },
    {
      "cell_type": "code",
      "metadata": {
        "id": "ep5URdQPrdvb",
        "colab_type": "code",
        "colab": {}
      },
      "source": [
        "_, cost_val = sess.run([train, cost], feed_dict={X: batch_xs, Y: batch_ys, keep_prob: 0.7})"
      ],
      "execution_count": 0,
      "outputs": []
    },
    {
      "cell_type": "markdown",
      "metadata": {
        "id": "YchZNd6FrjRP",
        "colab_type": "text"
      },
      "source": [
        "We would like to keep 70% of networks while training. Therefore, keep_prob: 0.7 in the code above during training. "
      ]
    },
    {
      "cell_type": "markdown",
      "metadata": {
        "id": "dMRo0cqvsr6s",
        "colab_type": "text"
      },
      "source": [
        "### Testing"
      ]
    },
    {
      "cell_type": "markdown",
      "metadata": {
        "id": "dmdsYbBJtGJN",
        "colab_type": "text"
      },
      "source": [
        "Without keep_prob, the code is almost identical with neural networks and Xavier."
      ]
    },
    {
      "cell_type": "code",
      "metadata": {
        "id": "Jiyd8wiHsuam",
        "colab_type": "code",
        "colab": {}
      },
      "source": [
        "# Test the model using test sets\n",
        "print(\"Accuracy: \", sess.run(accuracy, feed_dict={X: test_data, Y: test_labels, keep_prob: 1}))"
      ],
      "execution_count": 0,
      "outputs": []
    },
    {
      "cell_type": "markdown",
      "metadata": {
        "id": "Ia6vBjYVstqB",
        "colab_type": "text"
      },
      "source": [
        "As we discussed above, we need to keep 100% of networks while testing even if we apply dropout during training. Therefore, keep_prob: 1 which means that we will not drop any networks."
      ]
    },
    {
      "cell_type": "markdown",
      "metadata": {
        "id": "lbMYGHLdR8oq",
        "colab_type": "text"
      },
      "source": [
        "## Code"
      ]
    },
    {
      "cell_type": "markdown",
      "metadata": {
        "id": "tm2IZnCGRpPZ",
        "colab_type": "text"
      },
      "source": [
        "### Alphabet/Digits"
      ]
    },
    {
      "cell_type": "code",
      "metadata": {
        "id": "2Tduz6PcHSO5",
        "colab_type": "code",
        "outputId": "b1d07752-dc96-44fc-d703-3d5050694524",
        "colab": {
          "base_uri": "https://localhost:8080/",
          "height": 609
        }
      },
      "source": [
        "import numpy as np\n",
        "import pandas as pd\n",
        "import matplotlib.pyplot as plt\n",
        "import random\n",
        "import tensorflow as tf\n",
        "\n",
        "\n",
        "train = pd.read_csv('emnist-balanced-train.csv', header=None)\n",
        "#train = pd.read_csv('emnist/emnist-digits-train.csv', header=None)\n",
        "\n",
        "test = pd.read_csv('emnist-balanced-test.csv', header=None)\n",
        "#test = pd.read_csv('emnist/emnist-digits-test.csv', header=None)\n",
        "\n",
        "#train.head()\n",
        "\n",
        "# Number of Train\n",
        "numTrain = len(train)\n",
        "# Number of Test\n",
        "numTest = len(test)\n",
        "# Number of Classes\n",
        "numClasses = len(train[0].unique())\n",
        "learning_rate = 0.001\n",
        "\n",
        "train_data = train.iloc[:, 1:]\n",
        "train_labels = train.iloc[:, 0]\n",
        "test_data = test.iloc[:, 1:]\n",
        "test_labels = test.iloc[:, 0]\n",
        "\n",
        "# one-hot encoding\n",
        "train_labels = pd.get_dummies(train_labels)\n",
        "test_labels = pd.get_dummies(test_labels)\n",
        "#train_labels.head()\n",
        "\n",
        "train_data = train_data.values\n",
        "train_labels = train_labels.values\n",
        "test_data = test_data.values\n",
        "test_labels = test_labels.values\n",
        "\n",
        "\n",
        "rand = random.randint(0, numTrain - 1)\n",
        "\n",
        "'''\n",
        "plt.imshow(\n",
        "\ttrain_data[rand].reshape([28, 28]), \n",
        "\tcmap='Greys'\n",
        "\t)\n",
        "plt.show()\n",
        "'''\n",
        "\n",
        "def rotate(image):\n",
        "    image = image.reshape([28, 28])\n",
        "    image = np.fliplr(image)\n",
        "    image = np.rot90(image)\n",
        "    return image.reshape([28 * 28])\n",
        "train_data = np.apply_along_axis(rotate, 1, train_data)/255\n",
        "test_data = np.apply_along_axis(rotate, 1, test_data)/255\n",
        "\n",
        "'''\n",
        "plt.imshow(\n",
        "\ttrain_data[rand].reshape([28, 28]), \n",
        "\tcmap='Greys'\n",
        "\t)\n",
        "plt.show()\n",
        "'''\n",
        "\n",
        "tf.set_random_seed(777)  # for reproducibility\n",
        "tf.reset_default_graph()\n",
        "\n",
        "# EMNIST data image of shape 28 * 28 = 784\n",
        "X = tf.placeholder(tf.float32, [None, 784])\n",
        "# 47 classes: 10 digits, 26 letters, and 11 capital letters \n",
        "Y = tf.placeholder(tf.float32, [None, numClasses])\n",
        "\n",
        "# dropout (keep_prob) rate  0.7 on training, but should be 1 for testing\n",
        "keep_prob = tf.placeholder(tf.float32)\n",
        "\n",
        "# weights & bias for nn layers\n",
        "W1 = tf.get_variable(\"W1\", shape=[784, 512], initializer=tf.contrib.layers.xavier_initializer())\n",
        "b1 = tf.Variable(tf.random_normal([512]))\n",
        "L1 = tf.nn.relu(tf.matmul(X, W1) + b1)\n",
        "L1 = tf.nn.dropout(L1, keep_prob=keep_prob)\n",
        "\n",
        "W2 = tf.get_variable(\"W2\", shape=[512, 512], initializer=tf.contrib.layers.xavier_initializer())\n",
        "b2 = tf.Variable(tf.random_normal([512]))\n",
        "L2 = tf.nn.relu(tf.matmul(L1, W2) + b2)\n",
        "L2 = tf.nn.dropout(L2, keep_prob=keep_prob)\n",
        "\n",
        "W3 = tf.get_variable(\"W3\", shape=[512, 512], initializer=tf.contrib.layers.xavier_initializer())\n",
        "b3 = tf.Variable(tf.random_normal([512]))\n",
        "L3 = tf.nn.relu(tf.matmul(L2, W3) + b3)\n",
        "L3 = tf.nn.dropout(L3, keep_prob=keep_prob)\n",
        "\n",
        "W4 = tf.get_variable(\"W4\", shape=[512, numClasses], initializer=tf.contrib.layers.xavier_initializer())\n",
        "b4 = tf.Variable(tf.random_normal([numClasses]))\n",
        "hypothesis = tf.matmul(L3, W4) + b4\n",
        "\n",
        "# cost & train\n",
        "cost = tf.reduce_mean(tf.nn.softmax_cross_entropy_with_logits(logits=hypothesis, labels=Y))\n",
        "train = tf.train.AdamOptimizer(learning_rate=learning_rate).minimize(cost)\n",
        "\n",
        "\n",
        "\n",
        "# parameters\n",
        "num_epochs = 15\n",
        "batch_size = 100\n",
        "print('numTrain: ', numTrain)\n",
        "num_iterations = int( numTrain / batch_size)\n",
        "\n",
        "with tf.Session() as sess:\n",
        "    # Initialize TensorFlow variables\n",
        "    sess.run(tf.global_variables_initializer())\n",
        "    # Training\n",
        "    for epoch in range(num_epochs):\n",
        "        avg_cost = 0\n",
        "\n",
        "        for i in range(num_iterations):\n",
        "            batch_xs, batch_ys = train_data[i * 100: (i + 1) * 100], train_labels[i * 100: (i + 1) * 100]\n",
        "            _, cost_val = sess.run([train, cost], feed_dict={X: batch_xs, Y: batch_ys, keep_prob: 0.7})\n",
        "            avg_cost += cost_val / num_iterations\n",
        "\n",
        "        print(\"Epoch: {:04d}, Cost: {:.9f}\".format(epoch + 1, avg_cost))\n",
        "\n",
        "    print(\"Learning finished\")\n",
        "\n",
        "    # Test model\n",
        "    is_correct = tf.equal(tf.argmax(hypothesis, 1), tf.argmax(Y, 1))\n",
        "\n",
        "    # Calculate accuracy\n",
        "    accuracy = tf.reduce_mean(tf.cast(is_correct, tf.float32))\n",
        "\n",
        "    # Test the model using test sets\n",
        "    print(\"Accuracy: \", sess.run(accuracy, feed_dict={X: test_data, Y: test_labels, keep_prob: 1}))\n",
        "    \n",
        "\n",
        "    # Get Label and predict\n",
        "    r = random.randint(0, numTest - 1)\n",
        "    print(\"Label: \", sess.run(tf.argmax(test_labels[r : r + 1], 1)))\n",
        "    print(\n",
        "        \"Prediction: \",\n",
        "        sess.run(tf.argmax(hypothesis, 1), feed_dict={X: test_data[r : r + 1], keep_prob: 1}),\n",
        "    )\n",
        "\n",
        "    plt.imshow(\n",
        "        test_data[r : r + 1].reshape(28, 28),\n",
        "        cmap=\"Greys\",\n",
        "        interpolation=\"nearest\",\n",
        "    )\n",
        "    plt.show()"
      ],
      "execution_count": 0,
      "outputs": [
        {
          "output_type": "stream",
          "text": [
            "numTrain:  112800\n",
            "Epoch: 0001, Cost: 1.251659688\n",
            "Epoch: 0002, Cost: 0.728741870\n",
            "Epoch: 0003, Cost: 0.641459946\n",
            "Epoch: 0004, Cost: 0.590681597\n",
            "Epoch: 0005, Cost: 0.561483818\n",
            "Epoch: 0006, Cost: 0.539457501\n",
            "Epoch: 0007, Cost: 0.522869468\n",
            "Epoch: 0008, Cost: 0.505910995\n",
            "Epoch: 0009, Cost: 0.499571343\n",
            "Epoch: 0010, Cost: 0.490593512\n",
            "Epoch: 0011, Cost: 0.480654343\n",
            "Epoch: 0012, Cost: 0.479461333\n",
            "Epoch: 0013, Cost: 0.472976663\n",
            "Epoch: 0014, Cost: 0.461963027\n",
            "Epoch: 0015, Cost: 0.455598501\n",
            "Learning finished\n",
            "Accuracy:  0.84957445\n",
            "Label:  [3]\n",
            "Prediction:  [3]\n"
          ],
          "name": "stdout"
        },
        {
          "output_type": "display_data",
          "data": {
            "image/png": "[encoded data removed]",
            "text/plain": [
              "<Figure size 432x288 with 1 Axes>"
            ]
          },
          "metadata": {
            "tags": []
          }
        }
      ]
    },
    {
      "cell_type": "code",
      "metadata": {
        "id": "qh1Gj3IEon3y",
        "colab_type": "code",
        "colab": {}
      },
      "source": [
        ""
      ],
      "execution_count": 0,
      "outputs": []
    },
    {
      "cell_type": "markdown",
      "metadata": {
        "id": "jN3v-CjKRsBQ",
        "colab_type": "text"
      },
      "source": [
        "### Digits"
      ]
    },
    {
      "cell_type": "code",
      "metadata": {
        "id": "Di5_jH6rRtbb",
        "colab_type": "code",
        "outputId": "e9fed4cf-441c-48ab-f7c9-f44e0cf9d251",
        "colab": {
          "base_uri": "https://localhost:8080/",
          "height": 609
        }
      },
      "source": [
        "import numpy as np\n",
        "import pandas as pd\n",
        "import matplotlib.pyplot as plt\n",
        "import random\n",
        "import tensorflow as tf\n",
        "\n",
        "\n",
        "#train = pd.read_csv('emnist-balanced-train.csv', header=None)\n",
        "train = pd.read_csv('emnist-digits-train.csv', header=None)\n",
        "\n",
        "#test = pd.read_csv('emnist-balanced-test.csv', header=None)\n",
        "test = pd.read_csv('emnist-digits-test.csv', header=None)\n",
        "\n",
        "#train.head()\n",
        "\n",
        "# Number of Train\n",
        "numTrain = len(train)\n",
        "# Number of Test\n",
        "numTest = len(test)\n",
        "# Number of Classes\n",
        "numClasses = len(train[0].unique())\n",
        "learning_rate = 0.001\n",
        "\n",
        "train_data = train.iloc[:, 1:]\n",
        "train_labels = train.iloc[:, 0]\n",
        "test_data = test.iloc[:, 1:]\n",
        "test_labels = test.iloc[:, 0]\n",
        "\n",
        "# one-hot encoding\n",
        "train_labels = pd.get_dummies(train_labels)\n",
        "test_labels = pd.get_dummies(test_labels)\n",
        "#train_labels.head()\n",
        "\n",
        "train_data = train_data.values\n",
        "train_labels = train_labels.values\n",
        "test_data = test_data.values\n",
        "test_labels = test_labels.values\n",
        "\n",
        "\n",
        "rand = random.randint(0, numTrain - 1)\n",
        "\n",
        "'''\n",
        "plt.imshow(\n",
        "\ttrain_data[rand].reshape([28, 28]), \n",
        "\tcmap='Greys'\n",
        "\t)\n",
        "plt.show()\n",
        "'''\n",
        "\n",
        "def rotate(image):\n",
        "    image = image.reshape([28, 28])\n",
        "    image = np.fliplr(image)\n",
        "    image = np.rot90(image)\n",
        "    return image.reshape([28 * 28])\n",
        "train_data = np.apply_along_axis(rotate, 1, train_data)/255\n",
        "test_data = np.apply_along_axis(rotate, 1, test_data)/255\n",
        "\n",
        "'''\n",
        "plt.imshow(\n",
        "\ttrain_data[rand].reshape([28, 28]), \n",
        "\tcmap='Greys'\n",
        "\t)\n",
        "plt.show()\n",
        "'''\n",
        "\n",
        "tf.set_random_seed(777)  # for reproducibility\n",
        "tf.reset_default_graph()\n",
        "\n",
        "# EMNIST data image of shape 28 * 28 = 784\n",
        "X = tf.placeholder(tf.float32, [None, 784])\n",
        "# 47 classes: 10 digits, 26 letters, and 11 capital letters \n",
        "Y = tf.placeholder(tf.float32, [None, numClasses])\n",
        "\n",
        "# dropout (keep_prob) rate  0.7 on training, but should be 1 for testing\n",
        "keep_prob = tf.placeholder(tf.float32)\n",
        "\n",
        "# weights & bias for nn layers\n",
        "W1 = tf.get_variable(\"W1\", shape=[784, 512], initializer=tf.contrib.layers.xavier_initializer())\n",
        "b1 = tf.Variable(tf.random_normal([512]))\n",
        "L1 = tf.nn.relu(tf.matmul(X, W1) + b1)\n",
        "L1 = tf.nn.dropout(L1, keep_prob=keep_prob)\n",
        "\n",
        "W2 = tf.get_variable(\"W2\", shape=[512, 512], initializer=tf.contrib.layers.xavier_initializer())\n",
        "b2 = tf.Variable(tf.random_normal([512]))\n",
        "L2 = tf.nn.relu(tf.matmul(L1, W2) + b2)\n",
        "L2 = tf.nn.dropout(L2, keep_prob=keep_prob)\n",
        "\n",
        "W3 = tf.get_variable(\"W3\", shape=[512, 512], initializer=tf.contrib.layers.xavier_initializer())\n",
        "b3 = tf.Variable(tf.random_normal([512]))\n",
        "L3 = tf.nn.relu(tf.matmul(L2, W3) + b3)\n",
        "L3 = tf.nn.dropout(L3, keep_prob=keep_prob)\n",
        "\n",
        "W4 = tf.get_variable(\"W4\", shape=[512, numClasses], initializer=tf.contrib.layers.xavier_initializer())\n",
        "b4 = tf.Variable(tf.random_normal([numClasses]))\n",
        "hypothesis = tf.matmul(L3, W4) + b4\n",
        "\n",
        "# cost & train\n",
        "cost = tf.reduce_mean(tf.nn.softmax_cross_entropy_with_logits(logits=hypothesis, labels=Y))\n",
        "train = tf.train.AdamOptimizer(learning_rate=learning_rate).minimize(cost)\n",
        "\n",
        "\n",
        "\n",
        "# parameters\n",
        "num_epochs = 15\n",
        "batch_size = 100\n",
        "print('numTrain: ', numTrain)\n",
        "num_iterations = int( numTrain / batch_size)\n",
        "\n",
        "with tf.Session() as sess:\n",
        "    # Initialize TensorFlow variables\n",
        "    sess.run(tf.global_variables_initializer())\n",
        "    # Training\n",
        "    for epoch in range(num_epochs):\n",
        "        avg_cost = 0\n",
        "\n",
        "        for i in range(num_iterations):\n",
        "            batch_xs, batch_ys = train_data[i * 100: (i + 1) * 100], train_labels[i * 100: (i + 1) * 100]\n",
        "            _, cost_val = sess.run([train, cost], feed_dict={X: batch_xs, Y: batch_ys, keep_prob: 0.7})\n",
        "            avg_cost += cost_val / num_iterations\n",
        "\n",
        "        print(\"Epoch: {:04d}, Cost: {:.9f}\".format(epoch + 1, avg_cost))\n",
        "\n",
        "    print(\"Learning finished\")\n",
        "\n",
        "    # Test model\n",
        "    is_correct = tf.equal(tf.argmax(hypothesis, 1), tf.argmax(Y, 1))\n",
        "\n",
        "    # Calculate accuracy\n",
        "    accuracy = tf.reduce_mean(tf.cast(is_correct, tf.float32))\n",
        "\n",
        "    # Test the model using test sets\n",
        "    print(\"Accuracy: \", sess.run(accuracy, feed_dict={X: test_data, Y: test_labels, keep_prob: 1}))\n",
        "    \n",
        "\n",
        "    # Get Label and predict\n",
        "    r = random.randint(0, numTest - 1)\n",
        "    print(\"Label: \", sess.run(tf.argmax(test_labels[r : r + 1], 1)))\n",
        "    print(\n",
        "        \"Prediction: \",\n",
        "        sess.run(tf.argmax(hypothesis, 1), feed_dict={X: test_data[r : r + 1], keep_prob: 1}),\n",
        "    )\n",
        "\n",
        "    plt.imshow(\n",
        "        test_data[r : r + 1].reshape(28, 28),\n",
        "        cmap=\"Greys\",\n",
        "        interpolation=\"nearest\",\n",
        "    )\n",
        "    plt.show()"
      ],
      "execution_count": 0,
      "outputs": [
        {
          "output_type": "stream",
          "text": [
            "numTrain:  240000\n",
            "Epoch: 0001, Cost: 0.175710808\n",
            "Epoch: 0002, Cost: 0.081280281\n",
            "Epoch: 0003, Cost: 0.067423555\n",
            "Epoch: 0004, Cost: 0.059984454\n",
            "Epoch: 0005, Cost: 0.056014791\n",
            "Epoch: 0006, Cost: 0.051717673\n",
            "Epoch: 0007, Cost: 0.050206302\n",
            "Epoch: 0008, Cost: 0.046855801\n",
            "Epoch: 0009, Cost: 0.044953876\n",
            "Epoch: 0010, Cost: 0.043244649\n",
            "Epoch: 0011, Cost: 0.044239188\n",
            "Epoch: 0012, Cost: 0.043146146\n",
            "Epoch: 0013, Cost: 0.040557425\n",
            "Epoch: 0014, Cost: 0.040846657\n",
            "Epoch: 0015, Cost: 0.040241697\n",
            "Learning finished\n",
            "Accuracy:  0.990575\n",
            "Label:  [0]\n",
            "Prediction:  [0]\n"
          ],
          "name": "stdout"
        },
        {
          "output_type": "display_data",
          "data": {
            "image/png": "[encoded data removed]",
            "text/plain": [
              "<Figure size 432x288 with 1 Axes>"
            ]
          },
          "metadata": {
            "tags": []
          }
        }
      ]
    },
    {
      "cell_type": "markdown",
      "metadata": {
        "id": "lNlEmimnHeik",
        "colab_type": "text"
      },
      "source": [
        "# Convolutional Neural Networks (CNN)"
      ]
    },
    {
      "cell_type": "markdown",
      "metadata": {
        "id": "gtHBAa7BFVio",
        "colab_type": "text"
      },
      "source": [
        "## Load data"
      ]
    },
    {
      "cell_type": "code",
      "metadata": {
        "id": "4M8-y7VUF6Kj",
        "colab_type": "code",
        "colab": {}
      },
      "source": [
        "import numpy as np\n",
        "import pandas as pd\n",
        "import matplotlib.pyplot as plt\n",
        "import random\n",
        "import tensorflow as tf\n",
        "\n",
        "\n",
        "train = pd.read_csv('emnist-balanced-train.csv', header=None)\n",
        "#train = pd.read_csv('emnist/emnist-digits-train.csv', header=None)\n",
        "\n",
        "test = pd.read_csv('emnist-balanced-test.csv', header=None)\n",
        "#test = pd.read_csv('emnist/emnist-digits-test.csv', header=None)\n",
        "\n",
        "#train.head()\n",
        "\n",
        "# Number of Train\n",
        "numTrain = len(train)\n",
        "# Number of Test\n",
        "numTest = len(test)\n",
        "# Number of Classes\n",
        "numClasses = len(train[0].unique())\n",
        "learning_rate = 0.001\n",
        "\n",
        "train_data = train.iloc[:, 1:]\n",
        "train_labels = train.iloc[:, 0]\n",
        "test_data = test.iloc[:, 1:]\n",
        "test_labels = test.iloc[:, 0]\n",
        "\n",
        "# one-hot encoding\n",
        "train_labels = pd.get_dummies(train_labels)\n",
        "test_labels = pd.get_dummies(test_labels)\n",
        "#train_labels.head()\n",
        "\n",
        "train_data = train_data.values\n",
        "train_labels = train_labels.values\n",
        "test_data = test_data.values\n",
        "test_labels = test_labels.values\n",
        "\n",
        "\n",
        "rand = random.randint(0, numTrain - 1)\n",
        "\n",
        "'''\n",
        "plt.imshow(\n",
        "    train_data[rand].reshape([28, 28]), \n",
        "    cmap='Greys'\n",
        "    )\n",
        "plt.show()\n",
        "'''\n",
        "\n",
        "def rotate(image):\n",
        "    image = image.reshape([28, 28])\n",
        "    image = np.fliplr(image)\n",
        "    image = np.rot90(image)\n",
        "    return image.reshape([28 * 28])\n",
        "train_data = np.apply_along_axis(rotate, 1, train_data)/255\n",
        "test_data = np.apply_along_axis(rotate, 1, test_data)/255\n",
        "\n",
        "'''\n",
        "plt.imshow(\n",
        "    train_data[rand].reshape([28, 28]), \n",
        "    cmap='Greys'\n",
        "    )\n",
        "plt.show()\n",
        "'''"
      ],
      "execution_count": 0,
      "outputs": []
    },
    {
      "cell_type": "markdown",
      "metadata": {
        "id": "27-GVT8WFXGa",
        "colab_type": "text"
      },
      "source": [
        "The process of importing training data set and test data set is the same as softmax algorithm above"
      ]
    },
    {
      "cell_type": "markdown",
      "metadata": {
        "id": "l-xbsjNeF7iT",
        "colab_type": "text"
      },
      "source": [
        "## Algorithm"
      ]
    },
    {
      "cell_type": "markdown",
      "metadata": {
        "id": "zEDQiRyiDbiw",
        "colab_type": "text"
      },
      "source": [
        "![alt text](http://cs231n.github.io/assets/cnn/convnet.jpeg)\n",
        "\n",
        "* Input: Our input is 28x28 image. \n",
        "* CONV layer: The layer will compute the output which are connected to local regions in the input\n",
        "* RELU layer: We use ReLU in order to apply an elementwise activation function\n",
        "* POOL layer: The layer will make a smaller image than original image by performing a downsampling operation\n",
        "* FC layer: FC stands for Fully Connected. The layer will compute the classes\n",
        "[2]"
      ]
    },
    {
      "cell_type": "markdown",
      "metadata": {
        "id": "JouTf-EkGXze",
        "colab_type": "text"
      },
      "source": [
        "We use below CNN structure [9]\n",
        "![alt text](http://personal.ie.cuhk.edu.hk/~ccloy/project_target_code/images/fig3.png)\n"
      ]
    },
    {
      "cell_type": "markdown",
      "metadata": {
        "id": "D8tvXheJHNQ7",
        "colab_type": "text"
      },
      "source": [
        "### Input layer"
      ]
    },
    {
      "cell_type": "code",
      "metadata": {
        "id": "YNYA4VaeH3_l",
        "colab_type": "code",
        "colab": {}
      },
      "source": [
        "# EMNIST data image of shape 28 * 28 = 784\n",
        "X = tf.placeholder(tf.float32, [None, 784])\n",
        "# 47 classes: 10 digits, 26 letters, and 11 capital letters \n",
        "Y = tf.placeholder(tf.float32, [None, numClasses])"
      ],
      "execution_count": 0,
      "outputs": []
    },
    {
      "cell_type": "code",
      "metadata": {
        "id": "XjwjdDih7PLk",
        "colab_type": "code",
        "colab": {}
      },
      "source": [
        "X_img = tf.reshape(X, [-1, 28, 28, 1])"
      ],
      "execution_count": 0,
      "outputs": []
    },
    {
      "cell_type": "markdown",
      "metadata": {
        "id": "9OtxOMDG7Pu5",
        "colab_type": "text"
      },
      "source": [
        "* -1 indicates tensorflow decides the number of images.\n",
        "* Image size is 28 x 28. \n",
        "* color is 1. In other words, it is black and white. "
      ]
    },
    {
      "cell_type": "markdown",
      "metadata": {
        "id": "lE7Lt6EeH_7Y",
        "colab_type": "text"
      },
      "source": [
        "### Convolutional layer1"
      ]
    },
    {
      "cell_type": "code",
      "metadata": {
        "id": "7BxUukZo7g4u",
        "colab_type": "code",
        "colab": {}
      },
      "source": [
        "W1 = tf.Variable(tf.random_normal([3, 3, 1, 32], stddev=0.01))"
      ],
      "execution_count": 0,
      "outputs": []
    },
    {
      "cell_type": "markdown",
      "metadata": {
        "id": "gIRLwWV87icD",
        "colab_type": "text"
      },
      "source": [
        "A filter size is 3x3 and color is the same as image size. And we will use 32 filters, which are different images. "
      ]
    },
    {
      "cell_type": "code",
      "metadata": {
        "id": "p1dxj9cf7wK7",
        "colab_type": "code",
        "colab": {}
      },
      "source": [
        "# (28, 28, 32)\n",
        "tf.nn.conv2d(X_img, W1, strides=[1, 1, 1, 1], padding='SAME')"
      ],
      "execution_count": 0,
      "outputs": []
    },
    {
      "cell_type": "markdown",
      "metadata": {
        "id": "ZNWrEC4m7wuN",
        "colab_type": "text"
      },
      "source": [
        "1. The filter, which is 1x1, will move to 1 step. That is, strides tells how many steps can move at once.\n",
        "2. padding='SAME': Input image size and output image size are identical regardless of image size.\n",
        "3. After convolution 2d is done, image size is 28x28 like original image size. "
      ]
    },
    {
      "cell_type": "code",
      "metadata": {
        "id": "mJO_G620IpI6",
        "colab_type": "code",
        "colab": {}
      },
      "source": [
        "L1 = tf.nn.relu(L1)"
      ],
      "execution_count": 0,
      "outputs": []
    },
    {
      "cell_type": "markdown",
      "metadata": {
        "id": "xhz1FPpSIpvE",
        "colab_type": "text"
      },
      "source": [
        "We use ReLU after convoluational layer"
      ]
    },
    {
      "cell_type": "markdown",
      "metadata": {
        "id": "ZXy9GjuhIUgV",
        "colab_type": "text"
      },
      "source": [
        "### Pooling layer 1"
      ]
    },
    {
      "cell_type": "code",
      "metadata": {
        "id": "S-L9D3LU8Mn4",
        "colab_type": "code",
        "colab": {}
      },
      "source": [
        "# (14, 14, 32)\n",
        "tf.nn.max_pool(L1, ksize=[1,2,2,1], strides=[1,2,2,1], padding='SAME')"
      ],
      "execution_count": 0,
      "outputs": []
    },
    {
      "cell_type": "markdown",
      "metadata": {
        "id": "tOp_TK7N8OrM",
        "colab_type": "text"
      },
      "source": [
        "Input is L1 which is previous data set. Kernel size is 2x2 and filter size is also 2x2. Since strides is 2x2, original images will decrease. For instance, the image is 28x28 and modified image is 14x14 due to the stride, which is the filter. So, we will have 32 different images after max-pooling."
      ]
    },
    {
      "cell_type": "code",
      "metadata": {
        "id": "Kb1fHa3AJEOA",
        "colab_type": "code",
        "colab": {}
      },
      "source": [
        "L1 = tf.nn.dropout(L1, keep_prob=keep_prob)"
      ],
      "execution_count": 0,
      "outputs": []
    },
    {
      "cell_type": "markdown",
      "metadata": {
        "id": "y0JR69_rJErt",
        "colab_type": "text"
      },
      "source": [
        "Last step is to use dropout"
      ]
    },
    {
      "cell_type": "markdown",
      "metadata": {
        "id": "B9B-_i58JMLN",
        "colab_type": "text"
      },
      "source": [
        "### Convolutional layer 2"
      ]
    },
    {
      "cell_type": "code",
      "metadata": {
        "id": "RJBqTE11JUiV",
        "colab_type": "code",
        "colab": {}
      },
      "source": [
        "# L2 Img Input shape=(n, 14, 14, 32)\n",
        "# Conv = (n, 14, 14, 64)\n",
        "W2 = tf.Variable(tf.random_normal([3, 3, 32, 64], stddev=0.01))\n",
        "L2 = tf.nn.conv2d(L1, W2, strides=[1, 1, 1, 1], padding='SAME')\n",
        "L2 = tf.nn.relu(L2)"
      ],
      "execution_count": 0,
      "outputs": []
    },
    {
      "cell_type": "markdown",
      "metadata": {
        "id": "fmlH5t7AJPa_",
        "colab_type": "text"
      },
      "source": [
        "Since we have 32 different images after pooling layer 1, we should use 32 colors as an input. Also, we increases the number of filters "
      ]
    },
    {
      "cell_type": "markdown",
      "metadata": {
        "id": "LdvJ3QCUJbzA",
        "colab_type": "text"
      },
      "source": [
        "### Pooling layer 2"
      ]
    },
    {
      "cell_type": "code",
      "metadata": {
        "id": "4pOqdlpNJiK5",
        "colab_type": "code",
        "colab": {}
      },
      "source": [
        "# Pool = (n, 7, 7, 64)\n",
        "L2 = tf.nn.max_pool(L2, ksize=[1,2,2,1], strides=[1,2,2,1], padding='SAME')\n",
        "L2 = tf.nn.dropout(L2, keep_prob=keep_prob)"
      ],
      "execution_count": 0,
      "outputs": []
    },
    {
      "cell_type": "markdown",
      "metadata": {
        "id": "e5U0gXHIJgMW",
        "colab_type": "text"
      },
      "source": [
        "It is the same as pooling layer 1"
      ]
    },
    {
      "cell_type": "markdown",
      "metadata": {
        "id": "p3mHLXMmKF7N",
        "colab_type": "text"
      },
      "source": [
        "### Convolutional layer 3"
      ]
    },
    {
      "cell_type": "code",
      "metadata": {
        "id": "FKam4KHaKH7G",
        "colab_type": "code",
        "colab": {}
      },
      "source": [
        "# L3 Img Input shape=(n, 7, 7, 64)\n",
        "# Conv = (n, 7, 7, 128)\n",
        "W3 = tf.Variable(tf.random_normal([3, 3, 64, 128], stddev=0.01))\n",
        "L3 = tf.nn.conv2d(L2, W3, strides=[1, 1, 1, 1], padding='SAME')\n",
        "L3 = tf.nn.relu(L3)"
      ],
      "execution_count": 0,
      "outputs": []
    },
    {
      "cell_type": "markdown",
      "metadata": {
        "id": "ZZp63AItKQEW",
        "colab_type": "text"
      },
      "source": [
        "Like convolutional layer 3, after pooling layer 2, there are 64 different images. So, our input should be 64 and we increases the number of filters."
      ]
    },
    {
      "cell_type": "markdown",
      "metadata": {
        "id": "QeJ0lRanKg5F",
        "colab_type": "text"
      },
      "source": [
        "### Pooling layer 3\n"
      ]
    },
    {
      "cell_type": "code",
      "metadata": {
        "id": "hd6lQz6SKoSd",
        "colab_type": "code",
        "colab": {}
      },
      "source": [
        "# Pool = (n, 4, 4, 128)\n",
        "L3 = tf.nn.max_pool(L3, ksize=[1,2,2,1], strides=[1,2,2,1], padding='SAME')\n",
        "L3 = tf.nn.dropout(L3, keep_prob=keep_prob)\n"
      ],
      "execution_count": 0,
      "outputs": []
    },
    {
      "cell_type": "markdown",
      "metadata": {
        "id": "LzU9JiRRKjNQ",
        "colab_type": "text"
      },
      "source": [
        "It is the same as pooling layer 2"
      ]
    },
    {
      "cell_type": "markdown",
      "metadata": {
        "id": "8Zev56i9LmKB",
        "colab_type": "text"
      },
      "source": [
        "### Locally Connected layer"
      ]
    },
    {
      "cell_type": "code",
      "metadata": {
        "id": "Ch2iFSLALosD",
        "colab_type": "code",
        "colab": {}
      },
      "source": [
        "# Reshape = (n, 4 * 4 * 128) \n",
        "L3_flat = tf.reshape(L3, [-1, 128 * 4 * 4])"
      ],
      "execution_count": 0,
      "outputs": []
    },
    {
      "cell_type": "markdown",
      "metadata": {
        "id": "v7tylmdPLszq",
        "colab_type": "text"
      },
      "source": [
        "Before our image gets into fully connected layer, we need to reshape our image. In convolutional layer 3, we have 4x4 and 128 different images after pooling. The reason why there are 128 different images is the number of filters in convolutional layer 3. In order to reshape array size, we should multiply 4x4x128. "
      ]
    },
    {
      "cell_type": "markdown",
      "metadata": {
        "id": "aijEb9CULbqO",
        "colab_type": "text"
      },
      "source": [
        "### Fully Connected layer 1"
      ]
    },
    {
      "cell_type": "code",
      "metadata": {
        "id": "fpTG_oNDA3UE",
        "colab_type": "code",
        "colab": {}
      },
      "source": [
        "W4 = tf.get_variable(\"W4\", shape=[128*4*4, 625], initializer=tf.contrib.layers.xavier_initializer())\n",
        "b4 = tf.Variable(tf.random_normal([625]))\n",
        "L4 = tf.nn.relu(tf.matmul(L3_flat, W4)+b4)\n",
        "L4 = tf.nn.dropout(L4, keep_prob=keep_prob)"
      ],
      "execution_count": 0,
      "outputs": []
    },
    {
      "cell_type": "markdown",
      "metadata": {
        "id": "dTToJZLXA3-R",
        "colab_type": "text"
      },
      "source": [
        "This is first fully connected layer. Output of array shape will be 625. And then, we use ReLU and dropout such as convolutional layer and pooling layer."
      ]
    },
    {
      "cell_type": "markdown",
      "metadata": {
        "id": "iK17MIv1MKvq",
        "colab_type": "text"
      },
      "source": [
        "### Fully Connected layer 2"
      ]
    },
    {
      "cell_type": "code",
      "metadata": {
        "id": "dGz-rsRcDMpx",
        "colab_type": "code",
        "colab": {}
      },
      "source": [
        "W5 = tf.get_variable(\"W5\", shape=[625, numClasses], initializer=tf.contrib.layers.xavier_initializer())\n",
        "b5 = tf.Variable(tf.random_normal([numClasses]))\n",
        "logits = tf.matmul(L4, W5) + b5"
      ],
      "execution_count": 0,
      "outputs": []
    },
    {
      "cell_type": "markdown",
      "metadata": {
        "id": "L2e2pg35DNRN",
        "colab_type": "text"
      },
      "source": [
        "Lastly, our real output should be the number of classes, which is 47."
      ]
    },
    {
      "cell_type": "markdown",
      "metadata": {
        "id": "XWSE6b4tNuHZ",
        "colab_type": "text"
      },
      "source": [
        "### Train"
      ]
    },
    {
      "cell_type": "code",
      "metadata": {
        "id": "uMs3yOolNv9P",
        "colab_type": "code",
        "colab": {}
      },
      "source": [
        "_, cost_val = sess.run([train, cost], feed_dict={X: batch_xs, Y: batch_ys, keep_prob: 0.7})"
      ],
      "execution_count": 0,
      "outputs": []
    },
    {
      "cell_type": "markdown",
      "metadata": {
        "id": "0AU2uuPPNwgm",
        "colab_type": "text"
      },
      "source": [
        "Like we discusses above dropout algorithm, when we train data set, we would like to keep 70% of networks."
      ]
    },
    {
      "cell_type": "markdown",
      "metadata": {
        "id": "eMzrttGSN8MU",
        "colab_type": "text"
      },
      "source": [
        "### Test"
      ]
    },
    {
      "cell_type": "code",
      "metadata": {
        "id": "XzX-MHPTN9lR",
        "colab_type": "code",
        "colab": {}
      },
      "source": [
        "sess.run(tf.argmax(logits, 1), feed_dict={X: test_data[r : r + 1], keep_prob: 1})"
      ],
      "execution_count": 0,
      "outputs": []
    },
    {
      "cell_type": "markdown",
      "metadata": {
        "id": "iucMnqVxOD91",
        "colab_type": "text"
      },
      "source": [
        "However, we need to use all the networks when we test data set."
      ]
    },
    {
      "cell_type": "markdown",
      "metadata": {
        "id": "bxJchhAmDXXS",
        "colab_type": "text"
      },
      "source": [
        "## Code"
      ]
    },
    {
      "cell_type": "markdown",
      "metadata": {
        "id": "YAGV2x2TPwvH",
        "colab_type": "text"
      },
      "source": [
        "### Alphabet/Digits"
      ]
    },
    {
      "cell_type": "code",
      "metadata": {
        "id": "At3ckEl7HgeK",
        "colab_type": "code",
        "outputId": "9f34b574-a24c-47c2-b70e-b91c3947203a",
        "colab": {
          "base_uri": "https://localhost:8080/",
          "height": 609
        }
      },
      "source": [
        "import numpy as np\n",
        "import pandas as pd\n",
        "import matplotlib.pyplot as plt\n",
        "import random\n",
        "import tensorflow as tf\n",
        "\n",
        "\n",
        "train = pd.read_csv('emnist-balanced-train.csv', header=None)\n",
        "#train = pd.read_csv('emnist/emnist-digits-train.csv', header=None)\n",
        "\n",
        "test = pd.read_csv('emnist-balanced-test.csv', header=None)\n",
        "#test = pd.read_csv('emnist/emnist-digits-test.csv', header=None)\n",
        "\n",
        "#train.head()\n",
        "\n",
        "# Number of Train\n",
        "numTrain = len(train)\n",
        "# Number of Test\n",
        "numTest = len(test)\n",
        "# Number of Classes\n",
        "numClasses = len(train[0].unique())\n",
        "learning_rate = 0.001\n",
        "\n",
        "train_data = train.iloc[:, 1:]\n",
        "train_labels = train.iloc[:, 0]\n",
        "test_data = test.iloc[:, 1:]\n",
        "test_labels = test.iloc[:, 0]\n",
        "\n",
        "# one-hot encoding\n",
        "train_labels = pd.get_dummies(train_labels)\n",
        "test_labels = pd.get_dummies(test_labels)\n",
        "#train_labels.head()\n",
        "\n",
        "train_data = train_data.values\n",
        "train_labels = train_labels.values\n",
        "test_data = test_data.values\n",
        "test_labels = test_labels.values\n",
        "\n",
        "\n",
        "rand = random.randint(0, numTrain - 1)\n",
        "\n",
        "'''\n",
        "plt.imshow(\n",
        "    train_data[rand].reshape([28, 28]), \n",
        "    cmap='Greys'\n",
        "    )\n",
        "plt.show()\n",
        "'''\n",
        "\n",
        "def rotate(image):\n",
        "    image = image.reshape([28, 28])\n",
        "    image = np.fliplr(image)\n",
        "    image = np.rot90(image)\n",
        "    return image.reshape([28 * 28])\n",
        "train_data = np.apply_along_axis(rotate, 1, train_data)/255\n",
        "test_data = np.apply_along_axis(rotate, 1, test_data)/255\n",
        "\n",
        "'''\n",
        "plt.imshow(\n",
        "    train_data[rand].reshape([28, 28]), \n",
        "    cmap='Greys'\n",
        "    )\n",
        "plt.show()\n",
        "'''\n",
        "\n",
        "tf.set_random_seed(777)  # for reproducibility\n",
        "tf.reset_default_graph()\n",
        "\n",
        "# EMNIST data image of shape 28 * 28 = 784\n",
        "X = tf.placeholder(tf.float32, [None, 784])\n",
        "# 47 classes: 10 digits, 26 letters, and 11 capital letters \n",
        "Y = tf.placeholder(tf.float32, [None, numClasses])\n",
        "X_img = tf.reshape(X, [-1, 28, 28, 1])\n",
        "\n",
        "# dropout (keep_prob) rate  0.7 on training, but should be 1 for testing\n",
        "keep_prob = tf.placeholder(tf.float32)\n",
        "\n",
        "# L1 Img Input shape=(n, 28, 28, 1)\n",
        "# Conv = (n, 28, 28, 32)\n",
        "# Pool = (n, 14, 14, 32)\n",
        "W1 = tf.Variable(tf.random_normal([3, 3, 1, 32], stddev=0.01))\n",
        "L1 = tf.nn.conv2d(X_img, W1, strides=[1, 1, 1, 1], padding='SAME')\n",
        "L1 = tf.nn.relu(L1)\n",
        "L1 = tf.nn.max_pool(L1, ksize=[1,2,2,1], strides=[1,2,2,1], padding='SAME')\n",
        "L1 = tf.nn.dropout(L1, keep_prob=keep_prob)\n",
        "\n",
        "# L2 Img Input shape=(n, 14, 14, 32)\n",
        "# Conv = (n, 14, 14, 64)\n",
        "# Pool = (n, 7, 7, 64)\n",
        "W2 = tf.Variable(tf.random_normal([3, 3, 32, 64], stddev=0.01))\n",
        "L2 = tf.nn.conv2d(L1, W2, strides=[1, 1, 1, 1], padding='SAME')\n",
        "L2 = tf.nn.relu(L2)\n",
        "L2 = tf.nn.max_pool(L2, ksize=[1,2,2,1], strides=[1,2,2,1], padding='SAME')\n",
        "L2 = tf.nn.dropout(L2, keep_prob=keep_prob)\n",
        "\n",
        "# L3 Img Input shape=(n, 7, 7, 64)\n",
        "# Conv = (n, 7, 7, 128)\n",
        "# Pool = (n, 4, 4, 128)\n",
        "# Reshape = (n, 4 * 4 * 128) \n",
        "W3 = tf.Variable(tf.random_normal([3, 3, 64, 128], stddev=0.01))\n",
        "L3 = tf.nn.conv2d(L2, W3, strides=[1, 1, 1, 1], padding='SAME')\n",
        "L3 = tf.nn.relu(L3)\n",
        "L3 = tf.nn.max_pool(L3, ksize=[1,2,2,1], strides=[1,2,2,1], padding='SAME')\n",
        "L3 = tf.nn.dropout(L3, keep_prob=keep_prob)\n",
        "L3_flat = tf.reshape(L3, [-1, 128 * 4 * 4])\n",
        "\n",
        "# L4 Fully Connected (FC) 4x4x128 inputs -> 625 outputs\n",
        "W4 = tf.get_variable(\"W4\", shape=[128*4*4, 625], initializer=tf.contrib.layers.xavier_initializer())\n",
        "b4 = tf.Variable(tf.random_normal([625]))\n",
        "L4 = tf.nn.relu(tf.matmul(L3_flat, W4)+b4)\n",
        "L4 = tf.nn.dropout(L4, keep_prob=keep_prob)\n",
        "\n",
        "# L5 Final Fully Connected (FC) 625 inputs -> numClasses outputs\n",
        "W5 = tf.get_variable(\"W5\", shape=[625, numClasses], initializer=tf.contrib.layers.xavier_initializer())\n",
        "b5 = tf.Variable(tf.random_normal([numClasses]))\n",
        "logits = tf.matmul(L4, W5) + b5\n",
        "\n",
        "\n",
        "# cost & train\n",
        "cost = tf.reduce_mean(tf.nn.softmax_cross_entropy_with_logits(logits=logits, labels=Y))\n",
        "train = tf.train.AdamOptimizer(learning_rate=learning_rate).minimize(cost)\n",
        "\n",
        "\n",
        "\n",
        "# parameters\n",
        "num_epochs = 15\n",
        "batch_size = 100\n",
        "print('numTrain: ', numTrain)\n",
        "num_iterations = int( numTrain / batch_size)\n",
        "\n",
        "with tf.Session() as sess:\n",
        "    # Initialize TensorFlow variables\n",
        "    sess.run(tf.global_variables_initializer())\n",
        "    # Training\n",
        "    for epoch in range(num_epochs):\n",
        "        avg_cost = 0\n",
        "\n",
        "        for i in range(num_iterations):\n",
        "            batch_xs, batch_ys = train_data[i * 100: (i + 1) * 100], train_labels[i * 100: (i + 1) * 100]\n",
        "            _, cost_val = sess.run([train, cost], feed_dict={X: batch_xs, Y: batch_ys, keep_prob: 0.7})\n",
        "            avg_cost += cost_val / num_iterations\n",
        "\n",
        "        print(\"Epoch: {:04d}, Cost: {:.9f}\".format(epoch + 1, avg_cost))\n",
        "\n",
        "    print(\"Learning finished\")\n",
        "\n",
        "    # Test model\n",
        "    is_correct = tf.equal(tf.argmax(logits, 1), tf.argmax(Y, 1))\n",
        "\n",
        "    # Calculate accuracy\n",
        "    accuracy = tf.reduce_mean(tf.cast(is_correct, tf.float32))\n",
        "\n",
        "    # Test the model using test sets\n",
        "    print(\"Accuracy: \", sess.run(accuracy, feed_dict={X: test_data, Y: test_labels, keep_prob: 1}))\n",
        "    \n",
        "\n",
        "    # Get Label and predict\n",
        "    r = random.randint(0, numTest - 1)\n",
        "    print(\"Label: \", sess.run(tf.argmax(test_labels[r : r + 1], 1)))\n",
        "    print(\n",
        "        \"Prediction: \",\n",
        "        sess.run(tf.argmax(logits, 1), feed_dict={X: test_data[r : r + 1], keep_prob: 1}),\n",
        "    )\n",
        "\n",
        "    plt.imshow(\n",
        "        test_data[r : r + 1].reshape(28, 28),\n",
        "        cmap=\"Greys\",\n",
        "        interpolation=\"nearest\",\n",
        "    )\n",
        "    plt.show()"
      ],
      "execution_count": 0,
      "outputs": [
        {
          "output_type": "stream",
          "text": [
            "numTrain:  112800\n",
            "Epoch: 0001, Cost: 1.059922579\n",
            "Epoch: 0002, Cost: 0.515719846\n",
            "Epoch: 0003, Cost: 0.449088449\n",
            "Epoch: 0004, Cost: 0.412468898\n",
            "Epoch: 0005, Cost: 0.390916076\n",
            "Epoch: 0006, Cost: 0.373371925\n",
            "Epoch: 0007, Cost: 0.359837109\n",
            "Epoch: 0008, Cost: 0.349027968\n",
            "Epoch: 0009, Cost: 0.336722072\n",
            "Epoch: 0010, Cost: 0.331467421\n",
            "Epoch: 0011, Cost: 0.325443666\n",
            "Epoch: 0012, Cost: 0.317864727\n",
            "Epoch: 0013, Cost: 0.311824368\n",
            "Epoch: 0014, Cost: 0.309578560\n",
            "Epoch: 0015, Cost: 0.303445078\n",
            "Learning finished\n",
            "Accuracy:  0.89090425\n",
            "Label:  [37]\n",
            "Prediction:  [37]\n"
          ],
          "name": "stdout"
        },
        {
          "output_type": "display_data",
          "data": {
            "image/png": "[encoded data removed]",
            "text/plain": [
              "<Figure size 432x288 with 1 Axes>"
            ]
          },
          "metadata": {
            "tags": []
          }
        }
      ]
    },
    {
      "cell_type": "markdown",
      "metadata": {
        "id": "TWsq9ApNPyaz",
        "colab_type": "text"
      },
      "source": [
        "### Digits"
      ]
    },
    {
      "cell_type": "code",
      "metadata": {
        "id": "U3aLYGg2P16O",
        "colab_type": "code",
        "outputId": "8e0b9a72-2d6f-4a41-8192-400accc776c0",
        "colab": {
          "base_uri": "https://localhost:8080/",
          "height": 728
        }
      },
      "source": [
        "import numpy as np\n",
        "import pandas as pd\n",
        "import matplotlib.pyplot as plt\n",
        "import random\n",
        "import tensorflow as tf\n",
        "\n",
        "\n",
        "#train = pd.read_csv('emnist-balanced-train.csv', header=None)\n",
        "train = pd.read_csv('emnist-digits-train.csv', header=None)\n",
        "\n",
        "#test = pd.read_csv('emnist-balanced-test.csv', header=None)\n",
        "test = pd.read_csv('emnist-digits-test.csv', header=None)\n",
        "\n",
        "#train.head()\n",
        "\n",
        "# Number of Train\n",
        "numTrain = len(train)\n",
        "# Number of Test\n",
        "numTest = len(test)\n",
        "# Number of Classes\n",
        "numClasses = len(train[0].unique())\n",
        "learning_rate = 0.001\n",
        "\n",
        "train_data = train.iloc[:, 1:]\n",
        "train_labels = train.iloc[:, 0]\n",
        "test_data = test.iloc[:, 1:]\n",
        "test_labels = test.iloc[:, 0]\n",
        "\n",
        "# one-hot encoding\n",
        "train_labels = pd.get_dummies(train_labels)\n",
        "test_labels = pd.get_dummies(test_labels)\n",
        "#train_labels.head()\n",
        "\n",
        "train_data = train_data.values\n",
        "train_labels = train_labels.values\n",
        "test_data = test_data.values\n",
        "test_labels = test_labels.values\n",
        "\n",
        "\n",
        "rand = random.randint(0, numTrain - 1)\n",
        "\n",
        "'''\n",
        "plt.imshow(\n",
        "    train_data[rand].reshape([28, 28]), \n",
        "    cmap='Greys'\n",
        "    )\n",
        "plt.show()\n",
        "'''\n",
        "\n",
        "def rotate(image):\n",
        "    image = image.reshape([28, 28])\n",
        "    image = np.fliplr(image)\n",
        "    image = np.rot90(image)\n",
        "    return image.reshape([28 * 28])\n",
        "train_data = np.apply_along_axis(rotate, 1, train_data)/255\n",
        "test_data = np.apply_along_axis(rotate, 1, test_data)/255\n",
        "\n",
        "'''\n",
        "plt.imshow(\n",
        "    train_data[rand].reshape([28, 28]), \n",
        "    cmap='Greys'\n",
        "    )\n",
        "plt.show()\n",
        "'''\n",
        "\n",
        "tf.set_random_seed(777)  # for reproducibility\n",
        "tf.reset_default_graph()\n",
        "\n",
        "# EMNIST data image of shape 28 * 28 = 784\n",
        "X = tf.placeholder(tf.float32, [None, 784])\n",
        "# 47 classes: 10 digits, 26 letters, and 11 capital letters \n",
        "Y = tf.placeholder(tf.float32, [None, numClasses])\n",
        "X_img = tf.reshape(X, [-1, 28, 28, 1])\n",
        "\n",
        "# dropout (keep_prob) rate  0.7 on training, but should be 1 for testing\n",
        "keep_prob = tf.placeholder(tf.float32)\n",
        "\n",
        "# L1 Img Input shape=(n, 28, 28, 1)\n",
        "# Conv = (n, 28, 28, 32)\n",
        "# Pool = (n, 14, 14, 32)\n",
        "W1 = tf.Variable(tf.random_normal([3, 3, 1, 32], stddev=0.01))\n",
        "L1 = tf.nn.conv2d(X_img, W1, strides=[1, 1, 1, 1], padding='SAME')\n",
        "L1 = tf.nn.relu(L1)\n",
        "L1 = tf.nn.max_pool(L1, ksize=[1,2,2,1], strides=[1,2,2,1], padding='SAME')\n",
        "L1 = tf.nn.dropout(L1, keep_prob=keep_prob)\n",
        "\n",
        "# L2 Img Input shape=(n, 14, 14, 32)\n",
        "# Conv = (n, 14, 14, 64)\n",
        "# Pool = (n, 7, 7, 64)\n",
        "W2 = tf.Variable(tf.random_normal([3, 3, 32, 64], stddev=0.01))\n",
        "L2 = tf.nn.conv2d(L1, W2, strides=[1, 1, 1, 1], padding='SAME')\n",
        "L2 = tf.nn.relu(L2)\n",
        "L2 = tf.nn.max_pool(L2, ksize=[1,2,2,1], strides=[1,2,2,1], padding='SAME')\n",
        "L2 = tf.nn.dropout(L2, keep_prob=keep_prob)\n",
        "\n",
        "# L3 Img Input shape=(n, 7, 7, 64)\n",
        "# Conv = (n, 7, 7, 128)\n",
        "# Pool = (n, 4, 4, 128)\n",
        "# Reshape = (n, 4 * 4 * 128) \n",
        "W3 = tf.Variable(tf.random_normal([3, 3, 64, 128], stddev=0.01))\n",
        "L3 = tf.nn.conv2d(L2, W3, strides=[1, 1, 1, 1], padding='SAME')\n",
        "L3 = tf.nn.relu(L3)\n",
        "L3 = tf.nn.max_pool(L3, ksize=[1,2,2,1], strides=[1,2,2,1], padding='SAME')\n",
        "L3 = tf.nn.dropout(L3, keep_prob=keep_prob)\n",
        "L3_flat = tf.reshape(L3, [-1, 128 * 4 * 4])\n",
        "\n",
        "# L4 Fully Connected (FC) 4x4x128 inputs -> 625 outputs\n",
        "W4 = tf.get_variable(\"W4\", shape=[128*4*4, 625], initializer=tf.contrib.layers.xavier_initializer())\n",
        "b4 = tf.Variable(tf.random_normal([625]))\n",
        "L4 = tf.nn.relu(tf.matmul(L3_flat, W4)+b4)\n",
        "L4 = tf.nn.dropout(L4, keep_prob=keep_prob)\n",
        "\n",
        "# L5 Final Fully Connected (FC) 625 inputs -> numClasses outputs\n",
        "W5 = tf.get_variable(\"W5\", shape=[625, numClasses], initializer=tf.contrib.layers.xavier_initializer())\n",
        "b5 = tf.Variable(tf.random_normal([numClasses]))\n",
        "logits = tf.matmul(L4, W5) + b5\n",
        "\n",
        "\n",
        "# cost & train\n",
        "cost = tf.reduce_mean(tf.nn.softmax_cross_entropy_with_logits(logits=logits, labels=Y))\n",
        "train = tf.train.AdamOptimizer(learning_rate=learning_rate).minimize(cost)\n",
        "\n",
        "\n",
        "\n",
        "# parameters\n",
        "num_epochs = 15\n",
        "batch_size = 100\n",
        "print('numTrain: ', numTrain)\n",
        "num_iterations = int( numTrain / batch_size)\n",
        "\n",
        "with tf.Session() as sess:\n",
        "    # Initialize TensorFlow variables\n",
        "    sess.run(tf.global_variables_initializer())\n",
        "    # Training\n",
        "    for epoch in range(num_epochs):\n",
        "        avg_cost = 0\n",
        "\n",
        "        for i in range(num_iterations):\n",
        "            batch_xs, batch_ys = train_data[i * 100: (i + 1) * 100], train_labels[i * 100: (i + 1) * 100]\n",
        "            _, cost_val = sess.run([train, cost], feed_dict={X: batch_xs, Y: batch_ys, keep_prob: 0.7})\n",
        "            avg_cost += cost_val / num_iterations\n",
        "\n",
        "        print(\"Epoch: {:04d}, Cost: {:.9f}\".format(epoch + 1, avg_cost))\n",
        "\n",
        "    print(\"Learning finished\")\n",
        "\n",
        "    # Test model\n",
        "    is_correct = tf.equal(tf.argmax(logits, 1), tf.argmax(Y, 1))\n",
        "\n",
        "    # Calculate accuracy\n",
        "    accuracy = tf.reduce_mean(tf.cast(is_correct, tf.float32))\n",
        "\n",
        "    # Test the model using test sets\n",
        "    print(\"Accuracy: \", sess.run(accuracy, feed_dict={X: test_data, Y: test_labels, keep_prob: 1}))\n",
        "    \n",
        "\n",
        "    # Get Label and predict\n",
        "    r = random.randint(0, numTest - 1)\n",
        "    print(\"Label: \", sess.run(tf.argmax(test_labels[r : r + 1], 1)))\n",
        "    print(\n",
        "        \"Prediction: \",\n",
        "        sess.run(tf.argmax(logits, 1), feed_dict={X: test_data[r : r + 1], keep_prob: 1}),\n",
        "    )\n",
        "\n",
        "    plt.imshow(\n",
        "        test_data[r : r + 1].reshape(28, 28),\n",
        "        cmap=\"Greys\",\n",
        "        interpolation=\"nearest\",\n",
        "    )\n",
        "    plt.show()"
      ],
      "execution_count": 0,
      "outputs": [
        {
          "output_type": "stream",
          "text": [
            "\n",
            "WARNING: The TensorFlow contrib module will not be included in TensorFlow 2.0.\n",
            "For more information, please see:\n",
            "  * https://github.com/tensorflow/community/blob/master/rfcs/20180907-contrib-sunset.md\n",
            "  * https://github.com/tensorflow/addons\n",
            "If you depend on functionality not listed there, please file an issue.\n",
            "\n",
            "numTrain:  240000\n",
            "Epoch: 0001, Cost: 0.132140247\n",
            "Epoch: 0002, Cost: 0.040341742\n",
            "Epoch: 0003, Cost: 0.032980858\n",
            "Epoch: 0004, Cost: 0.029762897\n",
            "Epoch: 0005, Cost: 0.027134110\n",
            "Epoch: 0006, Cost: 0.024512553\n",
            "Epoch: 0007, Cost: 0.023280032\n",
            "Epoch: 0008, Cost: 0.021658956\n",
            "Epoch: 0009, Cost: 0.021289860\n",
            "Epoch: 0010, Cost: 0.020385694\n",
            "Epoch: 0011, Cost: 0.019163505\n",
            "Epoch: 0012, Cost: 0.020146366\n",
            "Epoch: 0013, Cost: 0.017946620\n",
            "Epoch: 0014, Cost: 0.018162947\n",
            "Epoch: 0015, Cost: 0.017307029\n",
            "Learning finished\n",
            "Accuracy:  0.996125\n",
            "Label:  [2]\n",
            "Prediction:  [2]\n"
          ],
          "name": "stdout"
        },
        {
          "output_type": "display_data",
          "data": {
            "image/png": "[encoded data removed]",
            "text/plain": [
              "<Figure size 432x288 with 1 Axes>"
            ]
          },
          "metadata": {
            "tags": []
          }
        }
      ]
    },
    {
      "cell_type": "markdown",
      "metadata": {
        "id": "gbi2dPKW5tgU",
        "colab_type": "text"
      },
      "source": [
        "# Ensemble"
      ]
    },
    {
      "cell_type": "markdown",
      "metadata": {
        "id": "2EzV1-qNFYsx",
        "colab_type": "text"
      },
      "source": [
        "## Load data"
      ]
    },
    {
      "cell_type": "code",
      "metadata": {
        "id": "SWD7LYt4F9zW",
        "colab_type": "code",
        "colab": {}
      },
      "source": [
        "import numpy as np\n",
        "import pandas as pd\n",
        "import matplotlib.pyplot as plt\n",
        "import random\n",
        "import tensorflow as tf\n",
        "\n",
        "\n",
        "train = pd.read_csv('emnist-balanced-train.csv', header=None)\n",
        "#train = pd.read_csv('emnist/emnist-digits-train.csv', header=None)\n",
        "\n",
        "test = pd.read_csv('emnist-balanced-test.csv', header=None)\n",
        "#test = pd.read_csv('emnist/emnist-digits-test.csv', header=None)\n",
        "\n",
        "#train.head()\n",
        "\n",
        "# Number of Train\n",
        "numTrain = len(train)\n",
        "# Number of Test\n",
        "numTest = len(test)\n",
        "# Number of Classes\n",
        "numClasses = len(train[0].unique())\n",
        "learning_rate = 0.001\n",
        "\n",
        "train_data = train.iloc[:, 1:]\n",
        "train_labels = train.iloc[:, 0]\n",
        "test_data = test.iloc[:, 1:]\n",
        "test_labels = test.iloc[:, 0]\n",
        "\n",
        "# one-hot encoding\n",
        "train_labels = pd.get_dummies(train_labels)\n",
        "test_labels = pd.get_dummies(test_labels)\n",
        "#train_labels.head()\n",
        "\n",
        "train_data = train_data.values\n",
        "train_labels = train_labels.values\n",
        "test_data = test_data.values\n",
        "test_labels = test_labels.values\n",
        "\n",
        "\n",
        "rand = random.randint(0, numTrain - 1)\n",
        "\n",
        "'''\n",
        "plt.imshow(\n",
        "    train_data[rand].reshape([28, 28]), \n",
        "    cmap='Greys'\n",
        "    )\n",
        "plt.show()\n",
        "'''\n",
        "\n",
        "def rotate(image):\n",
        "    image = image.reshape([28, 28])\n",
        "    image = np.fliplr(image)\n",
        "    image = np.rot90(image)\n",
        "    return image.reshape([28 * 28])\n",
        "train_data = np.apply_along_axis(rotate, 1, train_data)/255\n",
        "test_data = np.apply_along_axis(rotate, 1, test_data)/255\n",
        "\n"
      ],
      "execution_count": 0,
      "outputs": []
    },
    {
      "cell_type": "markdown",
      "metadata": {
        "id": "HocfdIQaFaWG",
        "colab_type": "text"
      },
      "source": [
        "The process of importing training data set and test data set is the same as softmax algorithm above"
      ]
    },
    {
      "cell_type": "markdown",
      "metadata": {
        "id": "i6kbb3xdGBMo",
        "colab_type": "text"
      },
      "source": [
        "## Algorithm"
      ]
    },
    {
      "cell_type": "markdown",
      "metadata": {
        "id": "Odwmf_NJOpjM",
        "colab_type": "text"
      },
      "source": [
        "In this algorith, we use tensorflow layer. So, we use tf.layers.conv2d instead of tf.nn.conv2d as an example. This is because we realize tensorflow layer is easier to use. "
      ]
    },
    {
      "cell_type": "markdown",
      "metadata": {
        "id": "iWjryvd5TLNk",
        "colab_type": "text"
      },
      "source": [
        "![alt text](http://rasbt.github.io/mlxtend/user_guide/classifier/StackingClassifier_files/stackingclassification_overview.png)\n",
        "\n",
        "* Classification models: We train several data set\n",
        "> When new data are added\n",
        "* Predictions: Each classes make each prediction value, which is accuracy\n",
        "* Finally, predicted values are combined"
      ]
    },
    {
      "cell_type": "markdown",
      "metadata": {
        "id": "rzmSCRdYPINa",
        "colab_type": "text"
      },
      "source": [
        "### Convolutaional/Pooling layer 1"
      ]
    },
    {
      "cell_type": "code",
      "metadata": {
        "id": "1hgeRC6NPOP3",
        "colab_type": "code",
        "colab": {}
      },
      "source": [
        "# Convolutional Layer 1 and Pooling Layer 1\n",
        "conv1 = tf.layers.conv2d(inputs=X_img, filters=32, kernel_size=[3, 3], padding=\"SAME\", activation=tf.nn.relu)"
      ],
      "execution_count": 0,
      "outputs": []
    },
    {
      "cell_type": "markdown",
      "metadata": {
        "id": "blTni4VDPNe-",
        "colab_type": "text"
      },
      "source": [
        "tf.layers.conv2d\n",
        "* input: An image 28x28\n",
        "* filter: We use 32 filters.\n",
        "* kernel_size: This is the filter size. We use 3x3 filter\n",
        "* padding=\"SAME\":  Input image size and output image size are identical regardless of image size.\n",
        "* activation: We use ReLU"
      ]
    },
    {
      "cell_type": "code",
      "metadata": {
        "id": "f1IJwEuzQBWR",
        "colab_type": "code",
        "colab": {}
      },
      "source": [
        "pool1 = tf.layers.max_pooling2d(inputs=conv1, pool_size=[2, 2], padding=\"SAME\", strides=2)"
      ],
      "execution_count": 0,
      "outputs": []
    },
    {
      "cell_type": "markdown",
      "metadata": {
        "id": "8MokzOZoQB9f",
        "colab_type": "text"
      },
      "source": [
        "tf.layers.max_pooling2d\n",
        "* input: we use previous layer, which is conv1\n",
        "* pool_size: We use 2x2 filter size. Since pool size is 2x2, original images will decrease. For instance, the image is 28x28 and modified image is 14x14 due to the stride, which is the filter. \n",
        "* strides: The number of steps to move forward at once"
      ]
    },
    {
      "cell_type": "code",
      "metadata": {
        "id": "0Fw1Mpg9Qt6w",
        "colab_type": "code",
        "colab": {}
      },
      "source": [
        "dropout1 = tf.layers.dropout(inputs=pool1, rate=0.3, training=self.training)"
      ],
      "execution_count": 0,
      "outputs": []
    },
    {
      "cell_type": "markdown",
      "metadata": {
        "id": "gM-TqdAJQvFx",
        "colab_type": "text"
      },
      "source": [
        "tf.layers.dropout\n",
        "* input: We use previous pooling layer, which is pool1\n",
        "* rate: We would like to keep 30% of networks to apply dropout\n",
        "* training: Wether to either train or test. So, this is boolean value. If we are testing, dropout rate is automatically 1."
      ]
    },
    {
      "cell_type": "markdown",
      "metadata": {
        "id": "fSbexWtLRVcV",
        "colab_type": "text"
      },
      "source": [
        "### Convolutional/Pooling layer 2"
      ]
    },
    {
      "cell_type": "code",
      "metadata": {
        "id": "qwM-Ifs6RZrq",
        "colab_type": "code",
        "colab": {}
      },
      "source": [
        "# Convolutional Layer 2 and Pooling Layer 2\n",
        "conv2 = tf.layers.conv2d(inputs=dropout1, filters=64, kernel_size=[3, 3], padding=\"SAME\", activation=tf.nn.relu)\n",
        "pool2 = tf.layers.max_pooling2d(inputs=conv2, pool_size=[2, 2], padding=\"SAME\", strides=2)\n",
        "dropout2 = tf.layers.dropout(inputs=pool2, rate=0.3, training=self.training)"
      ],
      "execution_count": 0,
      "outputs": []
    },
    {
      "cell_type": "markdown",
      "metadata": {
        "id": "Hfwhu3CBRbdB",
        "colab_type": "text"
      },
      "source": [
        "It is the same as convolutional layer 1 and pooling layer 1. However, the number of filters is different"
      ]
    },
    {
      "cell_type": "markdown",
      "metadata": {
        "id": "wnDMTQBbRvBq",
        "colab_type": "text"
      },
      "source": [
        "### Convolutional/Pooling layer 3"
      ]
    },
    {
      "cell_type": "code",
      "metadata": {
        "id": "bMu0xKZ8Rz7r",
        "colab_type": "code",
        "colab": {}
      },
      "source": [
        "# Convolutional Layer 3 and Pooling Layer 3\n",
        "conv3 = tf.layers.conv2d(inputs=dropout2, filters=128, kernel_size=[3, 3], padding=\"SAME\", activation=tf.nn.relu)\n",
        "pool3 = tf.layers.max_pooling2d(inputs=conv3, pool_size=[2, 2], padding=\"SAME\", strides=2)\n",
        "dropout3 = tf.layers.dropout(inputs=pool3, rate=0.3, training=self.training)"
      ],
      "execution_count": 0,
      "outputs": []
    },
    {
      "cell_type": "markdown",
      "metadata": {
        "id": "8yT2LuTlRxWu",
        "colab_type": "text"
      },
      "source": [
        "It is the same as convolutional layer 2 and pooling layer 2. However, the number of filters is different"
      ]
    },
    {
      "cell_type": "markdown",
      "metadata": {
        "id": "SOUAp8mpR41w",
        "colab_type": "text"
      },
      "source": [
        "## Fully Connected layer"
      ]
    },
    {
      "cell_type": "code",
      "metadata": {
        "id": "OE85NDhHR8VQ",
        "colab_type": "code",
        "colab": {}
      },
      "source": [
        "# Dense Layer with Relu\n",
        "flat = tf.reshape(dropout3, [-1, 128 * 4 * 4])"
      ],
      "execution_count": 0,
      "outputs": []
    },
    {
      "cell_type": "markdown",
      "metadata": {
        "id": "fkhWFX0_R7U2",
        "colab_type": "text"
      },
      "source": [
        "Before we get into the Fully Connected layer, we should reshape array size. In pooling layer3, there are 128 different images and the image size is 4*4. So, array shape should be 128x4x4. "
      ]
    },
    {
      "cell_type": "code",
      "metadata": {
        "id": "LHdxfQbuSan2",
        "colab_type": "code",
        "colab": {}
      },
      "source": [
        "dense4 = tf.layers.dense(inputs=flat, units=625, activation=tf.nn.relu)\n",
        "dropout4 = tf.layers.dropout(inputs=dense4, rate=0.5, training=self.training)"
      ],
      "execution_count": 0,
      "outputs": []
    },
    {
      "cell_type": "markdown",
      "metadata": {
        "id": "rDefqdr_SbRs",
        "colab_type": "text"
      },
      "source": [
        "We use tf.layers.dense in order for Fully Connected layer\n",
        "* input: Reshaped array\n",
        "* units: A number of outputs\n",
        "* activation: We use ReLU\n",
        "\n",
        "Dropout is the same as above"
      ]
    },
    {
      "cell_type": "markdown",
      "metadata": {
        "id": "bez_ikNWWV4q",
        "colab_type": "text"
      },
      "source": [
        "### Train"
      ]
    },
    {
      "cell_type": "code",
      "metadata": {
        "id": "Xqn2985KT58z",
        "colab_type": "code",
        "colab": {}
      },
      "source": [
        "models = []\n",
        "num_models = 4\n",
        "for m in range(num_models):\n",
        "    models.append(Model(sess, \"model\" + str(m)))"
      ],
      "execution_count": 0,
      "outputs": []
    },
    {
      "cell_type": "markdown",
      "metadata": {
        "id": "k8TY8Df1T6sf",
        "colab_type": "text"
      },
      "source": [
        "We use 4 models. So we make 4 models.  "
      ]
    },
    {
      "cell_type": "code",
      "metadata": {
        "id": "wkaFLWV4UTzd",
        "colab_type": "code",
        "colab": {}
      },
      "source": [
        "# Train each model\n",
        "for m_idx, m in enumerate(models):\n",
        "  c, _ = m.train(batch_xs, batch_ys)\n",
        "  avg_cost_list[m_idx] += c / num_iterations"
      ],
      "execution_count": 0,
      "outputs": []
    },
    {
      "cell_type": "markdown",
      "metadata": {
        "id": "U4WXtjUZUUWX",
        "colab_type": "text"
      },
      "source": [
        "We train each models. This is a difference between CNN above and ensemble. avg_cost_list has each accuracy value of each models. "
      ]
    },
    {
      "cell_type": "markdown",
      "metadata": {
        "id": "PIfPrndhVG-d",
        "colab_type": "text"
      },
      "source": [
        "### Test"
      ]
    },
    {
      "cell_type": "code",
      "metadata": {
        "id": "LV3qaI7wVIal",
        "colab_type": "code",
        "colab": {}
      },
      "source": [
        "# Test & accuracy\n",
        "predictions = np.zeros([numTest, numClasses])\n",
        "for m_idx, m in enumerate(models):\n",
        "    print(m_idx, 'Accuracy:', m.get_accuracy(test_data, test_labels))\n",
        "    p = m.predict(test_data)\n",
        "    predictions += p"
      ],
      "execution_count": 0,
      "outputs": []
    },
    {
      "cell_type": "markdown",
      "metadata": {
        "id": "BrjBbUB6VI4X",
        "colab_type": "text"
      },
      "source": [
        "We make 47 arrays becaue of the number of outputs. Each prediction is added, which is predictions in the code. "
      ]
    },
    {
      "cell_type": "code",
      "metadata": {
        "id": "Ty2fzjZLVuYl",
        "colab_type": "code",
        "colab": {}
      },
      "source": [
        "ensemble_correct_prediction = tf.equal(tf.argmax(predictions, 1), tf.argmax(test_labels, 1))\n",
        "ensemble_accuracy = tf.reduce_mean(tf.cast(ensemble_correct_prediction, tf.float32))"
      ],
      "execution_count": 0,
      "outputs": []
    },
    {
      "cell_type": "markdown",
      "metadata": {
        "id": "smT6JYccVqbi",
        "colab_type": "text"
      },
      "source": [
        "We compare prediction value with test label. And then, we can calculate the accuracy."
      ]
    },
    {
      "cell_type": "markdown",
      "metadata": {
        "id": "wWCz40T1S2th",
        "colab_type": "text"
      },
      "source": [
        "## Code"
      ]
    },
    {
      "cell_type": "markdown",
      "metadata": {
        "id": "6a9o8crXi9yi",
        "colab_type": "text"
      },
      "source": [
        "### Alphabet/Digits"
      ]
    },
    {
      "cell_type": "code",
      "metadata": {
        "id": "TYLhyvP_RPdK",
        "colab_type": "code",
        "outputId": "a1128e0c-6b01-4c8c-98f4-941403f7f4e2",
        "colab": {
          "base_uri": "https://localhost:8080/",
          "height": 1020
        }
      },
      "source": [
        "import numpy as np\n",
        "import pandas as pd\n",
        "import matplotlib.pyplot as plt\n",
        "import random\n",
        "import tensorflow as tf\n",
        "\n",
        "\n",
        "train = pd.read_csv('emnist-balanced-train.csv', header=None)\n",
        "#train = pd.read_csv('emnist/emnist-digits-train.csv', header=None)\n",
        "\n",
        "test = pd.read_csv('emnist-balanced-test.csv', header=None)\n",
        "#test = pd.read_csv('emnist/emnist-digits-test.csv', header=None)\n",
        "\n",
        "#train.head()\n",
        "\n",
        "# Number of Train\n",
        "numTrain = len(train)\n",
        "# Number of Test\n",
        "numTest = len(test)\n",
        "# Number of Classes\n",
        "numClasses = len(train[0].unique())\n",
        "learning_rate = 0.001\n",
        "\n",
        "train_data = train.iloc[:, 1:]\n",
        "train_labels = train.iloc[:, 0]\n",
        "test_data = test.iloc[:, 1:]\n",
        "test_labels = test.iloc[:, 0]\n",
        "\n",
        "# one-hot encoding\n",
        "train_labels = pd.get_dummies(train_labels)\n",
        "test_labels = pd.get_dummies(test_labels)\n",
        "#train_labels.head()\n",
        "\n",
        "train_data = train_data.values\n",
        "train_labels = train_labels.values\n",
        "test_data = test_data.values\n",
        "test_labels = test_labels.values\n",
        "\n",
        "\n",
        "rand = random.randint(0, numTrain - 1)\n",
        "\n",
        "'''\n",
        "plt.imshow(\n",
        "    train_data[rand].reshape([28, 28]), \n",
        "    cmap='Greys'\n",
        "    )\n",
        "plt.show()\n",
        "'''\n",
        "\n",
        "def rotate(image):\n",
        "    image = image.reshape([28, 28])\n",
        "    image = np.fliplr(image)\n",
        "    image = np.rot90(image)\n",
        "    return image.reshape([28 * 28])\n",
        "train_data = np.apply_along_axis(rotate, 1, train_data)/255\n",
        "test_data = np.apply_along_axis(rotate, 1, test_data)/255\n",
        "\n",
        "\n",
        "\n",
        "class Model:\n",
        "\n",
        "    def __init__(self, sess, name):\n",
        "        self.sess = sess\n",
        "        self.name = name\n",
        "        self._runEnsemble()\n",
        "\n",
        "    def _runEnsemble(self):\n",
        "        with tf.variable_scope(self.name):\n",
        "            self.training = tf.placeholder(tf.bool)\n",
        "\n",
        "            # EMNIST data image of shape 28 * 28 = 784\n",
        "            self.X = tf.placeholder(tf.float32, [None, 784])\n",
        "            # 47 classes: 10 digits, 26 letters, and 11 capital letters\n",
        "            self.Y = tf.placeholder(tf.float32, [None, numClasses])\n",
        "            # Input Image\n",
        "            X_img = tf.reshape(self.X, [-1, 28, 28, 1])\n",
        "\n",
        "            # Convolutional Layer 1 and Pooling Layer 1\n",
        "            conv1 = tf.layers.conv2d(inputs=X_img, filters=32, kernel_size=[3, 3], padding=\"SAME\", activation=tf.nn.relu)\n",
        "            pool1 = tf.layers.max_pooling2d(inputs=conv1, pool_size=[2, 2], padding=\"SAME\", strides=2)\n",
        "            dropout1 = tf.layers.dropout(inputs=pool1, rate=0.3, training=self.training)\n",
        "\n",
        "            # Convolutional Layer 2 and Pooling Layer 2\n",
        "            conv2 = tf.layers.conv2d(inputs=dropout1, filters=64, kernel_size=[3, 3], padding=\"SAME\", activation=tf.nn.relu)\n",
        "            pool2 = tf.layers.max_pooling2d(inputs=conv2, pool_size=[2, 2], padding=\"SAME\", strides=2)\n",
        "            dropout2 = tf.layers.dropout(inputs=pool2, rate=0.3, training=self.training)\n",
        "\n",
        "            # Convolutional Layer 3 and Pooling Layer 3\n",
        "            conv3 = tf.layers.conv2d(inputs=dropout2, filters=128, kernel_size=[3, 3], padding=\"SAME\", activation=tf.nn.relu)\n",
        "            pool3 = tf.layers.max_pooling2d(inputs=conv3, pool_size=[2, 2], padding=\"SAME\", strides=2)\n",
        "            dropout3 = tf.layers.dropout(inputs=pool3, rate=0.3, training=self.training)\n",
        "\n",
        "            # Dense Layer with Relu\n",
        "            flat = tf.reshape(dropout3, [-1, 128 * 4 * 4])\n",
        "            dense4 = tf.layers.dense(inputs=flat, units=625, activation=tf.nn.relu)\n",
        "            dropout4 = tf.layers.dropout(inputs=dense4, rate=0.5, training=self.training)\n",
        "\n",
        "            # Logits (no activation) Layer: L5 Final FC 625 inputs -> outputs\n",
        "            self.logits = tf.layers.dense(inputs=dropout4, units=numClasses)\n",
        "\n",
        "        # define cost/loss & optimizer\n",
        "        self.cost = tf.reduce_mean(tf.nn.softmax_cross_entropy_with_logits(logits=self.logits, labels=self.Y))\n",
        "        self.optimizer = tf.train.AdamOptimizer(learning_rate=learning_rate).minimize(self.cost)\n",
        "\n",
        "        correct_prediction = tf.equal(tf.argmax(self.logits, 1), tf.argmax(self.Y, 1))\n",
        "        self.accuracy = tf.reduce_mean(tf.cast(correct_prediction, tf.float32))\n",
        "\n",
        "    def predict(self, x_test, training=False):\n",
        "        return self.sess.run(self.logits, feed_dict={self.X: x_test, self.training: training})\n",
        "\n",
        "    def get_accuracy(self, x_test, y_test, training=False):\n",
        "        return self.sess.run(self.accuracy, feed_dict={self.X: x_test, self.Y: y_test, self.training: training})\n",
        "\n",
        "    def train(self, x_data, y_data, training=True):\n",
        "        return self.sess.run([self.cost, self.optimizer], feed_dict={self.X: x_data, self.Y: y_data, self.training: training})\n",
        "\n",
        "# initialize\n",
        "sess = tf.Session()\n",
        "\n",
        "models = []\n",
        "num_models = 4\n",
        "for m in range(num_models):\n",
        "    models.append(Model(sess, \"model\" + str(m)))\n",
        "\n",
        "sess.run(tf.global_variables_initializer())\n",
        "\n",
        "print('Learning Started!')\n",
        "\n",
        "num_epochs = 15\n",
        "batch_size = 100\n",
        "print('numTrain: ', numTrain)\n",
        "num_iterations = int( numTrain / batch_size)\n",
        "\n",
        "\n",
        "# Train\n",
        "for epoch in range(num_epochs):\n",
        "    avg_cost_list = np.zeros(len(models))\n",
        "    for i in range(num_iterations):\n",
        "        batch_xs, batch_ys = train_data[i * 100: (i + 1) * 100], train_labels[i * 100: (i + 1) * 100]\n",
        "\n",
        "        # Train each model\n",
        "        for m_idx, m in enumerate(models):\n",
        "            c, _ = m.train(batch_xs, batch_ys)\n",
        "            avg_cost_list[m_idx] += c / num_iterations\n",
        "\n",
        "    print('Epoch:', '%04d' % (epoch + 1), 'cost =', avg_cost_list)\n",
        "\n",
        "print('Learning Finished!')\n",
        "\n",
        "\n",
        "# Test & accuracy\n",
        "predictions = np.zeros([numTest, numClasses])\n",
        "for m_idx, m in enumerate(models):\n",
        "    print(m_idx, 'Accuracy:', m.get_accuracy(test_data, test_labels))\n",
        "    p = m.predict(test_data)\n",
        "    predictions += p\n",
        "\n",
        "ensemble_correct_prediction = tf.equal(tf.argmax(predictions, 1), tf.argmax(test_labels, 1))\n",
        "ensemble_accuracy = tf.reduce_mean(tf.cast(ensemble_correct_prediction, tf.float32))\n",
        "print('Final accuracy:', sess.run(ensemble_accuracy))\n"
      ],
      "execution_count": 0,
      "outputs": [
        {
          "output_type": "stream",
          "text": [
            "WARNING:tensorflow:From <ipython-input-7-4aeab7799e58>:79: conv2d (from tensorflow.python.layers.convolutional) is deprecated and will be removed in a future version.\n",
            "Instructions for updating:\n",
            "Use keras.layers.conv2d instead.\n",
            "WARNING:tensorflow:From /usr/local/lib/python3.6/dist-packages/tensorflow/python/framework/op_def_library.py:263: colocate_with (from tensorflow.python.framework.ops) is deprecated and will be removed in a future version.\n",
            "Instructions for updating:\n",
            "Colocations handled automatically by placer.\n",
            "WARNING:tensorflow:From <ipython-input-7-4aeab7799e58>:80: max_pooling2d (from tensorflow.python.layers.pooling) is deprecated and will be removed in a future version.\n",
            "Instructions for updating:\n",
            "Use keras.layers.max_pooling2d instead.\n",
            "WARNING:tensorflow:From <ipython-input-7-4aeab7799e58>:81: dropout (from tensorflow.python.layers.core) is deprecated and will be removed in a future version.\n",
            "Instructions for updating:\n",
            "Use keras.layers.dropout instead.\n",
            "WARNING:tensorflow:From /usr/local/lib/python3.6/dist-packages/tensorflow/python/keras/layers/core.py:143: calling dropout (from tensorflow.python.ops.nn_ops) with keep_prob is deprecated and will be removed in a future version.\n",
            "Instructions for updating:\n",
            "Please use `rate` instead of `keep_prob`. Rate should be set to `rate = 1 - keep_prob`.\n",
            "WARNING:tensorflow:From <ipython-input-7-4aeab7799e58>:95: dense (from tensorflow.python.layers.core) is deprecated and will be removed in a future version.\n",
            "Instructions for updating:\n",
            "Use keras.layers.dense instead.\n",
            "WARNING:tensorflow:From <ipython-input-7-4aeab7799e58>:102: softmax_cross_entropy_with_logits (from tensorflow.python.ops.nn_ops) is deprecated and will be removed in a future version.\n",
            "Instructions for updating:\n",
            "\n",
            "Future major versions of TensorFlow will allow gradients to flow\n",
            "into the labels input on backprop by default.\n",
            "\n",
            "See `tf.nn.softmax_cross_entropy_with_logits_v2`.\n",
            "\n",
            "Learning Started!\n",
            "numTrain:  112800\n",
            "Epoch: 0001 cost = [0.93694787 0.96545307 0.96958477 0.95645672]\n",
            "Epoch: 0002 cost = [0.51001651 0.52268768 0.51578384 0.51749801]\n",
            "Epoch: 0003 cost = [0.44954652 0.46018538 0.45869213 0.45723559]\n",
            "Epoch: 0004 cost = [0.42094525 0.42600334 0.42507715 0.42196886]\n",
            "Epoch: 0005 cost = [0.39802434 0.40422068 0.4024648  0.40161107]\n",
            "Epoch: 0006 cost = [0.38610352 0.3868933  0.38614775 0.38660766]\n",
            "Epoch: 0007 cost = [0.37033975 0.37395777 0.3706577  0.37284704]\n",
            "Epoch: 0008 cost = [0.35975115 0.36336663 0.35888761 0.36276961]\n",
            "Epoch: 0009 cost = [0.35073441 0.3545419  0.35260872 0.35529837]\n",
            "Epoch: 0010 cost = [0.34365498 0.34878156 0.34508266 0.34724383]\n",
            "Epoch: 0011 cost = [0.33927261 0.34045809 0.33935128 0.34327952]\n",
            "Epoch: 0012 cost = [0.3334537  0.3365682  0.33567896 0.33747963]\n",
            "Epoch: 0013 cost = [0.32677686 0.32869293 0.32912845 0.33117159]\n",
            "Epoch: 0014 cost = [0.32393402 0.32300278 0.32438993 0.32769079]\n",
            "Epoch: 0015 cost = [0.32108156 0.32197558 0.31911203 0.32423962]\n",
            "Learning Finished!\n",
            "0 Accuracy: 0.89079785\n",
            "1 Accuracy: 0.89143616\n",
            "2 Accuracy: 0.8932447\n",
            "3 Accuracy: 0.8907447\n",
            "Final accuracy: 0.89521277\n"
          ],
          "name": "stdout"
        }
      ]
    },
    {
      "cell_type": "markdown",
      "metadata": {
        "id": "kYj6K6vQjCkC",
        "colab_type": "text"
      },
      "source": [
        "### Digits"
      ]
    },
    {
      "cell_type": "code",
      "metadata": {
        "id": "axRZTtL5gSYU",
        "colab_type": "code",
        "outputId": "76568e39-756c-49a8-c1b8-7f08a6c7b991",
        "colab": {
          "base_uri": "https://localhost:8080/",
          "height": 933
        }
      },
      "source": [
        "import numpy as np\n",
        "import pandas as pd\n",
        "import matplotlib.pyplot as plt\n",
        "import random\n",
        "import tensorflow as tf\n",
        "\n",
        "\n",
        "#train = pd.read_csv('emnist-balanced-train.csv', header=None)\n",
        "train = pd.read_csv('emnist-digits-train.csv', header=None)\n",
        "\n",
        "#test = pd.read_csv('emnist-balanced-test.csv', header=None)\n",
        "test = pd.read_csv('emnist-digits-test.csv', header=None)\n",
        "\n",
        "#train.head()\n",
        "\n",
        "# Number of Train\n",
        "numTrain = len(train)\n",
        "# Number of Test\n",
        "numTest = len(test)\n",
        "# Number of Classes\n",
        "numClasses = len(train[0].unique())\n",
        "learning_rate = 0.001\n",
        "\n",
        "train_data = train.iloc[:, 1:]\n",
        "train_labels = train.iloc[:, 0]\n",
        "test_data = test.iloc[:, 1:]\n",
        "test_labels = test.iloc[:, 0]\n",
        "\n",
        "# one-hot encoding\n",
        "train_labels = pd.get_dummies(train_labels)\n",
        "test_labels = pd.get_dummies(test_labels)\n",
        "#train_labels.head()\n",
        "\n",
        "train_data = train_data.values\n",
        "train_labels = train_labels.values\n",
        "test_data = test_data.values\n",
        "test_labels = test_labels.values\n",
        "\n",
        "\n",
        "rand = random.randint(0, numTrain - 1)\n",
        "\n",
        "'''\n",
        "plt.imshow(\n",
        "    train_data[rand].reshape([28, 28]), \n",
        "    cmap='Greys'\n",
        "    )\n",
        "plt.show()\n",
        "'''\n",
        "\n",
        "def rotate(image):\n",
        "    image = image.reshape([28, 28])\n",
        "    image = np.fliplr(image)\n",
        "    image = np.rot90(image)\n",
        "    return image.reshape([28 * 28])\n",
        "train_data = np.apply_along_axis(rotate, 1, train_data)/255\n",
        "test_data = np.apply_along_axis(rotate, 1, test_data)/255\n",
        "\n",
        "\n",
        "\n",
        "class Model:\n",
        "\n",
        "    def __init__(self, sess, name):\n",
        "        self.sess = sess\n",
        "        self.name = name\n",
        "        self._runEnsemble()\n",
        "\n",
        "    def _runEnsemble(self):\n",
        "        with tf.variable_scope(self.name):\n",
        "            self.training = tf.placeholder(tf.bool)\n",
        "\n",
        "            # EMNIST data image of shape 28 * 28 = 784\n",
        "            self.X = tf.placeholder(tf.float32, [None, 784])\n",
        "            # 47 classes: 10 digits, 26 letters, and 11 capital letters\n",
        "            self.Y = tf.placeholder(tf.float32, [None, numClasses])\n",
        "            # Input Image\n",
        "            X_img = tf.reshape(self.X, [-1, 28, 28, 1])\n",
        "\n",
        "            # Convolutional Layer 1 and Pooling Layer 1\n",
        "            conv1 = tf.layers.conv2d(inputs=X_img, filters=32, kernel_size=[3, 3], padding=\"SAME\", activation=tf.nn.relu)\n",
        "            pool1 = tf.layers.max_pooling2d(inputs=conv1, pool_size=[2, 2], padding=\"SAME\", strides=2)\n",
        "            dropout1 = tf.layers.dropout(inputs=pool1, rate=0.3, training=self.training)\n",
        "\n",
        "            # Convolutional Layer 2 and Pooling Layer 2\n",
        "            conv2 = tf.layers.conv2d(inputs=dropout1, filters=64, kernel_size=[3, 3], padding=\"SAME\", activation=tf.nn.relu)\n",
        "            pool2 = tf.layers.max_pooling2d(inputs=conv2, pool_size=[2, 2], padding=\"SAME\", strides=2)\n",
        "            dropout2 = tf.layers.dropout(inputs=pool2, rate=0.3, training=self.training)\n",
        "\n",
        "            # Convolutional Layer 3 and Pooling Layer 3\n",
        "            conv3 = tf.layers.conv2d(inputs=dropout2, filters=128, kernel_size=[3, 3], padding=\"SAME\", activation=tf.nn.relu)\n",
        "            pool3 = tf.layers.max_pooling2d(inputs=conv3, pool_size=[2, 2], padding=\"SAME\", strides=2)\n",
        "            dropout3 = tf.layers.dropout(inputs=pool3, rate=0.3, training=self.training)\n",
        "\n",
        "            # Dense Layer with Relu\n",
        "            flat = tf.reshape(dropout3, [-1, 128 * 4 * 4])\n",
        "            dense4 = tf.layers.dense(inputs=flat, units=625, activation=tf.nn.relu)\n",
        "            dropout4 = tf.layers.dropout(inputs=dense4, rate=0.5, training=self.training)\n",
        "\n",
        "            # Logits (no activation) Layer: L5 Final FC 625 inputs -> outputs\n",
        "            self.logits = tf.layers.dense(inputs=dropout4, units=numClasses)\n",
        "\n",
        "        # define cost/loss & optimizer\n",
        "        self.cost = tf.reduce_mean(tf.nn.softmax_cross_entropy_with_logits(logits=self.logits, labels=self.Y))\n",
        "        self.optimizer = tf.train.AdamOptimizer(learning_rate=learning_rate).minimize(self.cost)\n",
        "\n",
        "        correct_prediction = tf.equal(tf.argmax(self.logits, 1), tf.argmax(self.Y, 1))\n",
        "        self.accuracy = tf.reduce_mean(tf.cast(correct_prediction, tf.float32))\n",
        "\n",
        "    def predict(self, x_test, training=False):\n",
        "        return self.sess.run(self.logits, feed_dict={self.X: x_test, self.training: training})\n",
        "\n",
        "    def get_accuracy(self, x_test, y_test, training=False):\n",
        "        return self.sess.run(self.accuracy, feed_dict={self.X: x_test, self.Y: y_test, self.training: training})\n",
        "\n",
        "    def train(self, x_data, y_data, training=True):\n",
        "        return self.sess.run([self.cost, self.optimizer], feed_dict={self.X: x_data, self.Y: y_data, self.training: training})\n",
        "\n",
        "# initialize\n",
        "sess = tf.Session()\n",
        "\n",
        "models = []\n",
        "num_models = 4\n",
        "for m in range(num_models):\n",
        "    models.append(Model(sess, \"model\" + str(m)))\n",
        "\n",
        "sess.run(tf.global_variables_initializer())\n",
        "\n",
        "print('Learning Started!')\n",
        "\n",
        "num_epochs = 15\n",
        "batch_size = 100\n",
        "print('numTrain: ', numTrain)\n",
        "num_iterations = int( numTrain / batch_size)\n",
        "\n",
        "\n",
        "# Train\n",
        "for epoch in range(num_epochs):\n",
        "    avg_cost_list = np.zeros(len(models))\n",
        "    for i in range(num_iterations):\n",
        "        batch_xs, batch_ys = train_data[i * 100: (i + 1) * 100], train_labels[i * 100: (i + 1) * 100]\n",
        "\n",
        "        # Train each model\n",
        "        for m_idx, m in enumerate(models):\n",
        "            c, _ = m.train(batch_xs, batch_ys)\n",
        "            avg_cost_list[m_idx] += c / num_iterations\n",
        "\n",
        "    print('Epoch:', '%04d' % (epoch + 1), 'cost =', avg_cost_list)\n",
        "\n",
        "print('Learning Finished!')\n",
        "\n",
        "\n",
        "# Test & accuracy\n",
        "predictions = np.zeros([numTest, numClasses])\n",
        "for m_idx, m in enumerate(models):\n",
        "    print(m_idx, 'Accuracy:', m.get_accuracy(test_data, test_labels))\n",
        "    p = m.predict(test_data)\n",
        "    predictions += p\n",
        "\n",
        "ensemble_correct_prediction = tf.equal(tf.argmax(predictions, 1), tf.argmax(test_labels, 1))\n",
        "ensemble_accuracy = tf.reduce_mean(tf.cast(ensemble_correct_prediction, tf.float32))\n",
        "print('Final accuracy:', sess.run(ensemble_accuracy))\n",
        "\n"
      ],
      "execution_count": 0,
      "outputs": [
        {
          "output_type": "stream",
          "text": [
            "WARNING:tensorflow:From <ipython-input-9-0917ef1bdd41>:79: conv2d (from tensorflow.python.layers.convolutional) is deprecated and will be removed in a future version.\n",
            "Instructions for updating:\n",
            "Use keras.layers.conv2d instead.\n",
            "WARNING:tensorflow:From /usr/local/lib/python3.6/dist-packages/tensorflow/python/framework/op_def_library.py:263: colocate_with (from tensorflow.python.framework.ops) is deprecated and will be removed in a future version.\n",
            "Instructions for updating:\n",
            "Colocations handled automatically by placer.\n",
            "WARNING:tensorflow:From <ipython-input-9-0917ef1bdd41>:80: max_pooling2d (from tensorflow.python.layers.pooling) is deprecated and will be removed in a future version.\n",
            "Instructions for updating:\n",
            "Use keras.layers.max_pooling2d instead.\n",
            "WARNING:tensorflow:From <ipython-input-9-0917ef1bdd41>:81: dropout (from tensorflow.python.layers.core) is deprecated and will be removed in a future version.\n",
            "Instructions for updating:\n",
            "Use keras.layers.dropout instead.\n",
            "WARNING:tensorflow:From /usr/local/lib/python3.6/dist-packages/tensorflow/python/keras/layers/core.py:143: calling dropout (from tensorflow.python.ops.nn_ops) with keep_prob is deprecated and will be removed in a future version.\n",
            "Instructions for updating:\n",
            "Please use `rate` instead of `keep_prob`. Rate should be set to `rate = 1 - keep_prob`.\n",
            "WARNING:tensorflow:From <ipython-input-9-0917ef1bdd41>:95: dense (from tensorflow.python.layers.core) is deprecated and will be removed in a future version.\n",
            "Instructions for updating:\n",
            "Use keras.layers.dense instead.\n",
            "WARNING:tensorflow:From <ipython-input-9-0917ef1bdd41>:102: softmax_cross_entropy_with_logits (from tensorflow.python.ops.nn_ops) is deprecated and will be removed in a future version.\n",
            "Instructions for updating:\n",
            "\n",
            "Future major versions of TensorFlow will allow gradients to flow\n",
            "into the labels input on backprop by default.\n",
            "\n",
            "See `tf.nn.softmax_cross_entropy_with_logits_v2`.\n",
            "\n",
            "Learning Started!\n",
            "numTrain:  240000\n",
            "Epoch: 0001 cost = [0.10468324 0.10184871 0.10251109 0.10327382]\n",
            "Epoch: 0002 cost = [0.03955471 0.03966181 0.04028189 0.03961207]\n",
            "Epoch: 0003 cost = [0.03291164 0.03285973 0.03267252 0.03280353]\n",
            "Epoch: 0004 cost = [0.02949152 0.02939486 0.02953999 0.02957595]\n",
            "Epoch: 0005 cost = [0.02754066 0.02755699 0.02666415 0.02744095]\n",
            "Epoch: 0006 cost = [0.02618295 0.02627841 0.02529343 0.0257399 ]\n",
            "Epoch: 0007 cost = [0.02505093 0.02504658 0.02427934 0.0251797 ]\n",
            "Epoch: 0008 cost = [0.02341027 0.02411584 0.02372315 0.02406025]\n",
            "Epoch: 0009 cost = [0.02358986 0.02329099 0.02328037 0.02309247]\n",
            "Epoch: 0010 cost = [0.02355568 0.02233755 0.0228784  0.02300813]\n",
            "Epoch: 0011 cost = [0.02229733 0.02200331 0.0218251  0.02277981]\n",
            "Epoch: 0012 cost = [0.02233569 0.02140354 0.02109605 0.02199041]\n",
            "Epoch: 0013 cost = [0.02120303 0.02134857 0.02285071 0.02114544]\n",
            "Epoch: 0014 cost = [0.02178189 0.02170915 0.02136285 0.02185103]\n",
            "Epoch: 0015 cost = [0.02130419 0.02103714 0.02110437 0.02036902]\n",
            "Learning Finished!\n",
            "0 Accuracy: 0.9966\n",
            "1 Accuracy: 0.996625\n",
            "2 Accuracy: 0.996575\n",
            "3 Accuracy: 0.996425\n",
            "Final accuracy: 0.997225\n"
          ],
          "name": "stdout"
        }
      ]
    },
    {
      "cell_type": "markdown",
      "metadata": {
        "id": "LT0l5r1Bb-Hj",
        "colab_type": "text"
      },
      "source": [
        "# Summary"
      ]
    },
    {
      "cell_type": "markdown",
      "metadata": {
        "id": "ZWtbM0NDdZwR",
        "colab_type": "text"
      },
      "source": [
        "||Alphabet/Digits|Digits|\n",
        "|--|:----------------|-------|\n",
        "|Logistic Regression|0.6085106|0.7697|\n",
        "|Neural Networks|0.6993085|0.9823|\n",
        "|Xavier|0.8368085|0.988775|\n",
        "|Dropout|0.84957445|0.990575|\n",
        "|CNN|0.89090425|0.996125|\n",
        "|Ensemble|0.89521277|0.997225|\n"
      ]
    },
    {
      "cell_type": "markdown",
      "metadata": {
        "id": "VemU-1Gi9B9V",
        "colab_type": "text"
      },
      "source": [
        "# Reference\n",
        "\n",
        "\n",
        "1.   Gregory Cohen, Saeed Afshar, Jonathan Tapson, and Andre ́ van Schaik, \"EMNIST: an extension of MNIST to handwritten letters\", March 2017\n",
        "2.  http://cs231n.github.io/convolutional-networks/\n",
        "3. Diederik P. Kingma, Jimmy Lei Ba, \"ADAM: A METHOD FOR STOCHASTIC OPTIMIZATION\", ICLR 2015\n",
        "4.  https://towardsdatascience.com/activation-functions-neural-networks-1cbd9f8d91d6\n",
        "5. https://stackoverflow.com/questions/4752626/epoch-vs-iteration-when-training-neural-networks\n",
        "6. Xavier Glorot, Yoshua Bengio, \"Understanding the difficulty of training deep feedforward neural networks\", 2010\n",
        "7. https://github.com/google/prettytensor/blob/a69f13998258165d6682a47a931108d974bab05e/prettytensor/layers.py\n",
        "8. Nitish Srivastava, Geoffrey Hinton, Alex Krizhevsky, Ilya Sutskever, Ruslan Salakhutdinov, \"Dropout: A Simple Way to Prevent Neural Networks from Overfiting\", Journal of Machine Learning Research, May 2014\n",
        "9. Shuo Yang, Ping Luo, Chen Change Loy, Kenneth W. Shu, Xiaoou Tang, \"Deep Representation Learning with Target Coding\", AAAI Conference on Artificial Intelligence, 2015\n",
        "10. Tang, J., S. Alelyani, and H. Liu. \"Data Classification: Algorithms and Applications.\" Data Mining and Knowledge Discovery Series, CRC Press (2015): pp. 498-500"
      ]
    }
  ]
}