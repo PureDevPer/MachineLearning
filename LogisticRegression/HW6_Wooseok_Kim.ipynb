{
 "cells": [
  {
   "cell_type": "markdown",
   "metadata": {},
   "source": [
    "# Homework 6"
   ]
  },
  {
   "cell_type": "markdown",
   "metadata": {},
   "source": [
    "$$\n",
    "l(\\theta) = \\sum_{i=1}^{m}y_ilog(\\theta^Tx_i)+(1-y_i)log(1-\\sigma(\\theta^Tx_i))\n",
    "$$"
   ]
  },
  {
   "cell_type": "markdown",
   "metadata": {},
   "source": [
    "where\n",
    "$$\n",
    "\\sigma(z) = (1+e^{-z})^{-1}\n",
    "$$"
   ]
  },
  {
   "cell_type": "markdown",
   "metadata": {},
   "source": [
    "## Gradient Descent Method"
   ]
  },
  {
   "cell_type": "code",
   "execution_count": 1,
   "metadata": {},
   "outputs": [],
   "source": [
    "import numpy as np\n",
    "import matplotlib.pyplot as plt\n",
    "from numpy.linalg import inv"
   ]
  },
  {
   "cell_type": "code",
   "execution_count": 2,
   "metadata": {},
   "outputs": [],
   "source": [
    "X = np.loadtxt('hw6x.dat')\n",
    "y = np.loadtxt('hw6y.dat')\n",
    "\n",
    "\n",
    "totalNum, totalCol = np.shape(X)"
   ]
  },
  {
   "cell_type": "code",
   "execution_count": 3,
   "metadata": {},
   "outputs": [],
   "source": [
    "def sigmoid(z):\n",
    "    return 1 / (1 + np.exp(-z))"
   ]
  },
  {
   "cell_type": "markdown",
   "metadata": {},
   "source": [
    "$$\n",
    "\\sigma(z) = (1+e^{-z})^{-1}\n",
    "$$"
   ]
  },
  {
   "cell_type": "code",
   "execution_count": 4,
   "metadata": {},
   "outputs": [],
   "source": [
    "def cost(h, y):\n",
    "    return (-y * np.log(h) - (1 - y) * np.log(1 - h)).mean()"
   ]
  },
  {
   "cell_type": "markdown",
   "metadata": {},
   "source": [
    "$$\n",
    "l(\\theta) = \\sum_{i=1}^{m}y_ilog(\\theta^Tx_i)+(1-y_i)log(1-\\sigma(\\theta^Tx_i))\n",
    "$$"
   ]
  },
  {
   "cell_type": "code",
   "execution_count": 5,
   "metadata": {},
   "outputs": [],
   "source": [
    "def add_intercept(x_data):\n",
    "    return np.c_[np.ones((x_data.shape[0],1)),x_data]"
   ]
  },
  {
   "cell_type": "markdown",
   "metadata": {},
   "source": [
    "Adding an intercept function"
   ]
  },
  {
   "cell_type": "code",
   "execution_count": 6,
   "metadata": {},
   "outputs": [],
   "source": [
    "x_data = add_intercept(X)\n",
    "theta = np.zeros(x_data.shape[1])\n",
    "hypothesis = sigmoid(np.dot(x_data, theta))"
   ]
  },
  {
   "cell_type": "markdown",
   "metadata": {},
   "source": [
    "Call sigmoid function"
   ]
  },
  {
   "cell_type": "code",
   "execution_count": 7,
   "metadata": {},
   "outputs": [],
   "source": [
    "diff = hypothesis - y\n",
    "cost = cost(hypothesis, y)"
   ]
  },
  {
   "cell_type": "markdown",
   "metadata": {},
   "source": [
    "Call a cost function\n",
    "$$\n",
    "\\sum_{i=1}^{m}y_ilog(\\theta^Tx_i)+(1-y_i)log(1-\\sigma(\\theta^Tx_i))\n",
    "$$"
   ]
  },
  {
   "cell_type": "code",
   "execution_count": 8,
   "metadata": {},
   "outputs": [],
   "source": [
    "gradient = np.dot(np.transpose(x_data), diff) / totalNum"
   ]
  },
  {
   "cell_type": "markdown",
   "metadata": {},
   "source": [
    "$$\n",
    "J(\\theta) = -\\frac{1}{m}\\sum_{i=1}^{m}y_ilog(\\theta^Tx_i)+(1-y_i)log(1-\\sigma(\\theta^Tx_i))\n",
    "$$"
   ]
  },
  {
   "cell_type": "markdown",
   "metadata": {},
   "source": [
    "$$\n",
    "\\frac{\\partial}{\\partial\\theta_j}J(\\theta)=\\frac{1}{m}\\sum_{i=1}^{m}(\\theta x_i-y_i)x_i\n",
    "$$"
   ]
  },
  {
   "cell_type": "markdown",
   "metadata": {},
   "source": [
    "$$\n",
    "\\theta_j \\leftarrow \\theta_j - \\alpha\\frac{\\partial}{\\partial\\theta_j}J(\\theta)\n",
    "$$"
   ]
  },
  {
   "cell_type": "code",
   "execution_count": 9,
   "metadata": {},
   "outputs": [],
   "source": [
    "learning_rate = 0.1\n",
    "theta -= learning_rate * gradient"
   ]
  },
  {
   "cell_type": "markdown",
   "metadata": {},
   "source": [
    "Update theta using gradient"
   ]
  },
  {
   "cell_type": "code",
   "execution_count": 10,
   "metadata": {},
   "outputs": [
    {
     "name": "stdout",
     "output_type": "stream",
     "text": [
      "cost : 0.6931471805599453 \t theta:  [-0.00050505  0.04815055  0.05548306]\n"
     ]
    }
   ],
   "source": [
    "print('cost :', cost, '\\t theta: ', theta)"
   ]
  },
  {
   "cell_type": "markdown",
   "metadata": {},
   "source": [
    "An entire code for the gredient descent method is below"
   ]
  },
  {
   "cell_type": "code",
   "execution_count": 11,
   "metadata": {},
   "outputs": [
    {
     "name": "stdout",
     "output_type": "stream",
     "text": [
      "cost : 0.6931471805599453 \t theta:  [-0.00050505  0.04815055  0.05548306]\n",
      "cost : 0.37509871870999056 \t theta:  [-0.56507148  0.31513143  1.07180776]\n",
      "cost : 0.357580087298685 \t theta:  [-0.96638608  0.40554981  1.12348093]\n",
      "cost : 0.3473603692713916 \t theta:  [-1.27779528  0.47130267  1.12519403]\n",
      "cost : 0.3410377563930333 \t theta:  [-1.52283397  0.52302058  1.12553278]\n",
      "cost : 0.33703559364409813 \t theta:  [-1.71776136  0.5644821   1.12816684]\n",
      "cost : 0.3344507871336257 \t theta:  [-1.87436965  0.59802888  1.13214208]\n",
      "cost : 0.33275229735549994 \t theta:  [-2.00127933  0.62536294  1.13657017]\n",
      "cost : 0.3316199228992549 \t theta:  [-2.10487207  0.647768    1.1409519 ]\n",
      "cost : 0.3308558300324975 \t theta:  [-2.18994538  0.66622667  1.14504335]\n",
      "cost : 0.33033507317705113 \t theta:  [-2.26016193  0.68149991  1.14874219]\n",
      "cost : 0.3299772124263202 \t theta:  [-2.31835821  0.69418358  1.15202113]\n",
      "cost : 0.329729600210425 \t theta:  [-2.3667591   0.70474906  1.15489133]\n",
      "cost : 0.3295572918057753 \t theta:  [-2.40712927  0.71357274  1.15738241]\n",
      "cost : 0.32943681492243027 \t theta:  [-2.44088199  0.72095772  1.15953161]\n",
      "cost : 0.329352243656024 \t theta:  [-2.4691585   0.72714977  1.16137794]\n",
      "cost : 0.32929267993320127 \t theta:  [-2.49288695  0.73234952  1.16295909]\n",
      "cost : 0.3292506124070003 \t theta:  [-2.51282679  0.73672158  1.16430996]\n",
      "cost : 0.32922083245690575 \t theta:  [-2.52960265  0.74040167  1.16546201]\n",
      "cost : 0.3291997096838157 \t theta:  [-2.54373052  0.74350211  1.16644313]\n",
      "cost : 0.32918470272414657 \t theta:  [-2.55563827  0.7461162   1.16727777]\n",
      "cost : 0.3291740260439287 \t theta:  [-2.56568178  0.74832166  1.16798718]\n",
      "cost : 0.32916642126252293 \t theta:  [-2.57415793  0.75018337  1.16858974]\n",
      "cost : 0.329160999197891 \t theta:  [-2.58131485  0.75175564  1.16910126]\n",
      "cost : 0.32915713015740505 \t theta:  [-2.5873604   0.75308397  1.16953529]\n",
      "cost : 0.3291543673776163 \t theta:  [-2.59246898  0.75420659  1.16990343]\n",
      "cost : 0.32915239338128616 \t theta:  [-2.59678709  0.75515562  1.1702156 ]\n",
      "cost : 0.3291509822624337 \t theta:  [-2.60043796  0.75595807  1.17048023]\n",
      "cost : 0.32914997309230304 \t theta:  [-2.60352535  0.75663674  1.17070453]\n",
      "cost : 0.3291492511203362 \t theta:  [-2.60613671  0.7572108   1.17089459]\n",
      "cost : 0.32914873445720755 \t theta:  [-2.60834576  0.75769645  1.17105564]\n",
      "cost : 0.3291483646243015 \t theta:  [-2.61021473  0.75810736  1.17119207]\n",
      "cost : 0.3291480998368046 \t theta:  [-2.61179615  0.75845506  1.17130764]\n",
      "cost : 0.32914791022350864 \t theta:  [-2.61313437  0.7587493   1.17140554]\n",
      "cost : 0.32914777442116355 \t theta:  [-2.6142669   0.75899832  1.17148845]\n",
      "cost : 0.3291476771458617 \t theta:  [-2.6152254   0.75920908  1.17155867]\n",
      "cost : 0.32914760745978694 \t theta:  [-2.61603667  0.75938747  1.17161814]\n",
      "cost : 0.329147557533402 \t theta:  [-2.61672335  0.75953847  1.17166851]\n",
      "cost : 0.32914752176095147 \t theta:  [-2.6173046   0.75966629  1.17171115]\n",
      "cost : 0.3291474961281296 \t theta:  [-2.61779662  0.75977448  1.17174726]\n",
      "cost : 0.3291474777598354 \t theta:  [-2.61821313  0.75986608  1.17177784]\n",
      "cost : 0.3291474645966157 \t theta:  [-2.61856571  0.75994361  1.17180374]\n",
      "cost : 0.32914745516311006 \t theta:  [-2.6188642   0.76000925  1.17182566]\n",
      "cost : 0.3291474484022947 \t theta:  [-2.61911689  0.76006482  1.17184422]\n",
      "cost : 0.32914744355680475 \t theta:  [-2.61933081  0.76011186  1.17185994]\n",
      "cost : 0.32914744008394653 \t theta:  [-2.61951191  0.76015169  1.17187325]\n",
      "cost : 0.3291474375948284 \t theta:  [-2.61966524  0.76018541  1.17188452]\n",
      "cost : 0.3291474358107595 \t theta:  [-2.61979504  0.76021395  1.17189406]\n",
      "cost : 0.3291474345320135 \t theta:  [-2.61990494  0.76023812  1.17190214]\n",
      "cost : 0.3291474336154504 \t theta:  [-2.61999798  0.76025858  1.17190898]\n",
      "cost : 0.32914743295848076 \t theta:  [-2.62007675  0.7602759   1.17191477]\n",
      "cost : 0.3291474324875772 \t theta:  [-2.62014343  0.76029057  1.17191967]\n",
      "cost : 0.3291474321500396 \t theta:  [-2.62019989  0.76030299  1.17192382]\n",
      "cost : 0.32914743190809553 \t theta:  [-2.6202477   0.7603135   1.17192734]\n",
      "cost : 0.32914743173467104 \t theta:  [-2.62028817  0.7603224   1.17193031]\n",
      "cost : 0.32914743161036053 \t theta:  [-2.62032243  0.76032993  1.17193283]\n",
      "cost : 0.32914743152125453 \t theta:  [-2.62035144  0.76033631  1.17193496]\n",
      "cost : 0.329147431457383 \t theta:  [-2.620376    0.76034172  1.17193677]\n",
      "cost : 0.32914743141159947 \t theta:  [-2.62039679  0.76034629  1.1719383 ]\n",
      "cost : 0.3291474313787815 \t theta:  [-2.6204144   0.76035016  1.17193959]\n",
      "cost : 0.32914743135525737 \t theta:  [-2.62042931  0.76035344  1.17194069]\n",
      "cost : 0.32914743133839475 \t theta:  [-2.62044192  0.76035621  1.17194162]\n",
      "cost : 0.3291474313263077 \t theta:  [-2.62045261  0.76035856  1.1719424 ]\n",
      "cost : 0.32914743131764346 \t theta:  [-2.62046166  0.76036055  1.17194307]\n",
      "cost : 0.3291474313114328 \t theta:  [-2.62046931  0.76036224  1.17194363]\n",
      "cost : 0.3291474313069809 \t theta:  [-2.6204758   0.76036366  1.17194411]\n",
      "cost : 0.32914743130378965 \t theta:  [-2.62048129  0.76036487  1.17194451]\n",
      "cost : 0.3291474313015023 \t theta:  [-2.62048594  0.76036589  1.17194485]\n",
      "cost : 0.3291474312998626 \t theta:  [-2.62048987  0.76036676  1.17194514]\n",
      "cost : 0.3291474312986872 \t theta:  [-2.6204932   0.76036749  1.17194539]\n",
      "cost : 0.3291474312978447 \t theta:  [-2.62049602  0.76036811  1.1719456 ]\n",
      "cost : 0.3291474312972407 \t theta:  [-2.62049841  0.76036864  1.17194577]\n",
      "cost : 0.3291474312968079 \t theta:  [-2.62050043  0.76036908  1.17194592]\n",
      "cost : 0.3291474312964975 \t theta:  [-2.62050215  0.76036946  1.17194605]\n",
      "cost : 0.32914743129627505 \t theta:  [-2.62050359  0.76036978  1.17194615]\n",
      "cost : 0.3291474312961156 \t theta:  [-2.62050482  0.76037005  1.17194624]\n",
      "cost : 0.3291474312960013 \t theta:  [-2.62050586  0.76037027  1.17194632]\n",
      "cost : 0.3291474312959193 \t theta:  [-2.62050674  0.76037047  1.17194638]\n",
      "cost : 0.32914743129586066 \t theta:  [-2.62050749  0.76037063  1.17194644]\n",
      "cost : 0.3291474312958186 \t theta:  [-2.62050812  0.76037077  1.17194649]\n",
      "cost : 0.3291474312957884 \t theta:  [-2.62050865  0.76037089  1.17194652]\n",
      "cost : 0.32914743129576673 \t theta:  [-2.6205091   0.76037099  1.17194656]\n",
      "cost : 0.3291474312957512 \t theta:  [-2.62050948  0.76037107  1.17194659]\n",
      "cost : 0.32914743129574026 \t theta:  [-2.62050981  0.76037114  1.17194661]\n",
      "cost : 0.3291474312957322 \t theta:  [-2.62051008  0.7603712   1.17194663]\n",
      "cost : 0.32914743129572643 \t theta:  [-2.62051031  0.76037125  1.17194665]\n",
      "cost : 0.3291474312957224 \t theta:  [-2.62051051  0.7603713   1.17194666]\n",
      "cost : 0.32914743129571944 \t theta:  [-2.62051068  0.76037133  1.17194667]\n",
      "cost : 0.32914743129571733 \t theta:  [-2.62051082  0.76037136  1.17194668]\n",
      "cost : 0.3291474312957158 \t theta:  [-2.62051094  0.76037139  1.17194669]\n",
      "cost : 0.32914743129571467 \t theta:  [-2.62051104  0.76037141  1.1719467 ]\n",
      "cost : 0.32914743129571394 \t theta:  [-2.62051112  0.76037143  1.17194671]\n",
      "cost : 0.32914743129571344 \t theta:  [-2.6205112   0.76037145  1.17194671]\n",
      "cost : 0.32914743129571294 \t theta:  [-2.62051126  0.76037146  1.17194672]\n",
      "cost : 0.3291474312957127 \t theta:  [-2.62051131  0.76037147  1.17194672]\n",
      "cost : 0.3291474312957126 \t theta:  [-2.62051135  0.76037148  1.17194672]\n",
      "cost : 0.32914743129571244 \t theta:  [-2.62051139  0.76037149  1.17194673]\n",
      "cost : 0.3291474312957122 \t theta:  [-2.62051142  0.7603715   1.17194673]\n",
      "cost : 0.3291474312957122 \t theta:  [-2.62051145  0.7603715   1.17194673]\n",
      "cost : 0.32914743129571217 \t theta:  [-2.62051147  0.76037151  1.17194673]\n",
      "[-2.62051149  0.76037151  1.17194673]\n"
     ]
    },
    {
     "data": {
      "image/png": "[encoded data removed]",
      "text/plain": [
       "<Figure size 432x288 with 1 Axes>"
      ]
     },
     "metadata": {
      "needs_background": "light"
     },
     "output_type": "display_data"
    }
   ],
   "source": [
    "import numpy as np\n",
    "import matplotlib.pyplot as plt\n",
    "from numpy.linalg import inv\n",
    "\n",
    "class LogisticRegression:\n",
    "    def __init__(self, learning_rate=0.01, threshold=0.01, iterations=10000, train_intercept=True, verbose=False):\n",
    "        self._learning_rate = learning_rate  # learning rate\n",
    "        self._iterations = iterations  # number of iterations\n",
    "        self._threshold = threshold  # threshold\n",
    "        self._train_intercept = train_intercept  # whether to use intercept\n",
    "        self._verbose = verbose  # Whether to print ongoing process\n",
    "\n",
    "    # return theta coefficient\n",
    "    def get_theta(self):\n",
    "        return self._theta\n",
    "\n",
    "    # intercept\n",
    "    def add_intercept(self, x_data):\n",
    "        return np.c_[np.ones((x_data.shape[0],1)),x_data]\n",
    "\n",
    "    \n",
    "    def sigmoid(self, z):\n",
    "        return 1 / (1 + np.exp(-z))\n",
    "\n",
    "    def cost(self, h, y):\n",
    "        return (-y * np.log(h) - (1 - y) * np.log(1 - h)).mean()\n",
    "\n",
    "\n",
    "    def train(self, x_data, y_data):\n",
    "        totalNum, totalCol = np.shape(x_data)\n",
    "\n",
    "        if self._train_intercept:\n",
    "            x_data = self.add_intercept(x_data)\n",
    "\n",
    "        \n",
    "        self._theta = np.zeros(x_data.shape[1])\n",
    "\n",
    "        for i in range(self._iterations):\n",
    "            hypothesis = self.sigmoid(np.dot(x_data, self._theta))\n",
    "\n",
    "            # difference between hypothesis and real data\n",
    "            diff = hypothesis - y_data\n",
    "\n",
    "            # cost function\n",
    "            cost = self.cost(hypothesis, y_data)\n",
    "            gradient = np.dot(np.transpose(x_data), diff) / totalNum\n",
    "\n",
    "            # Update theta using gradient\n",
    "            self._theta -= self._learning_rate * gradient\n",
    "\n",
    "            # Terminate the loop when cost < threshold\n",
    "            if cost < self._threshold:\n",
    "                return False\n",
    "\n",
    "            # Print cost and theta when loop % 100 == 0\n",
    "            if (self._verbose == True and i % 100 == 0):\n",
    "                print('cost :', cost, '\\t theta: ', self._theta)\n",
    "\n",
    "    def plotGraph(self, x_data, y_data, theta):\n",
    "        plt.title(\"Logistic Regression - Gradient Descent\")\n",
    "        plt.plot(x_data[np.flatnonzero(y_data == 1), 0], x_data[np.flatnonzero(y_data == 1), 1], 'ro')\n",
    "        plt.plot(x_data[np.flatnonzero(y_data == 0), 0], x_data[np.flatnonzero(y_data == 0), 1], 'bo')\n",
    "        plotX = [np.ndarray.min(x_data), np.ndarray.max(x_data)]\n",
    "        plotY = np.subtract(np.multiply(-(theta[2]/theta[1]), plotX), theta[0]/theta[1])\n",
    "        plt.plot(plotX, plotY, 'g-')\n",
    "        plt.show()\n",
    "  \n",
    "\n",
    "\n",
    "if __name__ == \"__main__\":\n",
    "    X = np.loadtxt('hw6x.dat')\n",
    "    y = np.loadtxt('hw6y.dat')\n",
    "\n",
    "    # Training\n",
    "    model = LogisticRegression(learning_rate=0.1, threshold=0.01, iterations=10000, verbose=True)\n",
    "    model.train(X, y)\n",
    "    print(model.get_theta())\n",
    "    model.plotGraph(X, y, model.get_theta())\n",
    "\n"
   ]
  },
  {
   "cell_type": "markdown",
   "metadata": {},
   "source": [
    "## Q2\n",
    "What are the coefficients 𝜃 resulting from your fit?\n"
   ]
  },
  {
   "cell_type": "markdown",
   "metadata": {},
   "source": [
    "Answer: According to the program, coefficient is [-2.62051149  0.76037151  1.17194673]"
   ]
  },
  {
   "cell_type": "markdown",
   "metadata": {},
   "source": [
    "## Newton's method"
   ]
  },
  {
   "cell_type": "code",
   "execution_count": 12,
   "metadata": {},
   "outputs": [],
   "source": [
    "X = np.loadtxt('hw6x.dat')\n",
    "y = np.loadtxt('hw6y.dat')"
   ]
  },
  {
   "cell_type": "code",
   "execution_count": 13,
   "metadata": {},
   "outputs": [],
   "source": [
    "totalNum, totalCol = np.shape(X)"
   ]
  },
  {
   "cell_type": "code",
   "execution_count": 14,
   "metadata": {},
   "outputs": [],
   "source": [
    "x_data = add_intercept(X)\n",
    "theta = np.zeros(x_data.shape[1])\n",
    "x_data = np.transpose(x_data)\n",
    "y_data = np.array(y)"
   ]
  },
  {
   "cell_type": "code",
   "execution_count": 15,
   "metadata": {},
   "outputs": [],
   "source": [
    "def sigmoid(z):\n",
    "        return 1 / (1 + np.exp(-z))\n",
    "\n",
    "def cost(h, y):\n",
    "    return (-y * np.log(h) - (1 - y) * np.log(1 - h)).mean()"
   ]
  },
  {
   "cell_type": "code",
   "execution_count": 16,
   "metadata": {},
   "outputs": [],
   "source": [
    "hypothesis = sigmoid(np.dot(np.transpose(theta), x_data))\n",
    "diff = hypothesis - y_data\n",
    "cost = cost(hypothesis, y_data)"
   ]
  },
  {
   "cell_type": "markdown",
   "metadata": {},
   "source": [
    "Use the sigmoid function and cost function like the gradient descent method "
   ]
  },
  {
   "cell_type": "code",
   "execution_count": 17,
   "metadata": {},
   "outputs": [],
   "source": [
    "H = np.dot(hypothesis*(1 - hypothesis)*(x_data), x_data.T) / totalNum\n",
    "dJ = np.sum(diff*x_data, axis=1) / totalNum\n",
    "gradient = np.dot(inv(H), dJ)"
   ]
  },
  {
   "cell_type": "markdown",
   "metadata": {},
   "source": [
    "#### Newton's method\n",
    "$$\n",
    "x_{t+1} = x_t - \\frac{f'(x)}{f''(x)}\n",
    "$$"
   ]
  },
  {
   "cell_type": "markdown",
   "metadata": {},
   "source": [
    "So, we can write down the equation like below\n",
    "$$\n",
    "\\theta = \\theta - \\frac{J'(\\theta)}{J''(\\theta)} = \\theta - \\frac{J'(\\theta)}{H}=\\theta-H^{-1}J'(\\theta)\n",
    "$$"
   ]
  },
  {
   "cell_type": "markdown",
   "metadata": {},
   "source": [
    "where\n",
    "$$\n",
    "H_{ij}=\\frac{\\theta^2J(\\theta)}{\\partial\\theta_i\\theta_j}\n",
    "$$"
   ]
  },
  {
   "cell_type": "markdown",
   "metadata": {},
   "source": [
    "So, we can conclude\n",
    "$$\n",
    "J'(\\theta) = \\frac{1}{m}\\sum_{i=1}^{m}(hx_i-y_i)x_i\n",
    "$$"
   ]
  },
  {
   "cell_type": "markdown",
   "metadata": {},
   "source": [
    "$$\n",
    "H = \\frac{1}{m}\\sum_{i=1}^{m}hx_i(1-hx_i)x_i(x_i)^T\n",
    "$$"
   ]
  },
  {
   "cell_type": "code",
   "execution_count": 18,
   "metadata": {},
   "outputs": [],
   "source": [
    "theta = theta - np.transpose(np.array([gradient]))"
   ]
  },
  {
   "cell_type": "code",
   "execution_count": 19,
   "metadata": {},
   "outputs": [
    {
     "name": "stdout",
     "output_type": "stream",
     "text": [
      "cost : 0.6931471805599453 \t theta:  [-1.50983811  0.43509696  0.62161752]\n"
     ]
    }
   ],
   "source": [
    "print('cost :', cost, '\\t theta: ', theta[:, 0])"
   ]
  },
  {
   "cell_type": "markdown",
   "metadata": {},
   "source": [
    "An entire code for the newton's method is below"
   ]
  },
  {
   "cell_type": "code",
   "execution_count": 20,
   "metadata": {},
   "outputs": [
    {
     "name": "stdout",
     "output_type": "stream",
     "text": [
      "cost : 0.6931471805599453 \t theta:  [-1.50983811  0.43509696  0.62161752]\n",
      "cost : 0.37472470757603904 \t theta:  [-2.21834632  0.64372727  0.95944716]\n",
      "cost : 0.3342501357695513 \t theta:  [-2.55431051  0.74137714  1.13493588]\n",
      "cost : 0.32928119947970075 \t theta:  [-2.61847133  0.75979248  1.1707512 ]\n",
      "cost : 0.32914756442755344 \t theta:  [-2.62050954  0.76037096  1.17194549]\n",
      "cost : 0.3291474312958551 \t theta:  [-2.6205116   0.76037154  1.17194674]\n",
      "cost : 0.32914743129571206 \t theta:  [-2.6205116   0.76037154  1.17194674]\n",
      "cost : 0.32914743129571195 \t theta:  [-2.6205116   0.76037154  1.17194674]\n",
      "cost : 0.32914743129571206 \t theta:  [-2.6205116   0.76037154  1.17194674]\n",
      "cost : 0.329147431295712 \t theta:  [-2.6205116   0.76037154  1.17194674]\n",
      "[-2.6205116   0.76037154  1.17194674]\n"
     ]
    },
    {
     "data": {
      "image/png": "[encoded data removed]",
      "text/plain": [
       "<Figure size 432x288 with 1 Axes>"
      ]
     },
     "metadata": {
      "needs_background": "light"
     },
     "output_type": "display_data"
    }
   ],
   "source": [
    "import numpy as np\n",
    "import matplotlib.pyplot as plt\n",
    "from numpy.linalg import inv\n",
    "\n",
    "class LogisticRegression:\n",
    "    def __init__(self, learning_rate=0.01, threshold=0.01, iterations=10, train_intercept=True):\n",
    "        self._learning_rate = learning_rate  # learning rate\n",
    "        self._iterations = iterations  # number of iteration\n",
    "        self._threshold = threshold  # threshold\n",
    "        self._train_intercept = train_intercept  # whether to use intercept\n",
    "        \n",
    "\n",
    "    # return theta coefficient\n",
    "    def get_theta(self):\n",
    "        return self._theta\n",
    "\n",
    "    # intercept\n",
    "    def add_intercept(self, x_data):\n",
    "        return np.c_[np.ones((x_data.shape[0],1)),x_data]\n",
    "\n",
    "    \n",
    "    def sigmoid(self, z):\n",
    "        return 1 / (1 + np.exp(-z))\n",
    "\n",
    "    def cost(self, h, y):\n",
    "        return (-y * np.log(h) - (1 - y) * np.log(1 - h)).mean()\n",
    "\n",
    "    def train(self, x_data, y_data):\n",
    "        totalNum, totalCol = np.shape(x_data)\n",
    "\n",
    "        if self._train_intercept:\n",
    "            x_data = self.add_intercept(x_data)\n",
    "\n",
    "        \n",
    "        self._theta = np.zeros(x_data.shape[1])\n",
    "        x_data = np.transpose(x_data)\n",
    "        y_data = np.array(y_data)\n",
    "        \n",
    "\n",
    "        for i in range(self._iterations):\n",
    "            hypothesis = self.sigmoid(np.dot(np.transpose(self._theta), x_data))\n",
    "\n",
    "            # difference between hypothesis and real data\n",
    "            diff = hypothesis - y_data\n",
    "\n",
    "            # cost function\n",
    "            cost = self.cost(hypothesis, y_data)\n",
    "            H = np.dot(hypothesis*(1 - hypothesis)*(x_data), x_data.T) / totalNum\n",
    "            dJ = np.sum(diff*x_data, axis=1) / totalNum\n",
    "            gradient = np.dot(inv(H), dJ)\n",
    "\n",
    "            # Update theta\n",
    "            self._theta = self._theta - np.transpose(np.array([gradient]))\n",
    "\n",
    "            print('cost :', cost, '\\t theta: ', self._theta[:, 0])\n",
    "\n",
    "\n",
    "    def plotGraph(self, x_data, y_data, theta):\n",
    "        plt.title(\"Logistic Regression - Newton's method\")\n",
    "        plt.plot(x_data[np.flatnonzero(y_data == 1), 0], x_data[np.flatnonzero(y_data == 1), 1], 'ro')\n",
    "        plt.plot(x_data[np.flatnonzero(y_data == 0), 0], x_data[np.flatnonzero(y_data == 0), 1], 'bo')\n",
    "        plotX = [np.ndarray.min(x_data), np.ndarray.max(x_data)]\n",
    "        plotY = np.subtract(np.multiply(-(theta[2][0]/theta[1][0]), plotX), theta[0][0]/theta[1][0])\n",
    "        plt.plot(plotX, plotY, 'g-')\n",
    "        plt.show()\n",
    "    \n",
    "\n",
    "\n",
    "if __name__ == \"__main__\":\n",
    "    X = np.loadtxt('hw6x.dat')\n",
    "    y = np.loadtxt('hw6y.dat')\n",
    "\n",
    "    # Training\n",
    "    model = LogisticRegression(learning_rate=0.1, threshold=0.01, iterations=10)\n",
    "    model.train(X, y)\n",
    "    print(model.get_theta()[:,0])\n",
    "    model.plotGraph(X, y, model.get_theta())\n"
   ]
  },
  {
   "cell_type": "markdown",
   "metadata": {},
   "source": [
    "## Q3\n",
    "Compare the overall running time and number of iterations needed to converge to the same precision."
   ]
  },
  {
   "cell_type": "markdown",
   "metadata": {},
   "source": [
    "Answer: Overall running time: Logistic Regression using newton's method is much faster than Logistic Regression using gradient descent method. The coefficient converges after 5 iterations"
   ]
  },
  {
   "cell_type": "markdown",
   "metadata": {},
   "source": [
    "## Q4\n",
    "Plot the training data. Also plot on the same figure the decision boundary fit by logistic regression"
   ]
  },
  {
   "cell_type": "markdown",
   "metadata": {},
   "source": [
    "Answer: Please check above. Just in case, I attached the graph with all homework files"
   ]
  },
  {
   "cell_type": "code",
   "execution_count": null,
   "metadata": {},
   "outputs": [],
   "source": []
  }
 ],
 "metadata": {
  "kernelspec": {
   "display_name": "Python 3",
   "language": "python",
   "name": "python3"
  },
  "language_info": {
   "codemirror_mode": {
    "name": "ipython",
    "version": 3
   },
   "file_extension": ".py",
   "mimetype": "text/x-python",
   "name": "python",
   "nbconvert_exporter": "python",
   "pygments_lexer": "ipython3",
   "version": "3.7.1"
  }
 },
 "nbformat": 4,
 "nbformat_minor": 2
}
